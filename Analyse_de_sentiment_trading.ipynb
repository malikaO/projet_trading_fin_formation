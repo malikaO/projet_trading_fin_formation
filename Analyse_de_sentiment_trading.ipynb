{
 "cells": [
  {
   "cell_type": "markdown",
   "metadata": {},
   "source": [
    "# Analyse des sentiments pour la  finance\n",
    "\n",
    "L'analyse du sentiment financier est utilisée pour extraire des informations à partir des actualités, des médias sociaux, des rapports financiers et des données alternatives pour l'investissement, le trading, la gestion des risques, les opérations dans les institutions financières et essentiellement tout ce qui concerne la finance. Dans de nombreux cas, il est devenu inefficace car de nombreux acteurs du marché le comprennent et ont amélioré cette technique.\n"
   ]
  },
  {
   "cell_type": "markdown",
   "metadata": {},
   "source": [
    "Nous voulons prédire le cours des actions avec les titres des actualités et des articles.\n",
    "On a récupérer des articles sur nos 3 entreprises sur la même période que les données sur les prix.\n",
    "\n",
    "Voici les étapes pour exécuter notre projet d'analyse des sentiments:\n",
    "\n",
    "- Rassembler les titres et les dates des articles\n",
    "\n",
    "- Importer et nettoyer les données (traitement de texte)\n",
    "\n",
    "- Exécutez une analyse des sentiments et créez un index de score\n",
    "\n",
    "- Corréler l'indice de score décalé avec les prix\n"
   ]
  },
  {
   "cell_type": "code",
   "execution_count": 1,
   "metadata": {},
   "outputs": [],
   "source": [
    "import pandas as pd\n",
    "import numpy as np\n",
    "import re\n",
    "from nltk.sentiment.vader import SentimentIntensityAnalyzer\n",
    "import nltk\n",
    "#from textblob import TexBlob\n",
    "from urllib.request import Request, urlopen\n",
    "import json\n",
    "import pandas as pd \n",
    "from sklearn.model_selection import train_test_split\n",
    "from sklearn.discriminant_analysis import LinearDiscriminantAnalysis\n",
    "from sklearn.metrics import classification_report\n",
    "import requests\n",
    "from bs4 import BeautifulSoup"
   ]
  },
  {
   "cell_type": "markdown",
   "metadata": {},
   "source": [
    "## Rassembler les titres des articles"
   ]
  },
  {
   "cell_type": "code",
   "execution_count": 2,
   "metadata": {},
   "outputs": [],
   "source": [
    "df_mzn = pd.read_csv('amazon_News2.csv')\n",
    "df_goog = pd.read_csv('google_News2.csv')\n",
    "df_msft = pd.read_csv('microsoft_News2.csv')"
   ]
  },
  {
   "cell_type": "code",
   "execution_count": 3,
   "metadata": {},
   "outputs": [
    {
     "data": {
      "text/html": [
       "<div>\n",
       "<style scoped>\n",
       "    .dataframe tbody tr th:only-of-type {\n",
       "        vertical-align: middle;\n",
       "    }\n",
       "\n",
       "    .dataframe tbody tr th {\n",
       "        vertical-align: top;\n",
       "    }\n",
       "\n",
       "    .dataframe thead th {\n",
       "        text-align: right;\n",
       "    }\n",
       "</style>\n",
       "<table border=\"1\" class=\"dataframe\">\n",
       "  <thead>\n",
       "    <tr style=\"text-align: right;\">\n",
       "      <th></th>\n",
       "      <th>Unnamed: 0</th>\n",
       "      <th>Date</th>\n",
       "      <th>Title</th>\n",
       "    </tr>\n",
       "  </thead>\n",
       "  <tbody>\n",
       "    <tr>\n",
       "      <th>0</th>\n",
       "      <td>0</td>\n",
       "      <td>2020-10-01</td>\n",
       "      <td>Datadog price target lifted on Microsoft partn...</td>\n",
       "    </tr>\n",
       "    <tr>\n",
       "      <th>1</th>\n",
       "      <td>1</td>\n",
       "      <td>2020-09-21</td>\n",
       "      <td>Analog Devices teams with Microsoft on 3D prod...</td>\n",
       "    </tr>\n",
       "    <tr>\n",
       "      <th>2</th>\n",
       "      <td>2</td>\n",
       "      <td>2020-09-08</td>\n",
       "      <td>Microsoft Teams, NFL deepen gameday partnership</td>\n",
       "    </tr>\n",
       "    <tr>\n",
       "      <th>3</th>\n",
       "      <td>3</td>\n",
       "      <td>2020-09-05</td>\n",
       "      <td>Microsoft teams up with BP to achieve net zero...</td>\n",
       "    </tr>\n",
       "    <tr>\n",
       "      <th>4</th>\n",
       "      <td>4</td>\n",
       "      <td>2020-09-11</td>\n",
       "      <td>Microsoft targets raised ahead of earnings</td>\n",
       "    </tr>\n",
       "  </tbody>\n",
       "</table>\n",
       "</div>"
      ],
      "text/plain": [
       "   Unnamed: 0        Date                                              Title\n",
       "0           0  2020-10-01  Datadog price target lifted on Microsoft partn...\n",
       "1           1  2020-09-21  Analog Devices teams with Microsoft on 3D prod...\n",
       "2           2  2020-09-08    Microsoft Teams, NFL deepen gameday partnership\n",
       "3           3  2020-09-05  Microsoft teams up with BP to achieve net zero...\n",
       "4           4  2020-09-11         Microsoft targets raised ahead of earnings"
      ]
     },
     "execution_count": 3,
     "metadata": {},
     "output_type": "execute_result"
    }
   ],
   "source": [
    "df_msft.head()"
   ]
  },
  {
   "cell_type": "code",
   "execution_count": 4,
   "metadata": {},
   "outputs": [],
   "source": [
    "# Suppression de la première colonne\n",
    "df_mzn = df_mzn.drop(\"Unnamed: 0\", axis = 1)\n",
    "df_goog = df_goog.drop(\"Unnamed: 0\", axis = 1)\n",
    "df_msft = df_msft.drop(\"Unnamed: 0\", axis = 1)"
   ]
  },
  {
   "cell_type": "code",
   "execution_count": 5,
   "metadata": {},
   "outputs": [
    {
     "data": {
      "text/html": [
       "<div>\n",
       "<style scoped>\n",
       "    .dataframe tbody tr th:only-of-type {\n",
       "        vertical-align: middle;\n",
       "    }\n",
       "\n",
       "    .dataframe tbody tr th {\n",
       "        vertical-align: top;\n",
       "    }\n",
       "\n",
       "    .dataframe thead th {\n",
       "        text-align: right;\n",
       "    }\n",
       "</style>\n",
       "<table border=\"1\" class=\"dataframe\">\n",
       "  <thead>\n",
       "    <tr style=\"text-align: right;\">\n",
       "      <th></th>\n",
       "      <th>Date</th>\n",
       "      <th>Title</th>\n",
       "    </tr>\n",
       "  </thead>\n",
       "  <tbody>\n",
       "    <tr>\n",
       "      <th>0</th>\n",
       "      <td>2020-10-01</td>\n",
       "      <td>Datadog price target lifted on Microsoft partn...</td>\n",
       "    </tr>\n",
       "    <tr>\n",
       "      <th>1</th>\n",
       "      <td>2020-09-21</td>\n",
       "      <td>Analog Devices teams with Microsoft on 3D prod...</td>\n",
       "    </tr>\n",
       "    <tr>\n",
       "      <th>2</th>\n",
       "      <td>2020-09-08</td>\n",
       "      <td>Microsoft Teams, NFL deepen gameday partnership</td>\n",
       "    </tr>\n",
       "    <tr>\n",
       "      <th>3</th>\n",
       "      <td>2020-09-05</td>\n",
       "      <td>Microsoft teams up with BP to achieve net zero...</td>\n",
       "    </tr>\n",
       "    <tr>\n",
       "      <th>4</th>\n",
       "      <td>2020-09-11</td>\n",
       "      <td>Microsoft targets raised ahead of earnings</td>\n",
       "    </tr>\n",
       "  </tbody>\n",
       "</table>\n",
       "</div>"
      ],
      "text/plain": [
       "         Date                                              Title\n",
       "0  2020-10-01  Datadog price target lifted on Microsoft partn...\n",
       "1  2020-09-21  Analog Devices teams with Microsoft on 3D prod...\n",
       "2  2020-09-08    Microsoft Teams, NFL deepen gameday partnership\n",
       "3  2020-09-05  Microsoft teams up with BP to achieve net zero...\n",
       "4  2020-09-11         Microsoft targets raised ahead of earnings"
      ]
     },
     "execution_count": 5,
     "metadata": {},
     "output_type": "execute_result"
    }
   ],
   "source": [
    "df_msft.head()"
   ]
  },
  {
   "cell_type": "markdown",
   "metadata": {},
   "source": [
    "## Exécutez une analyse des sentiments et créez un index de score"
   ]
  },
  {
   "cell_type": "markdown",
   "metadata": {},
   "source": [
    "La partie suivante consiste à envoyer nos titres dans un analyseur de sentiment pour générer un score.\n",
    "\n",
    "VADER est un analyseur de sentiment qui est formé à l'aide des médias sociaux et des données d'actualité en utilisant une approche basée sur le lexique. Cela signifie qu'il examine les mots, la ponctuation, les phases, les émojis, etc. et les classe comme positifs ou négatifs.\n",
    "\n",
    "VADER signifie «Valence Aware Dictionary and sEntiment Reasoner»."
   ]
  },
  {
   "cell_type": "code",
   "execution_count": 6,
   "metadata": {},
   "outputs": [
    {
     "name": "stderr",
     "output_type": "stream",
     "text": [
      "[nltk_data] Downloading package vader_lexicon to\n",
      "[nltk_data]     C:\\Users\\ouizb\\AppData\\Roaming\\nltk_data...\n",
      "[nltk_data]   Package vader_lexicon is already up-to-date!\n"
     ]
    },
    {
     "data": {
      "text/plain": [
       "True"
      ]
     },
     "execution_count": 6,
     "metadata": {},
     "output_type": "execute_result"
    }
   ],
   "source": [
    "import nltk\n",
    "nltk.download('vader_lexicon')"
   ]
  },
  {
   "cell_type": "code",
   "execution_count": 7,
   "metadata": {},
   "outputs": [
    {
     "data": {
      "text/plain": [
       "{'neg': 0.0,\n",
       " 'neu': 1.0,\n",
       " 'pos': 0.0,\n",
       " 'compound': 0.0,\n",
       " 'headline': 'Datadog price target lifted on Microsoft partnership tailwind'}"
      ]
     },
     "execution_count": 7,
     "metadata": {},
     "output_type": "execute_result"
    }
   ],
   "source": [
    "from nltk.sentiment.vader import SentimentIntensityAnalyzer as SIA\n",
    "\n",
    "results = []\n",
    "\n",
    "for headline in df_msft['Title']:\n",
    "    pol_score = SIA().polarity_scores(headline) # run analysis\n",
    "    pol_score['headline'] = headline # add headlines for viewing\n",
    "    results.append(pol_score)\n",
    "\n",
    "results[0]"
   ]
  },
  {
   "cell_type": "markdown",
   "metadata": {},
   "source": [
    "Ensuite, nous concaténons cette liste à notre dataframe d'origine. Cependant, nous ne nous intéressons qu'aux valeurs de la variable «compound»."
   ]
  },
  {
   "cell_type": "code",
   "execution_count": 8,
   "metadata": {},
   "outputs": [],
   "source": [
    "df_msft['Score'] = pd.DataFrame(results)['compound']"
   ]
  },
  {
   "cell_type": "code",
   "execution_count": 9,
   "metadata": {},
   "outputs": [
    {
     "data": {
      "text/html": [
       "<div>\n",
       "<style scoped>\n",
       "    .dataframe tbody tr th:only-of-type {\n",
       "        vertical-align: middle;\n",
       "    }\n",
       "\n",
       "    .dataframe tbody tr th {\n",
       "        vertical-align: top;\n",
       "    }\n",
       "\n",
       "    .dataframe thead th {\n",
       "        text-align: right;\n",
       "    }\n",
       "</style>\n",
       "<table border=\"1\" class=\"dataframe\">\n",
       "  <thead>\n",
       "    <tr style=\"text-align: right;\">\n",
       "      <th></th>\n",
       "      <th>Date</th>\n",
       "      <th>Title</th>\n",
       "      <th>Score</th>\n",
       "    </tr>\n",
       "  </thead>\n",
       "  <tbody>\n",
       "    <tr>\n",
       "      <th>0</th>\n",
       "      <td>2020-10-01</td>\n",
       "      <td>Datadog price target lifted on Microsoft partn...</td>\n",
       "      <td>0.0000</td>\n",
       "    </tr>\n",
       "    <tr>\n",
       "      <th>1</th>\n",
       "      <td>2020-09-21</td>\n",
       "      <td>Analog Devices teams with Microsoft on 3D prod...</td>\n",
       "      <td>0.0000</td>\n",
       "    </tr>\n",
       "    <tr>\n",
       "      <th>2</th>\n",
       "      <td>2020-09-08</td>\n",
       "      <td>Microsoft Teams, NFL deepen gameday partnership</td>\n",
       "      <td>0.0000</td>\n",
       "    </tr>\n",
       "    <tr>\n",
       "      <th>3</th>\n",
       "      <td>2020-09-05</td>\n",
       "      <td>Microsoft teams up with BP to achieve net zero...</td>\n",
       "      <td>0.0000</td>\n",
       "    </tr>\n",
       "    <tr>\n",
       "      <th>4</th>\n",
       "      <td>2020-09-11</td>\n",
       "      <td>Microsoft targets raised ahead of earnings</td>\n",
       "      <td>0.0000</td>\n",
       "    </tr>\n",
       "    <tr>\n",
       "      <th>...</th>\n",
       "      <td>...</td>\n",
       "      <td>...</td>\n",
       "      <td>...</td>\n",
       "    </tr>\n",
       "    <tr>\n",
       "      <th>330</th>\n",
       "      <td>2016-10-03</td>\n",
       "      <td>Office iPad apps arriving ... eventually</td>\n",
       "      <td>0.0000</td>\n",
       "    </tr>\n",
       "    <tr>\n",
       "      <th>331</th>\n",
       "      <td>2014-06-19</td>\n",
       "      <td>IBM, Cisco make OpenStack cloud acquisitions</td>\n",
       "      <td>0.0000</td>\n",
       "    </tr>\n",
       "    <tr>\n",
       "      <th>332</th>\n",
       "      <td>2016-03-18</td>\n",
       "      <td>NBC Sports launches dedicated video-streaming ...</td>\n",
       "      <td>0.4588</td>\n",
       "    </tr>\n",
       "    <tr>\n",
       "      <th>333</th>\n",
       "      <td>2013-12-12</td>\n",
       "      <td>Barracuda down 23.8% after billings guidance c...</td>\n",
       "      <td>-0.2732</td>\n",
       "    </tr>\n",
       "    <tr>\n",
       "      <th>334</th>\n",
       "      <td>2016-07-12</td>\n",
       "      <td>Kantar: Android takes share in U.S., iPhone ga...</td>\n",
       "      <td>0.7456</td>\n",
       "    </tr>\n",
       "  </tbody>\n",
       "</table>\n",
       "<p>335 rows × 3 columns</p>\n",
       "</div>"
      ],
      "text/plain": [
       "           Date                                              Title   Score\n",
       "0    2020-10-01  Datadog price target lifted on Microsoft partn...  0.0000\n",
       "1    2020-09-21  Analog Devices teams with Microsoft on 3D prod...  0.0000\n",
       "2    2020-09-08    Microsoft Teams, NFL deepen gameday partnership  0.0000\n",
       "3    2020-09-05  Microsoft teams up with BP to achieve net zero...  0.0000\n",
       "4    2020-09-11         Microsoft targets raised ahead of earnings  0.0000\n",
       "..          ...                                                ...     ...\n",
       "330  2016-10-03           Office iPad apps arriving ... eventually  0.0000\n",
       "331  2014-06-19       IBM, Cisco make OpenStack cloud acquisitions  0.0000\n",
       "332  2016-03-18  NBC Sports launches dedicated video-streaming ...  0.4588\n",
       "333  2013-12-12  Barracuda down 23.8% after billings guidance c... -0.2732\n",
       "334  2016-07-12  Kantar: Android takes share in U.S., iPhone ga...  0.7456\n",
       "\n",
       "[335 rows x 3 columns]"
      ]
     },
     "execution_count": 9,
     "metadata": {},
     "output_type": "execute_result"
    }
   ],
   "source": [
    "df_msft"
   ]
  },
  {
   "cell_type": "code",
   "execution_count": 10,
   "metadata": {},
   "outputs": [
    {
     "data": {
      "text/plain": [
       "{'neg': 0.0,\n",
       " 'neu': 0.866,\n",
       " 'pos': 0.134,\n",
       " 'compound': 0.1779,\n",
       " 'headline': 'Amazon Music partners with Universal Music, Warner Music on Ultra HD remasters'}"
      ]
     },
     "execution_count": 10,
     "metadata": {},
     "output_type": "execute_result"
    }
   ],
   "source": [
    "from nltk.sentiment.vader import SentimentIntensityAnalyzer as SIA\n",
    "\n",
    "results = []\n",
    "\n",
    "for headline in df_mzn['Title']:\n",
    "    pol_score = SIA().polarity_scores(headline) # run analysis\n",
    "    pol_score['headline'] = headline # add headlines for viewing\n",
    "    results.append(pol_score)\n",
    "\n",
    "results[0]"
   ]
  },
  {
   "cell_type": "code",
   "execution_count": 11,
   "metadata": {},
   "outputs": [],
   "source": [
    "df_mzn['Score'] = pd.DataFrame(results)['compound']"
   ]
  },
  {
   "cell_type": "code",
   "execution_count": 12,
   "metadata": {},
   "outputs": [
    {
     "data": {
      "text/html": [
       "<div>\n",
       "<style scoped>\n",
       "    .dataframe tbody tr th:only-of-type {\n",
       "        vertical-align: middle;\n",
       "    }\n",
       "\n",
       "    .dataframe tbody tr th {\n",
       "        vertical-align: top;\n",
       "    }\n",
       "\n",
       "    .dataframe thead th {\n",
       "        text-align: right;\n",
       "    }\n",
       "</style>\n",
       "<table border=\"1\" class=\"dataframe\">\n",
       "  <thead>\n",
       "    <tr style=\"text-align: right;\">\n",
       "      <th></th>\n",
       "      <th>Date</th>\n",
       "      <th>Title</th>\n",
       "      <th>Score</th>\n",
       "    </tr>\n",
       "  </thead>\n",
       "  <tbody>\n",
       "    <tr>\n",
       "      <th>0</th>\n",
       "      <td>2020-10-01</td>\n",
       "      <td>Amazon Music partners with Universal Music, Wa...</td>\n",
       "      <td>0.1779</td>\n",
       "    </tr>\n",
       "    <tr>\n",
       "      <th>1</th>\n",
       "      <td>2020-09-22</td>\n",
       "      <td>Amazon to expand tech hubs, corporate offices,...</td>\n",
       "      <td>0.4588</td>\n",
       "    </tr>\n",
       "    <tr>\n",
       "      <th>2</th>\n",
       "      <td>2020-09-22</td>\n",
       "      <td>Amazon hires former Yahoo, Slack privacy head ...</td>\n",
       "      <td>0.1779</td>\n",
       "    </tr>\n",
       "    <tr>\n",
       "      <th>3</th>\n",
       "      <td>2020-09-16</td>\n",
       "      <td>Amazon's latest job spree: Another 100,000 wor...</td>\n",
       "      <td>0.0000</td>\n",
       "    </tr>\n",
       "    <tr>\n",
       "      <th>4</th>\n",
       "      <td>2020-08-26</td>\n",
       "      <td>Amazon targeted by German antitrust probe</td>\n",
       "      <td>0.1779</td>\n",
       "    </tr>\n",
       "    <tr>\n",
       "      <th>...</th>\n",
       "      <td>...</td>\n",
       "      <td>...</td>\n",
       "      <td>...</td>\n",
       "    </tr>\n",
       "    <tr>\n",
       "      <th>475</th>\n",
       "      <td>2018-11-05</td>\n",
       "      <td>S&amp;P, Dow post gains while Nasdaq slips</td>\n",
       "      <td>0.3400</td>\n",
       "    </tr>\n",
       "    <tr>\n",
       "      <th>476</th>\n",
       "      <td>2017-08-28</td>\n",
       "      <td>Morgan Stanley pulls bearish outlook for Roku;...</td>\n",
       "      <td>0.2960</td>\n",
       "    </tr>\n",
       "    <tr>\n",
       "      <th>477</th>\n",
       "      <td>2018-10-25</td>\n",
       "      <td>Premarket Losers as of 9:05 am (06/28/2018)</td>\n",
       "      <td>-0.5267</td>\n",
       "    </tr>\n",
       "    <tr>\n",
       "      <th>478</th>\n",
       "      <td>2018-06-21</td>\n",
       "      <td>Piper's fall survey: Instagram beats Snap in t...</td>\n",
       "      <td>0.0000</td>\n",
       "    </tr>\n",
       "    <tr>\n",
       "      <th>479</th>\n",
       "      <td>2019-02-01</td>\n",
       "      <td>International Paper has 25% upside - Barron's</td>\n",
       "      <td>0.0000</td>\n",
       "    </tr>\n",
       "  </tbody>\n",
       "</table>\n",
       "<p>480 rows × 3 columns</p>\n",
       "</div>"
      ],
      "text/plain": [
       "           Date                                              Title   Score\n",
       "0    2020-10-01  Amazon Music partners with Universal Music, Wa...  0.1779\n",
       "1    2020-09-22  Amazon to expand tech hubs, corporate offices,...  0.4588\n",
       "2    2020-09-22  Amazon hires former Yahoo, Slack privacy head ...  0.1779\n",
       "3    2020-09-16  Amazon's latest job spree: Another 100,000 wor...  0.0000\n",
       "4    2020-08-26          Amazon targeted by German antitrust probe  0.1779\n",
       "..          ...                                                ...     ...\n",
       "475  2018-11-05             S&P, Dow post gains while Nasdaq slips  0.3400\n",
       "476  2017-08-28  Morgan Stanley pulls bearish outlook for Roku;...  0.2960\n",
       "477  2018-10-25        Premarket Losers as of 9:05 am (06/28/2018) -0.5267\n",
       "478  2018-06-21  Piper's fall survey: Instagram beats Snap in t...  0.0000\n",
       "479  2019-02-01      International Paper has 25% upside - Barron's  0.0000\n",
       "\n",
       "[480 rows x 3 columns]"
      ]
     },
     "execution_count": 12,
     "metadata": {},
     "output_type": "execute_result"
    }
   ],
   "source": [
    "df_mzn"
   ]
  },
  {
   "cell_type": "code",
   "execution_count": 13,
   "metadata": {},
   "outputs": [
    {
     "data": {
      "text/plain": [
       "{'neg': 0.0,\n",
       " 'neu': 1.0,\n",
       " 'pos': 0.0,\n",
       " 'compound': 0.0,\n",
       " 'headline': 'Google pauses News Showcase launch in Australia over royalties spat'}"
      ]
     },
     "execution_count": 13,
     "metadata": {},
     "output_type": "execute_result"
    }
   ],
   "source": [
    "from nltk.sentiment.vader import SentimentIntensityAnalyzer as SIA\n",
    "\n",
    "results = []\n",
    "\n",
    "for headline in df_goog['Title']:\n",
    "    pol_score = SIA().polarity_scores(headline) # run analysis\n",
    "    pol_score['headline'] = headline # add headlines for viewing\n",
    "    results.append(pol_score)\n",
    "\n",
    "results[0]"
   ]
  },
  {
   "cell_type": "code",
   "execution_count": 14,
   "metadata": {},
   "outputs": [],
   "source": [
    "df_goog['Score'] = pd.DataFrame(results)['compound']"
   ]
  },
  {
   "cell_type": "code",
   "execution_count": 15,
   "metadata": {},
   "outputs": [
    {
     "data": {
      "text/html": [
       "<div>\n",
       "<style scoped>\n",
       "    .dataframe tbody tr th:only-of-type {\n",
       "        vertical-align: middle;\n",
       "    }\n",
       "\n",
       "    .dataframe tbody tr th {\n",
       "        vertical-align: top;\n",
       "    }\n",
       "\n",
       "    .dataframe thead th {\n",
       "        text-align: right;\n",
       "    }\n",
       "</style>\n",
       "<table border=\"1\" class=\"dataframe\">\n",
       "  <thead>\n",
       "    <tr style=\"text-align: right;\">\n",
       "      <th></th>\n",
       "      <th>Date</th>\n",
       "      <th>Title</th>\n",
       "      <th>Score</th>\n",
       "    </tr>\n",
       "  </thead>\n",
       "  <tbody>\n",
       "    <tr>\n",
       "      <th>0</th>\n",
       "      <td>2020-10-01</td>\n",
       "      <td>Google pauses News Showcase launch in Australi...</td>\n",
       "      <td>0.0000</td>\n",
       "    </tr>\n",
       "    <tr>\n",
       "      <th>1</th>\n",
       "      <td>2020-09-25</td>\n",
       "      <td>Microsoft's Bing wins slots in Google's EU mob...</td>\n",
       "      <td>0.5719</td>\n",
       "    </tr>\n",
       "    <tr>\n",
       "      <th>2</th>\n",
       "      <td>2020-08-26</td>\n",
       "      <td>Italy probes Apple, Google and Dropbox cloud s...</td>\n",
       "      <td>0.0000</td>\n",
       "    </tr>\n",
       "    <tr>\n",
       "      <th>3</th>\n",
       "      <td>2020-08-21</td>\n",
       "      <td>Facebook, Google withdraw FCC request for unde...</td>\n",
       "      <td>0.0000</td>\n",
       "    </tr>\n",
       "    <tr>\n",
       "      <th>4</th>\n",
       "      <td>2020-08-04</td>\n",
       "      <td>Samsung to make chips for Cisco, Google - report</td>\n",
       "      <td>0.0000</td>\n",
       "    </tr>\n",
       "    <tr>\n",
       "      <th>...</th>\n",
       "      <td>...</td>\n",
       "      <td>...</td>\n",
       "      <td>...</td>\n",
       "    </tr>\n",
       "    <tr>\n",
       "      <th>364</th>\n",
       "      <td>2011-12-28</td>\n",
       "      <td>Google (NASDAQ:GOOG) is having a hard time fin...</td>\n",
       "      <td>-0.1027</td>\n",
       "    </tr>\n",
       "    <tr>\n",
       "      <th>365</th>\n",
       "      <td>2008-06-04</td>\n",
       "      <td>Enterprise ogre: Oracle (NYSE:ORCL) buys Sales...</td>\n",
       "      <td>0.0000</td>\n",
       "    </tr>\n",
       "    <tr>\n",
       "      <th>366</th>\n",
       "      <td>2008-06-03</td>\n",
       "      <td>Google (NASDAQ:GOOG), Microsoft (NASDAQ:MSFT),...</td>\n",
       "      <td>0.0000</td>\n",
       "    </tr>\n",
       "    <tr>\n",
       "      <th>367</th>\n",
       "      <td>2018-07-13</td>\n",
       "      <td>YouTube TV expands virtually nationwide</td>\n",
       "      <td>0.1027</td>\n",
       "    </tr>\n",
       "    <tr>\n",
       "      <th>368</th>\n",
       "      <td>2017-06-02</td>\n",
       "      <td>Washington state sues over election ads</td>\n",
       "      <td>0.0000</td>\n",
       "    </tr>\n",
       "  </tbody>\n",
       "</table>\n",
       "<p>369 rows × 3 columns</p>\n",
       "</div>"
      ],
      "text/plain": [
       "           Date                                              Title   Score\n",
       "0    2020-10-01  Google pauses News Showcase launch in Australi...  0.0000\n",
       "1    2020-09-25  Microsoft's Bing wins slots in Google's EU mob...  0.5719\n",
       "2    2020-08-26  Italy probes Apple, Google and Dropbox cloud s...  0.0000\n",
       "3    2020-08-21  Facebook, Google withdraw FCC request for unde...  0.0000\n",
       "4    2020-08-04   Samsung to make chips for Cisco, Google - report  0.0000\n",
       "..          ...                                                ...     ...\n",
       "364  2011-12-28  Google (NASDAQ:GOOG) is having a hard time fin... -0.1027\n",
       "365  2008-06-04  Enterprise ogre: Oracle (NYSE:ORCL) buys Sales...  0.0000\n",
       "366  2008-06-03  Google (NASDAQ:GOOG), Microsoft (NASDAQ:MSFT),...  0.0000\n",
       "367  2018-07-13            YouTube TV expands virtually nationwide  0.1027\n",
       "368  2017-06-02            Washington state sues over election ads  0.0000\n",
       "\n",
       "[369 rows x 3 columns]"
      ]
     },
     "execution_count": 15,
     "metadata": {},
     "output_type": "execute_result"
    }
   ],
   "source": [
    "df_goog"
   ]
  },
  {
   "cell_type": "code",
   "execution_count": 16,
   "metadata": {},
   "outputs": [
    {
     "data": {
      "text/plain": [
       "(349,)"
      ]
     },
     "execution_count": 16,
     "metadata": {},
     "output_type": "execute_result"
    }
   ],
   "source": [
    "df_goog.Date.unique().shape"
   ]
  },
  {
   "cell_type": "markdown",
   "metadata": {},
   "source": [
    "##  Corréler l'indice de score décalé avec les prix\n",
    "\n",
    " Nous voulons comparer la relation entre les rendements des actions et notre score de sentiment. S'il existe une relation significative, nos scores de sentiment peuvent avoir une valeur prédictive."
   ]
  },
  {
   "cell_type": "markdown",
   "metadata": {},
   "source": [
    "### Agréger les scores de sentiment quotidiens\n",
    "\n",
    "Nous n'avons besoin que d'un seul score par jour pour comparer les prix quotidiens."
   ]
  },
  {
   "cell_type": "code",
   "execution_count": 17,
   "metadata": {},
   "outputs": [],
   "source": [
    "df_mzn = df_mzn.groupby(['Date']).sum()\n",
    "df_goog = df_goog.groupby(['Date']).sum()\n",
    "df_msft = df_msft.groupby(['Date']).sum()"
   ]
  },
  {
   "cell_type": "code",
   "execution_count": 18,
   "metadata": {},
   "outputs": [
    {
     "data": {
      "text/html": [
       "<div>\n",
       "<style scoped>\n",
       "    .dataframe tbody tr th:only-of-type {\n",
       "        vertical-align: middle;\n",
       "    }\n",
       "\n",
       "    .dataframe tbody tr th {\n",
       "        vertical-align: top;\n",
       "    }\n",
       "\n",
       "    .dataframe thead th {\n",
       "        text-align: right;\n",
       "    }\n",
       "</style>\n",
       "<table border=\"1\" class=\"dataframe\">\n",
       "  <thead>\n",
       "    <tr style=\"text-align: right;\">\n",
       "      <th></th>\n",
       "      <th>Score</th>\n",
       "    </tr>\n",
       "    <tr>\n",
       "      <th>Date</th>\n",
       "      <th></th>\n",
       "    </tr>\n",
       "  </thead>\n",
       "  <tbody>\n",
       "    <tr>\n",
       "      <th>2008-06-12</th>\n",
       "      <td>0.000</td>\n",
       "    </tr>\n",
       "    <tr>\n",
       "      <th>2008-06-18</th>\n",
       "      <td>0.000</td>\n",
       "    </tr>\n",
       "    <tr>\n",
       "      <th>2008-06-26</th>\n",
       "      <td>0.000</td>\n",
       "    </tr>\n",
       "    <tr>\n",
       "      <th>2008-07-02</th>\n",
       "      <td>0.000</td>\n",
       "    </tr>\n",
       "    <tr>\n",
       "      <th>2008-07-13</th>\n",
       "      <td>0.000</td>\n",
       "    </tr>\n",
       "    <tr>\n",
       "      <th>...</th>\n",
       "      <td>...</td>\n",
       "    </tr>\n",
       "    <tr>\n",
       "      <th>2020-09-18</th>\n",
       "      <td>-0.128</td>\n",
       "    </tr>\n",
       "    <tr>\n",
       "      <th>2020-09-21</th>\n",
       "      <td>0.000</td>\n",
       "    </tr>\n",
       "    <tr>\n",
       "      <th>2020-09-24</th>\n",
       "      <td>0.000</td>\n",
       "    </tr>\n",
       "    <tr>\n",
       "      <th>2020-09-30</th>\n",
       "      <td>0.000</td>\n",
       "    </tr>\n",
       "    <tr>\n",
       "      <th>2020-10-01</th>\n",
       "      <td>0.000</td>\n",
       "    </tr>\n",
       "  </tbody>\n",
       "</table>\n",
       "<p>310 rows × 1 columns</p>\n",
       "</div>"
      ],
      "text/plain": [
       "            Score\n",
       "Date             \n",
       "2008-06-12  0.000\n",
       "2008-06-18  0.000\n",
       "2008-06-26  0.000\n",
       "2008-07-02  0.000\n",
       "2008-07-13  0.000\n",
       "...           ...\n",
       "2020-09-18 -0.128\n",
       "2020-09-21  0.000\n",
       "2020-09-24  0.000\n",
       "2020-09-30  0.000\n",
       "2020-10-01  0.000\n",
       "\n",
       "[310 rows x 1 columns]"
      ]
     },
     "execution_count": 18,
     "metadata": {},
     "output_type": "execute_result"
    }
   ],
   "source": [
    "df_msft"
   ]
  },
  {
   "cell_type": "markdown",
   "metadata": {},
   "source": [
    "### Importez les prix  des entreprises et calculez les retours\n",
    "L'objectif de cette étape est d'obtenir les rendements quotidiens (et non les cours des actions)"
   ]
  },
  {
   "cell_type": "code",
   "execution_count": 19,
   "metadata": {},
   "outputs": [],
   "source": [
    "amzn_p = pd.read_csv(\"amazon2.csv\")\n",
    "goog_p = pd.read_csv(\"google2.csv\")\n",
    "msft_p = pd.read_csv(\"microsoft2.csv\")"
   ]
  },
  {
   "cell_type": "code",
   "execution_count": 20,
   "metadata": {
    "scrolled": true
   },
   "outputs": [
    {
     "data": {
      "text/html": [
       "<div>\n",
       "<style scoped>\n",
       "    .dataframe tbody tr th:only-of-type {\n",
       "        vertical-align: middle;\n",
       "    }\n",
       "\n",
       "    .dataframe tbody tr th {\n",
       "        vertical-align: top;\n",
       "    }\n",
       "\n",
       "    .dataframe thead th {\n",
       "        text-align: right;\n",
       "    }\n",
       "</style>\n",
       "<table border=\"1\" class=\"dataframe\">\n",
       "  <thead>\n",
       "    <tr style=\"text-align: right;\">\n",
       "      <th></th>\n",
       "      <th>Unnamed: 0</th>\n",
       "      <th>Date</th>\n",
       "      <th>Open</th>\n",
       "      <th>High</th>\n",
       "      <th>Low</th>\n",
       "      <th>Close</th>\n",
       "      <th>Volume</th>\n",
       "      <th>Dividends</th>\n",
       "      <th>Stock Splits</th>\n",
       "      <th>Mean_Price</th>\n",
       "    </tr>\n",
       "  </thead>\n",
       "  <tbody>\n",
       "    <tr>\n",
       "      <th>0</th>\n",
       "      <td>0</td>\n",
       "      <td>2010-09-30</td>\n",
       "      <td>160.01</td>\n",
       "      <td>160.93</td>\n",
       "      <td>155.60</td>\n",
       "      <td>157.06</td>\n",
       "      <td>7606000</td>\n",
       "      <td>0</td>\n",
       "      <td>0</td>\n",
       "      <td>158.265</td>\n",
       "    </tr>\n",
       "    <tr>\n",
       "      <th>1</th>\n",
       "      <td>1</td>\n",
       "      <td>2010-10-01</td>\n",
       "      <td>157.08</td>\n",
       "      <td>157.44</td>\n",
       "      <td>152.20</td>\n",
       "      <td>153.71</td>\n",
       "      <td>8683400</td>\n",
       "      <td>0</td>\n",
       "      <td>0</td>\n",
       "      <td>154.820</td>\n",
       "    </tr>\n",
       "    <tr>\n",
       "      <th>2</th>\n",
       "      <td>2</td>\n",
       "      <td>2010-10-04</td>\n",
       "      <td>153.95</td>\n",
       "      <td>155.96</td>\n",
       "      <td>152.79</td>\n",
       "      <td>155.39</td>\n",
       "      <td>5346500</td>\n",
       "      <td>0</td>\n",
       "      <td>0</td>\n",
       "      <td>154.375</td>\n",
       "    </tr>\n",
       "    <tr>\n",
       "      <th>3</th>\n",
       "      <td>3</td>\n",
       "      <td>2010-10-05</td>\n",
       "      <td>157.08</td>\n",
       "      <td>161.21</td>\n",
       "      <td>157.01</td>\n",
       "      <td>160.87</td>\n",
       "      <td>5620000</td>\n",
       "      <td>0</td>\n",
       "      <td>0</td>\n",
       "      <td>159.110</td>\n",
       "    </tr>\n",
       "    <tr>\n",
       "      <th>4</th>\n",
       "      <td>4</td>\n",
       "      <td>2010-10-06</td>\n",
       "      <td>160.60</td>\n",
       "      <td>160.68</td>\n",
       "      <td>154.60</td>\n",
       "      <td>155.40</td>\n",
       "      <td>6060800</td>\n",
       "      <td>0</td>\n",
       "      <td>0</td>\n",
       "      <td>157.640</td>\n",
       "    </tr>\n",
       "  </tbody>\n",
       "</table>\n",
       "</div>"
      ],
      "text/plain": [
       "   Unnamed: 0        Date    Open    High     Low   Close   Volume  Dividends  \\\n",
       "0           0  2010-09-30  160.01  160.93  155.60  157.06  7606000          0   \n",
       "1           1  2010-10-01  157.08  157.44  152.20  153.71  8683400          0   \n",
       "2           2  2010-10-04  153.95  155.96  152.79  155.39  5346500          0   \n",
       "3           3  2010-10-05  157.08  161.21  157.01  160.87  5620000          0   \n",
       "4           4  2010-10-06  160.60  160.68  154.60  155.40  6060800          0   \n",
       "\n",
       "   Stock Splits  Mean_Price  \n",
       "0             0     158.265  \n",
       "1             0     154.820  \n",
       "2             0     154.375  \n",
       "3             0     159.110  \n",
       "4             0     157.640  "
      ]
     },
     "execution_count": 20,
     "metadata": {},
     "output_type": "execute_result"
    }
   ],
   "source": [
    "amzn_p.head()"
   ]
  },
  {
   "cell_type": "code",
   "execution_count": 21,
   "metadata": {},
   "outputs": [],
   "source": [
    "# Je garde juste les colonnes dont j'ai besoin\n",
    "amzn= amzn_p[['Date','Close']]\n",
    "goog= goog_p[['Date','Close']]\n",
    "msft= msft_p[['Date','Close']]"
   ]
  },
  {
   "cell_type": "code",
   "execution_count": 22,
   "metadata": {},
   "outputs": [
    {
     "data": {
      "text/html": [
       "<div>\n",
       "<style scoped>\n",
       "    .dataframe tbody tr th:only-of-type {\n",
       "        vertical-align: middle;\n",
       "    }\n",
       "\n",
       "    .dataframe tbody tr th {\n",
       "        vertical-align: top;\n",
       "    }\n",
       "\n",
       "    .dataframe thead th {\n",
       "        text-align: right;\n",
       "    }\n",
       "</style>\n",
       "<table border=\"1\" class=\"dataframe\">\n",
       "  <thead>\n",
       "    <tr style=\"text-align: right;\">\n",
       "      <th></th>\n",
       "      <th>Date</th>\n",
       "      <th>Close</th>\n",
       "    </tr>\n",
       "  </thead>\n",
       "  <tbody>\n",
       "    <tr>\n",
       "      <th>0</th>\n",
       "      <td>2010-09-30</td>\n",
       "      <td>157.06</td>\n",
       "    </tr>\n",
       "    <tr>\n",
       "      <th>1</th>\n",
       "      <td>2010-10-01</td>\n",
       "      <td>153.71</td>\n",
       "    </tr>\n",
       "    <tr>\n",
       "      <th>2</th>\n",
       "      <td>2010-10-04</td>\n",
       "      <td>155.39</td>\n",
       "    </tr>\n",
       "    <tr>\n",
       "      <th>3</th>\n",
       "      <td>2010-10-05</td>\n",
       "      <td>160.87</td>\n",
       "    </tr>\n",
       "    <tr>\n",
       "      <th>4</th>\n",
       "      <td>2010-10-06</td>\n",
       "      <td>155.40</td>\n",
       "    </tr>\n",
       "  </tbody>\n",
       "</table>\n",
       "</div>"
      ],
      "text/plain": [
       "         Date   Close\n",
       "0  2010-09-30  157.06\n",
       "1  2010-10-01  153.71\n",
       "2  2010-10-04  155.39\n",
       "3  2010-10-05  160.87\n",
       "4  2010-10-06  155.40"
      ]
     },
     "execution_count": 22,
     "metadata": {},
     "output_type": "execute_result"
    }
   ],
   "source": [
    "amzn.head()"
   ]
  },
  {
   "cell_type": "markdown",
   "metadata": {},
   "source": [
    "Maintenant que nous avons nos prix, nous devons calculer nos rendements.\n",
    "Pour calculer les rendements quotidiens, nous divisons les prix d'aujourd'hui par ceux d'hier."
   ]
  },
  {
   "cell_type": "code",
   "execution_count": 23,
   "metadata": {},
   "outputs": [
    {
     "name": "stderr",
     "output_type": "stream",
     "text": [
      "C:\\Users\\ouizb\\anaconda3\\lib\\site-packages\\ipykernel_launcher.py:1: SettingWithCopyWarning: \n",
      "A value is trying to be set on a copy of a slice from a DataFrame.\n",
      "Try using .loc[row_indexer,col_indexer] = value instead\n",
      "\n",
      "See the caveats in the documentation: https://pandas.pydata.org/pandas-docs/stable/user_guide/indexing.html#returning-a-view-versus-a-copy\n",
      "  \"\"\"Entry point for launching an IPython kernel.\n",
      "C:\\Users\\ouizb\\anaconda3\\lib\\site-packages\\ipykernel_launcher.py:2: SettingWithCopyWarning: \n",
      "A value is trying to be set on a copy of a slice from a DataFrame.\n",
      "Try using .loc[row_indexer,col_indexer] = value instead\n",
      "\n",
      "See the caveats in the documentation: https://pandas.pydata.org/pandas-docs/stable/user_guide/indexing.html#returning-a-view-versus-a-copy\n",
      "  \n",
      "C:\\Users\\ouizb\\anaconda3\\lib\\site-packages\\ipykernel_launcher.py:3: SettingWithCopyWarning: \n",
      "A value is trying to be set on a copy of a slice from a DataFrame.\n",
      "Try using .loc[row_indexer,col_indexer] = value instead\n",
      "\n",
      "See the caveats in the documentation: https://pandas.pydata.org/pandas-docs/stable/user_guide/indexing.html#returning-a-view-versus-a-copy\n",
      "  This is separate from the ipykernel package so we can avoid doing imports until\n"
     ]
    }
   ],
   "source": [
    "amzn['Returns'] = amzn['Close']/amzn['Close'].shift(1) - 1 # calculate daily returns\n",
    "goog['Returns'] = goog['Close']/goog['Close'].shift(1) - 1\n",
    "msft['Returns'] = msft['Close']/msft['Close'].shift(1) - 1"
   ]
  },
  {
   "cell_type": "code",
   "execution_count": 24,
   "metadata": {},
   "outputs": [
    {
     "data": {
      "text/html": [
       "<div>\n",
       "<style scoped>\n",
       "    .dataframe tbody tr th:only-of-type {\n",
       "        vertical-align: middle;\n",
       "    }\n",
       "\n",
       "    .dataframe tbody tr th {\n",
       "        vertical-align: top;\n",
       "    }\n",
       "\n",
       "    .dataframe thead th {\n",
       "        text-align: right;\n",
       "    }\n",
       "</style>\n",
       "<table border=\"1\" class=\"dataframe\">\n",
       "  <thead>\n",
       "    <tr style=\"text-align: right;\">\n",
       "      <th></th>\n",
       "      <th>Date</th>\n",
       "      <th>Close</th>\n",
       "      <th>Returns</th>\n",
       "    </tr>\n",
       "  </thead>\n",
       "  <tbody>\n",
       "    <tr>\n",
       "      <th>0</th>\n",
       "      <td>2010-09-30</td>\n",
       "      <td>19.40</td>\n",
       "      <td>NaN</td>\n",
       "    </tr>\n",
       "    <tr>\n",
       "      <th>1</th>\n",
       "      <td>2010-10-01</td>\n",
       "      <td>19.32</td>\n",
       "      <td>-0.004124</td>\n",
       "    </tr>\n",
       "    <tr>\n",
       "      <th>2</th>\n",
       "      <td>2010-10-04</td>\n",
       "      <td>18.94</td>\n",
       "      <td>-0.019669</td>\n",
       "    </tr>\n",
       "    <tr>\n",
       "      <th>3</th>\n",
       "      <td>2010-10-05</td>\n",
       "      <td>19.29</td>\n",
       "      <td>0.018479</td>\n",
       "    </tr>\n",
       "    <tr>\n",
       "      <th>4</th>\n",
       "      <td>2010-10-06</td>\n",
       "      <td>19.36</td>\n",
       "      <td>0.003629</td>\n",
       "    </tr>\n",
       "  </tbody>\n",
       "</table>\n",
       "</div>"
      ],
      "text/plain": [
       "         Date  Close   Returns\n",
       "0  2010-09-30  19.40       NaN\n",
       "1  2010-10-01  19.32 -0.004124\n",
       "2  2010-10-04  18.94 -0.019669\n",
       "3  2010-10-05  19.29  0.018479\n",
       "4  2010-10-06  19.36  0.003629"
      ]
     },
     "execution_count": 24,
     "metadata": {},
     "output_type": "execute_result"
    }
   ],
   "source": [
    "msft.head()"
   ]
  },
  {
   "cell_type": "markdown",
   "metadata": {},
   "source": [
    "### Vérifiez la relation entre le score retardé et les rendements (quotidiennement)\n",
    "L'objectif de cette étape est de vérifier si le score de sentiment prédit les rendements futurs des actions.\n",
    "Un score de sentiment décalé d'un jour nous permet de comparer les titres des articles d'aujourd'hui aux rendements boursiers de demain."
   ]
  },
  {
   "cell_type": "markdown",
   "metadata": {},
   "source": [
    "#### Décalage du score de sentiment"
   ]
  },
  {
   "cell_type": "code",
   "execution_count": 25,
   "metadata": {},
   "outputs": [],
   "source": [
    "# Ce code décale toutes les données d'une ligne vers le bas.\n",
    "df_msft['Score(1)'] = df_msft['Score'].shift(1)\n",
    "df_goog['Score(1)'] = df_goog['Score'].shift(1)\n",
    "df_mzn['Score(1)'] = df_mzn['Score'].shift(1)"
   ]
  },
  {
   "cell_type": "code",
   "execution_count": 26,
   "metadata": {},
   "outputs": [
    {
     "data": {
      "text/html": [
       "<div>\n",
       "<style scoped>\n",
       "    .dataframe tbody tr th:only-of-type {\n",
       "        vertical-align: middle;\n",
       "    }\n",
       "\n",
       "    .dataframe tbody tr th {\n",
       "        vertical-align: top;\n",
       "    }\n",
       "\n",
       "    .dataframe thead th {\n",
       "        text-align: right;\n",
       "    }\n",
       "</style>\n",
       "<table border=\"1\" class=\"dataframe\">\n",
       "  <thead>\n",
       "    <tr style=\"text-align: right;\">\n",
       "      <th></th>\n",
       "      <th>Score</th>\n",
       "      <th>Score(1)</th>\n",
       "    </tr>\n",
       "    <tr>\n",
       "      <th>Date</th>\n",
       "      <th></th>\n",
       "      <th></th>\n",
       "    </tr>\n",
       "  </thead>\n",
       "  <tbody>\n",
       "    <tr>\n",
       "      <th>2008-06-03</th>\n",
       "      <td>0.0000</td>\n",
       "      <td>NaN</td>\n",
       "    </tr>\n",
       "    <tr>\n",
       "      <th>2008-06-04</th>\n",
       "      <td>0.0000</td>\n",
       "      <td>0.0000</td>\n",
       "    </tr>\n",
       "    <tr>\n",
       "      <th>2008-07-03</th>\n",
       "      <td>0.0000</td>\n",
       "      <td>0.0000</td>\n",
       "    </tr>\n",
       "    <tr>\n",
       "      <th>2008-08-15</th>\n",
       "      <td>0.4404</td>\n",
       "      <td>0.0000</td>\n",
       "    </tr>\n",
       "    <tr>\n",
       "      <th>2008-09-02</th>\n",
       "      <td>0.0000</td>\n",
       "      <td>0.4404</td>\n",
       "    </tr>\n",
       "  </tbody>\n",
       "</table>\n",
       "</div>"
      ],
      "text/plain": [
       "             Score  Score(1)\n",
       "Date                        \n",
       "2008-06-03  0.0000       NaN\n",
       "2008-06-04  0.0000    0.0000\n",
       "2008-07-03  0.0000    0.0000\n",
       "2008-08-15  0.4404    0.0000\n",
       "2008-09-02  0.0000    0.4404"
      ]
     },
     "execution_count": 26,
     "metadata": {},
     "output_type": "execute_result"
    }
   ],
   "source": [
    "df_goog.head()"
   ]
  },
  {
   "cell_type": "code",
   "execution_count": 27,
   "metadata": {},
   "outputs": [
    {
     "data": {
      "text/plain": [
       "349"
      ]
     },
     "execution_count": 27,
     "metadata": {},
     "output_type": "execute_result"
    }
   ],
   "source": [
    "df_goog.shape[0]"
   ]
  },
  {
   "cell_type": "code",
   "execution_count": 28,
   "metadata": {},
   "outputs": [
    {
     "data": {
      "text/plain": [
       "2519"
      ]
     },
     "execution_count": 28,
     "metadata": {},
     "output_type": "execute_result"
    }
   ],
   "source": [
    "goog.shape[0]"
   ]
  },
  {
   "cell_type": "markdown",
   "metadata": {},
   "source": [
    "Le nombre de lignes de notre indice de score n'est pas le même que le nombre de lignes de nos retours.\n",
    "Cela se produit car il y a des jours de bourse où il n'y a pas de nouvelles."
   ]
  },
  {
   "cell_type": "markdown",
   "metadata": {},
   "source": [
    "Nous devons faire correspondre les rendements quotidiens aux scores de sentiment correspondants"
   ]
  },
  {
   "cell_type": "code",
   "execution_count": 29,
   "metadata": {},
   "outputs": [],
   "source": [
    "# je mets la date en index\n",
    "amzn.index = amzn.Date\n",
    "goog.index = goog.Date\n",
    "msft.index = msft.Date"
   ]
  },
  {
   "cell_type": "code",
   "execution_count": 30,
   "metadata": {},
   "outputs": [],
   "source": [
    "amzn = amzn.drop(\"Date\", axis = 1)\n",
    "goog = goog.drop(\"Date\", axis = 1)\n",
    "msft = msft.drop(\"Date\", axis = 1)"
   ]
  },
  {
   "cell_type": "code",
   "execution_count": 31,
   "metadata": {},
   "outputs": [
    {
     "data": {
      "text/html": [
       "<div>\n",
       "<style scoped>\n",
       "    .dataframe tbody tr th:only-of-type {\n",
       "        vertical-align: middle;\n",
       "    }\n",
       "\n",
       "    .dataframe tbody tr th {\n",
       "        vertical-align: top;\n",
       "    }\n",
       "\n",
       "    .dataframe thead th {\n",
       "        text-align: right;\n",
       "    }\n",
       "</style>\n",
       "<table border=\"1\" class=\"dataframe\">\n",
       "  <thead>\n",
       "    <tr style=\"text-align: right;\">\n",
       "      <th></th>\n",
       "      <th>Close</th>\n",
       "      <th>Returns</th>\n",
       "    </tr>\n",
       "    <tr>\n",
       "      <th>Date</th>\n",
       "      <th></th>\n",
       "      <th></th>\n",
       "    </tr>\n",
       "  </thead>\n",
       "  <tbody>\n",
       "    <tr>\n",
       "      <th>2010-09-30</th>\n",
       "      <td>19.40</td>\n",
       "      <td>NaN</td>\n",
       "    </tr>\n",
       "    <tr>\n",
       "      <th>2010-10-01</th>\n",
       "      <td>19.32</td>\n",
       "      <td>-0.004124</td>\n",
       "    </tr>\n",
       "    <tr>\n",
       "      <th>2010-10-04</th>\n",
       "      <td>18.94</td>\n",
       "      <td>-0.019669</td>\n",
       "    </tr>\n",
       "    <tr>\n",
       "      <th>2010-10-05</th>\n",
       "      <td>19.29</td>\n",
       "      <td>0.018479</td>\n",
       "    </tr>\n",
       "    <tr>\n",
       "      <th>2010-10-06</th>\n",
       "      <td>19.36</td>\n",
       "      <td>0.003629</td>\n",
       "    </tr>\n",
       "  </tbody>\n",
       "</table>\n",
       "</div>"
      ],
      "text/plain": [
       "            Close   Returns\n",
       "Date                       \n",
       "2010-09-30  19.40       NaN\n",
       "2010-10-01  19.32 -0.004124\n",
       "2010-10-04  18.94 -0.019669\n",
       "2010-10-05  19.29  0.018479\n",
       "2010-10-06  19.36  0.003629"
      ]
     },
     "execution_count": 31,
     "metadata": {},
     "output_type": "execute_result"
    }
   ],
   "source": [
    "msft.head()"
   ]
  },
  {
   "cell_type": "markdown",
   "metadata": {},
   "source": [
    "Le code ci-dessus créera une nouvelle dateframe qui utilise les retours des actions comme référence et extraira le score de sentiment retardé approprié."
   ]
  },
  {
   "cell_type": "code",
   "execution_count": 32,
   "metadata": {},
   "outputs": [],
   "source": [
    "df3_amzn = pd.merge(amzn[['Returns']], df_mzn[['Score(1)']], left_index=True, right_index=True, how='left')\n",
    "df3_goog = pd.merge(goog[['Returns']], df_goog[['Score(1)']], left_index=True, right_index=True, how='left')\n",
    "df3_msft = pd.merge(msft[['Returns']], df_msft[['Score(1)']], left_index=True, right_index=True, how='left')"
   ]
  },
  {
   "cell_type": "code",
   "execution_count": 33,
   "metadata": {},
   "outputs": [
    {
     "data": {
      "text/html": [
       "<div>\n",
       "<style scoped>\n",
       "    .dataframe tbody tr th:only-of-type {\n",
       "        vertical-align: middle;\n",
       "    }\n",
       "\n",
       "    .dataframe tbody tr th {\n",
       "        vertical-align: top;\n",
       "    }\n",
       "\n",
       "    .dataframe thead th {\n",
       "        text-align: right;\n",
       "    }\n",
       "</style>\n",
       "<table border=\"1\" class=\"dataframe\">\n",
       "  <thead>\n",
       "    <tr style=\"text-align: right;\">\n",
       "      <th></th>\n",
       "      <th>Returns</th>\n",
       "      <th>Score(1)</th>\n",
       "    </tr>\n",
       "    <tr>\n",
       "      <th>Date</th>\n",
       "      <th></th>\n",
       "      <th></th>\n",
       "    </tr>\n",
       "  </thead>\n",
       "  <tbody>\n",
       "    <tr>\n",
       "      <th>2010-09-30</th>\n",
       "      <td>NaN</td>\n",
       "      <td>NaN</td>\n",
       "    </tr>\n",
       "    <tr>\n",
       "      <th>2010-10-01</th>\n",
       "      <td>-0.000305</td>\n",
       "      <td>NaN</td>\n",
       "    </tr>\n",
       "    <tr>\n",
       "      <th>2010-10-04</th>\n",
       "      <td>-0.006225</td>\n",
       "      <td>NaN</td>\n",
       "    </tr>\n",
       "    <tr>\n",
       "      <th>2010-10-05</th>\n",
       "      <td>0.030400</td>\n",
       "      <td>NaN</td>\n",
       "    </tr>\n",
       "    <tr>\n",
       "      <th>2010-10-06</th>\n",
       "      <td>-0.007199</td>\n",
       "      <td>NaN</td>\n",
       "    </tr>\n",
       "  </tbody>\n",
       "</table>\n",
       "</div>"
      ],
      "text/plain": [
       "             Returns  Score(1)\n",
       "Date                          \n",
       "2010-09-30       NaN       NaN\n",
       "2010-10-01 -0.000305       NaN\n",
       "2010-10-04 -0.006225       NaN\n",
       "2010-10-05  0.030400       NaN\n",
       "2010-10-06 -0.007199       NaN"
      ]
     },
     "execution_count": 33,
     "metadata": {},
     "output_type": "execute_result"
    }
   ],
   "source": [
    "df3_goog.head()"
   ]
  },
  {
   "cell_type": "code",
   "execution_count": 34,
   "metadata": {},
   "outputs": [],
   "source": [
    "# On va remplaçer tous les NaN par 0.\n",
    "df3_goog.fillna(0, inplace=True) \n",
    "df3_amzn.fillna(0, inplace=True)\n",
    "df3_msft.fillna(0, inplace=True)"
   ]
  },
  {
   "cell_type": "code",
   "execution_count": 35,
   "metadata": {
    "scrolled": true
   },
   "outputs": [
    {
     "data": {
      "text/html": [
       "<div>\n",
       "<style scoped>\n",
       "    .dataframe tbody tr th:only-of-type {\n",
       "        vertical-align: middle;\n",
       "    }\n",
       "\n",
       "    .dataframe tbody tr th {\n",
       "        vertical-align: top;\n",
       "    }\n",
       "\n",
       "    .dataframe thead th {\n",
       "        text-align: right;\n",
       "    }\n",
       "</style>\n",
       "<table border=\"1\" class=\"dataframe\">\n",
       "  <thead>\n",
       "    <tr style=\"text-align: right;\">\n",
       "      <th></th>\n",
       "      <th>Returns</th>\n",
       "      <th>Score(1)</th>\n",
       "    </tr>\n",
       "    <tr>\n",
       "      <th>Date</th>\n",
       "      <th></th>\n",
       "      <th></th>\n",
       "    </tr>\n",
       "  </thead>\n",
       "  <tbody>\n",
       "    <tr>\n",
       "      <th>2010-09-30</th>\n",
       "      <td>0.000000</td>\n",
       "      <td>0.0</td>\n",
       "    </tr>\n",
       "    <tr>\n",
       "      <th>2010-10-01</th>\n",
       "      <td>-0.000305</td>\n",
       "      <td>0.0</td>\n",
       "    </tr>\n",
       "    <tr>\n",
       "      <th>2010-10-04</th>\n",
       "      <td>-0.006225</td>\n",
       "      <td>0.0</td>\n",
       "    </tr>\n",
       "    <tr>\n",
       "      <th>2010-10-05</th>\n",
       "      <td>0.030400</td>\n",
       "      <td>0.0</td>\n",
       "    </tr>\n",
       "    <tr>\n",
       "      <th>2010-10-06</th>\n",
       "      <td>-0.007199</td>\n",
       "      <td>0.0</td>\n",
       "    </tr>\n",
       "  </tbody>\n",
       "</table>\n",
       "</div>"
      ],
      "text/plain": [
       "             Returns  Score(1)\n",
       "Date                          \n",
       "2010-09-30  0.000000       0.0\n",
       "2010-10-01 -0.000305       0.0\n",
       "2010-10-04 -0.006225       0.0\n",
       "2010-10-05  0.030400       0.0\n",
       "2010-10-06 -0.007199       0.0"
      ]
     },
     "execution_count": 35,
     "metadata": {},
     "output_type": "execute_result"
    }
   ],
   "source": [
    "df3_goog.head()"
   ]
  },
  {
   "cell_type": "markdown",
   "metadata": {},
   "source": [
    "#### Concevoir le test\n",
    " Le test consiste à vérifier la relation entre les scores de sentiment quotidiens et les rendements quotidiens."
   ]
  },
  {
   "cell_type": "code",
   "execution_count": 36,
   "metadata": {},
   "outputs": [],
   "source": [
    "# Nous supposerons qu'un score compris entre -0,5 et 0,5 est insignifiant pour des\n",
    "df4_goog = df3_goog[(df3_goog['Score(1)'] > 0.5) | (df3_goog['Score(1)'] < -0.5)]\n",
    "df4_amzn = df3_amzn[(df3_amzn['Score(1)'] > 0.5) | (df3_amzn['Score(1)'] < -0.5)]\n",
    "df4_msft = df3_msft[(df3_msft['Score(1)'] > 0.5) | (df3_msft['Score(1)'] < -0.5)]"
   ]
  },
  {
   "cell_type": "markdown",
   "metadata": {},
   "source": [
    "Nous avons défini notre hypothèse comme telle:\n",
    "\n",
    "Un score de sentiment> 0,5 ou <-0,5 a une valeur prédictive uniquement sur les rendements quotidiens des actions  de demain."
   ]
  },
  {
   "cell_type": "code",
   "execution_count": 37,
   "metadata": {},
   "outputs": [
    {
     "data": {
      "text/html": [
       "<div>\n",
       "<style scoped>\n",
       "    .dataframe tbody tr th:only-of-type {\n",
       "        vertical-align: middle;\n",
       "    }\n",
       "\n",
       "    .dataframe tbody tr th {\n",
       "        vertical-align: top;\n",
       "    }\n",
       "\n",
       "    .dataframe thead th {\n",
       "        text-align: right;\n",
       "    }\n",
       "</style>\n",
       "<table border=\"1\" class=\"dataframe\">\n",
       "  <thead>\n",
       "    <tr style=\"text-align: right;\">\n",
       "      <th></th>\n",
       "      <th>Returns</th>\n",
       "      <th>Score(1)</th>\n",
       "    </tr>\n",
       "    <tr>\n",
       "      <th>Date</th>\n",
       "      <th></th>\n",
       "      <th></th>\n",
       "    </tr>\n",
       "  </thead>\n",
       "  <tbody>\n",
       "    <tr>\n",
       "      <th>2011-07-12</th>\n",
       "      <td>-0.003257</td>\n",
       "      <td>0.5574</td>\n",
       "    </tr>\n",
       "    <tr>\n",
       "      <th>2012-04-27</th>\n",
       "      <td>-0.004159</td>\n",
       "      <td>0.5994</td>\n",
       "    </tr>\n",
       "    <tr>\n",
       "      <th>2012-06-20</th>\n",
       "      <td>0.007466</td>\n",
       "      <td>0.6597</td>\n",
       "    </tr>\n",
       "    <tr>\n",
       "      <th>2016-07-19</th>\n",
       "      <td>-0.016177</td>\n",
       "      <td>0.7456</td>\n",
       "    </tr>\n",
       "    <tr>\n",
       "      <th>2017-06-28</th>\n",
       "      <td>0.008507</td>\n",
       "      <td>-0.6124</td>\n",
       "    </tr>\n",
       "  </tbody>\n",
       "</table>\n",
       "</div>"
      ],
      "text/plain": [
       "             Returns  Score(1)\n",
       "Date                          \n",
       "2011-07-12 -0.003257    0.5574\n",
       "2012-04-27 -0.004159    0.5994\n",
       "2012-06-20  0.007466    0.6597\n",
       "2016-07-19 -0.016177    0.7456\n",
       "2017-06-28  0.008507   -0.6124"
      ]
     },
     "execution_count": 37,
     "metadata": {},
     "output_type": "execute_result"
    }
   ],
   "source": [
    "df4_msft.head()"
   ]
  },
  {
   "cell_type": "markdown",
   "metadata": {},
   "source": [
    "#### Testez la valeur prédictive\n",
    "Nous devons maintenant tester s'il existe une relation positive entre le score de sentiment retardé et les rendements quotidien.\n",
    "Exécutons une analyse de corrélation."
   ]
  },
  {
   "cell_type": "code",
   "execution_count": 38,
   "metadata": {},
   "outputs": [],
   "source": [
    "msft_corr = df4_msft['Returns'].corr(df4_msft['Score(1)'])\n",
    "amzn_corr = df4_amzn['Returns'].corr(df4_amzn['Score(1)'])\n",
    "goog_corr = df4_goog['Returns'].corr(df4_goog['Score(1)'])"
   ]
  },
  {
   "cell_type": "code",
   "execution_count": 40,
   "metadata": {},
   "outputs": [
    {
     "name": "stdout",
     "output_type": "stream",
     "text": [
      "La corrélation entre le score des sentiments retardés et le rendement quotidien\n",
      "est de 0.15557503263738798 pour Google\n",
      "est de -0.037706647552581476 pour Amazon\n",
      "est de -0.29350576549047797 pour Microsoft\n"
     ]
    }
   ],
   "source": [
    "print('La corrélation entre le score des sentiments retardés et le rendement quotidien')\n",
    "print(f'est de {goog_corr} pour Google')  \n",
    "print(f'est de {amzn_corr} pour Amazon') \n",
    "print(f'est de {msft_corr} pour Microsoft') "
   ]
  },
  {
   "cell_type": "markdown",
   "metadata": {},
   "source": [
    "#### Évaluations des résultats"
   ]
  },
  {
   "cell_type": "markdown",
   "metadata": {},
   "source": [
    "Les coefficients de corrélation sont assez proche de 0. Cela signifie que les titres des articles seuls n'ont aucune valeur prédictive pour les rendements boursiers du lendemain.\n",
    "Pas de surprise ici. Les marchés sont de plus en plus sophistiqués."
   ]
  }
 ],
 "metadata": {
  "hide_input": false,
  "kernelspec": {
   "display_name": "Python 3",
   "language": "python",
   "name": "python3"
  },
  "language_info": {
   "codemirror_mode": {
    "name": "ipython",
    "version": 3
   },
   "file_extension": ".py",
   "mimetype": "text/x-python",
   "name": "python",
   "nbconvert_exporter": "python",
   "pygments_lexer": "ipython3",
   "version": "3.7.6"
  },
  "toc": {
   "base_numbering": 1,
   "nav_menu": {},
   "number_sections": true,
   "sideBar": true,
   "skip_h1_title": false,
   "title_cell": "Table of Contents",
   "title_sidebar": "Contents",
   "toc_cell": false,
   "toc_position": {},
   "toc_section_display": true,
   "toc_window_display": false
  },
  "varInspector": {
   "cols": {
    "lenName": 16,
    "lenType": 16,
    "lenVar": 40
   },
   "kernels_config": {
    "python": {
     "delete_cmd_postfix": "",
     "delete_cmd_prefix": "del ",
     "library": "var_list.py",
     "varRefreshCmd": "print(var_dic_list())"
    },
    "r": {
     "delete_cmd_postfix": ") ",
     "delete_cmd_prefix": "rm(",
     "library": "var_list.r",
     "varRefreshCmd": "cat(var_dic_list()) "
    }
   },
   "types_to_exclude": [
    "module",
    "function",
    "builtin_function_or_method",
    "instance",
    "_Feature"
   ],
   "window_display": false
  }
 },
 "nbformat": 4,
 "nbformat_minor": 4
}
