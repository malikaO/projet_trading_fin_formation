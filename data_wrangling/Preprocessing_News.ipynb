{
 "cells": [
  {
   "cell_type": "code",
   "execution_count": 1,
   "metadata": {},
   "outputs": [],
   "source": [
    "import pandas as pd\n",
    "import numpy as np\n",
    "import re\n",
    "from nltk.sentiment.vader import SentimentIntensityAnalyzer\n",
    "import nltk\n",
    "from sklearn.model_selection import train_test_split\n",
    "from sklearn.discriminant_analysis import LinearDiscriminantAnalysis\n",
    "from sklearn.metrics import classification_report\n",
    "from dateutil.parser import parse\n",
    "import yfinance as yf"
   ]
  },
  {
   "cell_type": "markdown",
   "metadata": {},
   "source": [
    "# DataFrame News from Seekingalpha using Selenium"
   ]
  },
  {
   "cell_type": "code",
   "execution_count": 11,
   "metadata": {},
   "outputs": [],
   "source": [
    "msft = pd.read_csv('C:/Users/utilisateur/Downloads/IA simplon/Projets/Arbitrage_en_Bourse/CSV/msft_News.csv')\n",
    "goog = pd.read_csv('C:/Users/utilisateur/Downloads/IA simplon/Projets/Arbitrage_en_Bourse/CSV/goog_News.csv')\n",
    "amzn = pd.read_csv('C:/Users/utilisateur/Downloads/IA simplon/Projets/Arbitrage_en_Bourse/CSV/amazon_News.csv')"
   ]
  },
  {
   "cell_type": "code",
   "execution_count": 3,
   "metadata": {},
   "outputs": [],
   "source": [
    "def prepo_data(data):\n",
    "    data = data[[\"Date\",\"comment\"]]\n",
    "    data= data.rename(columns={\"comment\": \"Title\"})\n",
    "    print(\"shape before preprocessing:\", data.shape)\n",
    "    nulls = pd.DataFrame(data.isnull().sum())\n",
    "    nulls.columns = ['Null']\n",
    "    print(\"NAN values:\\n\", nulls)\n",
    "\n",
    "    # remove nan values\n",
    "    data = data.dropna()\n",
    "    # remove duplicates\n",
    "    data = data.drop_duplicates()\n",
    "    print(\"shape after prepocessing :\", data.shape)\n",
    "    \n",
    "    # preprocessing date to datetime\n",
    "    data['Date']= data['Date'].apply(lambda x: str(x).split()[-3:])\n",
    "    data['Date']= data['Date'].apply(lambda x: '-'.join(x))\n",
    "    data['Date']= data['Date'].apply(lambda x: parse(x))\n",
    "    data['Date']= data['Date'].apply(lambda x: x.strftime('%Y-%m-%d')) \n",
    "    return data            \n",
    "    "
   ]
  },
  {
   "cell_type": "markdown",
   "metadata": {},
   "source": [
    "# Data  after prepocessing"
   ]
  },
  {
   "cell_type": "markdown",
   "metadata": {},
   "source": [
    "## Microsoft"
   ]
  },
  {
   "cell_type": "code",
   "execution_count": 4,
   "metadata": {},
   "outputs": [
    {
     "name": "stdout",
     "output_type": "stream",
     "text": [
      "shape before preprocessing: (366, 2)\n",
      "NAN values:\n",
      "        Null\n",
      "Date     23\n",
      "Title    23\n",
      "shape after prepocessing : (335, 2)\n"
     ]
    }
   ],
   "source": [
    "msft_news_clean = prepo_data(msft)"
   ]
  },
  {
   "cell_type": "code",
   "execution_count": 5,
   "metadata": {},
   "outputs": [
    {
     "data": {
      "text/html": [
       "<div>\n",
       "<style scoped>\n",
       "    .dataframe tbody tr th:only-of-type {\n",
       "        vertical-align: middle;\n",
       "    }\n",
       "\n",
       "    .dataframe tbody tr th {\n",
       "        vertical-align: top;\n",
       "    }\n",
       "\n",
       "    .dataframe thead th {\n",
       "        text-align: right;\n",
       "    }\n",
       "</style>\n",
       "<table border=\"1\" class=\"dataframe\">\n",
       "  <thead>\n",
       "    <tr style=\"text-align: right;\">\n",
       "      <th></th>\n",
       "      <th>Date</th>\n",
       "      <th>Title</th>\n",
       "    </tr>\n",
       "  </thead>\n",
       "  <tbody>\n",
       "    <tr>\n",
       "      <th>0</th>\n",
       "      <td>2020-10-01</td>\n",
       "      <td>Datadog price target lifted on Microsoft partn...</td>\n",
       "    </tr>\n",
       "    <tr>\n",
       "      <th>1</th>\n",
       "      <td>2020-09-21</td>\n",
       "      <td>Analog Devices teams with Microsoft on 3D prod...</td>\n",
       "    </tr>\n",
       "    <tr>\n",
       "      <th>2</th>\n",
       "      <td>2020-09-08</td>\n",
       "      <td>Microsoft Teams, NFL deepen gameday partnership</td>\n",
       "    </tr>\n",
       "    <tr>\n",
       "      <th>3</th>\n",
       "      <td>2020-09-05</td>\n",
       "      <td>Microsoft teams up with BP to achieve net zero...</td>\n",
       "    </tr>\n",
       "    <tr>\n",
       "      <th>4</th>\n",
       "      <td>2020-09-11</td>\n",
       "      <td>Microsoft targets raised ahead of earnings</td>\n",
       "    </tr>\n",
       "  </tbody>\n",
       "</table>\n",
       "</div>"
      ],
      "text/plain": [
       "         Date                                              Title\n",
       "0  2020-10-01  Datadog price target lifted on Microsoft partn...\n",
       "1  2020-09-21  Analog Devices teams with Microsoft on 3D prod...\n",
       "2  2020-09-08    Microsoft Teams, NFL deepen gameday partnership\n",
       "3  2020-09-05  Microsoft teams up with BP to achieve net zero...\n",
       "4  2020-09-11         Microsoft targets raised ahead of earnings"
      ]
     },
     "execution_count": 5,
     "metadata": {},
     "output_type": "execute_result"
    }
   ],
   "source": [
    "msft_news_clean.head()"
   ]
  },
  {
   "cell_type": "markdown",
   "metadata": {},
   "source": [
    "## Amazon"
   ]
  },
  {
   "cell_type": "code",
   "execution_count": 6,
   "metadata": {},
   "outputs": [
    {
     "name": "stdout",
     "output_type": "stream",
     "text": [
      "shape before preprocessing: (480, 2)\n",
      "NAN values:\n",
      "        Null\n",
      "Date      0\n",
      "Title     0\n",
      "shape after prepocessing : (480, 2)\n"
     ]
    }
   ],
   "source": [
    "amzn_news_clean = prepo_data(amzn)"
   ]
  },
  {
   "cell_type": "code",
   "execution_count": 7,
   "metadata": {},
   "outputs": [
    {
     "data": {
      "text/html": [
       "<div>\n",
       "<style scoped>\n",
       "    .dataframe tbody tr th:only-of-type {\n",
       "        vertical-align: middle;\n",
       "    }\n",
       "\n",
       "    .dataframe tbody tr th {\n",
       "        vertical-align: top;\n",
       "    }\n",
       "\n",
       "    .dataframe thead th {\n",
       "        text-align: right;\n",
       "    }\n",
       "</style>\n",
       "<table border=\"1\" class=\"dataframe\">\n",
       "  <thead>\n",
       "    <tr style=\"text-align: right;\">\n",
       "      <th></th>\n",
       "      <th>Date</th>\n",
       "      <th>Title</th>\n",
       "    </tr>\n",
       "  </thead>\n",
       "  <tbody>\n",
       "    <tr>\n",
       "      <th>0</th>\n",
       "      <td>2020-10-01</td>\n",
       "      <td>Amazon Music partners with Universal Music, Wa...</td>\n",
       "    </tr>\n",
       "    <tr>\n",
       "      <th>1</th>\n",
       "      <td>2020-09-22</td>\n",
       "      <td>Amazon to expand tech hubs, corporate offices,...</td>\n",
       "    </tr>\n",
       "    <tr>\n",
       "      <th>2</th>\n",
       "      <td>2020-09-22</td>\n",
       "      <td>Amazon hires former Yahoo, Slack privacy head ...</td>\n",
       "    </tr>\n",
       "    <tr>\n",
       "      <th>3</th>\n",
       "      <td>2020-09-16</td>\n",
       "      <td>Amazon's latest job spree: Another 100,000 wor...</td>\n",
       "    </tr>\n",
       "    <tr>\n",
       "      <th>4</th>\n",
       "      <td>2020-08-26</td>\n",
       "      <td>Amazon targeted by German antitrust probe</td>\n",
       "    </tr>\n",
       "  </tbody>\n",
       "</table>\n",
       "</div>"
      ],
      "text/plain": [
       "         Date                                              Title\n",
       "0  2020-10-01  Amazon Music partners with Universal Music, Wa...\n",
       "1  2020-09-22  Amazon to expand tech hubs, corporate offices,...\n",
       "2  2020-09-22  Amazon hires former Yahoo, Slack privacy head ...\n",
       "3  2020-09-16  Amazon's latest job spree: Another 100,000 wor...\n",
       "4  2020-08-26          Amazon targeted by German antitrust probe"
      ]
     },
     "execution_count": 7,
     "metadata": {},
     "output_type": "execute_result"
    }
   ],
   "source": [
    "amzn_news_clean.head()"
   ]
  },
  {
   "cell_type": "markdown",
   "metadata": {},
   "source": [
    "## Google"
   ]
  },
  {
   "cell_type": "code",
   "execution_count": 8,
   "metadata": {},
   "outputs": [
    {
     "name": "stdout",
     "output_type": "stream",
     "text": [
      "shape before preprocessing: (400, 2)\n",
      "NAN values:\n",
      "        Null\n",
      "Date     25\n",
      "Title    25\n",
      "shape after prepocessing : (369, 2)\n"
     ]
    }
   ],
   "source": [
    "goog_news_clean = prepo_data(goog)"
   ]
  },
  {
   "cell_type": "code",
   "execution_count": 9,
   "metadata": {},
   "outputs": [
    {
     "data": {
      "text/html": [
       "<div>\n",
       "<style scoped>\n",
       "    .dataframe tbody tr th:only-of-type {\n",
       "        vertical-align: middle;\n",
       "    }\n",
       "\n",
       "    .dataframe tbody tr th {\n",
       "        vertical-align: top;\n",
       "    }\n",
       "\n",
       "    .dataframe thead th {\n",
       "        text-align: right;\n",
       "    }\n",
       "</style>\n",
       "<table border=\"1\" class=\"dataframe\">\n",
       "  <thead>\n",
       "    <tr style=\"text-align: right;\">\n",
       "      <th></th>\n",
       "      <th>Date</th>\n",
       "      <th>Title</th>\n",
       "    </tr>\n",
       "  </thead>\n",
       "  <tbody>\n",
       "    <tr>\n",
       "      <th>0</th>\n",
       "      <td>2020-10-01</td>\n",
       "      <td>Google pauses News Showcase launch in Australi...</td>\n",
       "    </tr>\n",
       "    <tr>\n",
       "      <th>1</th>\n",
       "      <td>2020-09-25</td>\n",
       "      <td>Microsoft's Bing wins slots in Google's EU mob...</td>\n",
       "    </tr>\n",
       "    <tr>\n",
       "      <th>2</th>\n",
       "      <td>2020-08-26</td>\n",
       "      <td>Italy probes Apple, Google and Dropbox cloud s...</td>\n",
       "    </tr>\n",
       "    <tr>\n",
       "      <th>3</th>\n",
       "      <td>2020-08-21</td>\n",
       "      <td>Facebook, Google withdraw FCC request for unde...</td>\n",
       "    </tr>\n",
       "    <tr>\n",
       "      <th>4</th>\n",
       "      <td>2020-08-04</td>\n",
       "      <td>Samsung to make chips for Cisco, Google - report</td>\n",
       "    </tr>\n",
       "  </tbody>\n",
       "</table>\n",
       "</div>"
      ],
      "text/plain": [
       "         Date                                              Title\n",
       "0  2020-10-01  Google pauses News Showcase launch in Australi...\n",
       "1  2020-09-25  Microsoft's Bing wins slots in Google's EU mob...\n",
       "2  2020-08-26  Italy probes Apple, Google and Dropbox cloud s...\n",
       "3  2020-08-21  Facebook, Google withdraw FCC request for unde...\n",
       "4  2020-08-04   Samsung to make chips for Cisco, Google - report"
      ]
     },
     "execution_count": 9,
     "metadata": {},
     "output_type": "execute_result"
    }
   ],
   "source": [
    "goog_news_clean.head()"
   ]
  },
  {
   "cell_type": "markdown",
   "metadata": {},
   "source": [
    "# Download Data News to csv"
   ]
  },
  {
   "cell_type": "code",
   "execution_count": 10,
   "metadata": {},
   "outputs": [],
   "source": [
    "goog_news_clean.to_csv(\"goog_news_clean.csv\")\n",
    "amzn_news_clean.to_csv(\"amzn_news_clean.csv\")\n",
    "msft_news_clean.to_csv(\"msft_news_clean.csv\")"
   ]
  }
 ],
 "metadata": {
  "hide_input": false,
  "kernelspec": {
   "display_name": "Python 3",
   "language": "python",
   "name": "python3"
  },
  "language_info": {
   "codemirror_mode": {
    "name": "ipython",
    "version": 3
   },
   "file_extension": ".py",
   "mimetype": "text/x-python",
   "name": "python",
   "nbconvert_exporter": "python",
   "pygments_lexer": "ipython3",
   "version": "3.7.7"
  },
  "toc": {
   "base_numbering": 1,
   "nav_menu": {},
   "number_sections": true,
   "sideBar": true,
   "skip_h1_title": false,
   "title_cell": "Table of Contents",
   "title_sidebar": "Contents",
   "toc_cell": false,
   "toc_position": {},
   "toc_section_display": true,
   "toc_window_display": false
  },
  "varInspector": {
   "cols": {
    "lenName": 16,
    "lenType": 16,
    "lenVar": 40
   },
   "kernels_config": {
    "python": {
     "delete_cmd_postfix": "",
     "delete_cmd_prefix": "del ",
     "library": "var_list.py",
     "varRefreshCmd": "print(var_dic_list())"
    },
    "r": {
     "delete_cmd_postfix": ") ",
     "delete_cmd_prefix": "rm(",
     "library": "var_list.r",
     "varRefreshCmd": "cat(var_dic_list()) "
    }
   },
   "types_to_exclude": [
    "module",
    "function",
    "builtin_function_or_method",
    "instance",
    "_Feature"
   ],
   "window_display": false
  }
 },
 "nbformat": 4,
 "nbformat_minor": 4
}
