{
 "cells": [
  {
   "cell_type": "markdown",
   "metadata": {},
   "source": [
    "# Stock data using MongoDB"
   ]
  },
  {
   "cell_type": "code",
   "execution_count": 1,
   "metadata": {},
   "outputs": [],
   "source": [
    "from pymongo import MongoClient\n",
    "import pandas as pd\n",
    "import pymongo\n",
    "import requests\n",
    "from io import BytesIO\n",
    "from textblob import TextBlob\n",
    "import datetime\n",
    "import secrets\n",
    "import yfinance as yf"
   ]
  },
  {
   "cell_type": "markdown",
   "metadata": {},
   "source": [
    "We are creating a database in MongoDB, that contains two collections (history of the Stock Prices and the News about our companies)"
   ]
  },
  {
   "cell_type": "markdown",
   "metadata": {},
   "source": [
    "## Import Data News from seekingalpha using Selenium"
   ]
  },
  {
   "cell_type": "code",
   "execution_count": 2,
   "metadata": {},
   "outputs": [],
   "source": [
    "msft_news = pd.read_csv('C:/Users/utilisateur/Downloads/IA simplon/Projets/Arbitrage_en_Bourse/CSV/msft_news_clean.csv')\n",
    "goog_news = pd.read_csv('C:/Users/utilisateur/Downloads/IA simplon/Projets/Arbitrage_en_Bourse/CSV/goog_news_clean.csv')\n",
    "amzn_news = pd.read_csv('C:/Users/utilisateur/Downloads/IA simplon/Projets/Arbitrage_en_Bourse/CSV/amzn_news_clean.csv')"
   ]
  },
  {
   "cell_type": "code",
   "execution_count": 3,
   "metadata": {},
   "outputs": [],
   "source": [
    "msft_news = msft_news.drop(\"Unnamed: 0\", axis = 1)\n",
    "goog_news = goog_news.drop(\"Unnamed: 0\", axis = 1)\n",
    "amzn_news = amzn_news.drop(\"Unnamed: 0\", axis = 1)"
   ]
  },
  {
   "cell_type": "code",
   "execution_count": 21,
   "metadata": {},
   "outputs": [
    {
     "data": {
      "text/html": [
       "<div>\n",
       "<style scoped>\n",
       "    .dataframe tbody tr th:only-of-type {\n",
       "        vertical-align: middle;\n",
       "    }\n",
       "\n",
       "    .dataframe tbody tr th {\n",
       "        vertical-align: top;\n",
       "    }\n",
       "\n",
       "    .dataframe thead th {\n",
       "        text-align: right;\n",
       "    }\n",
       "</style>\n",
       "<table border=\"1\" class=\"dataframe\">\n",
       "  <thead>\n",
       "    <tr style=\"text-align: right;\">\n",
       "      <th></th>\n",
       "      <th>Date</th>\n",
       "      <th>Title</th>\n",
       "    </tr>\n",
       "  </thead>\n",
       "  <tbody>\n",
       "    <tr>\n",
       "      <th>0</th>\n",
       "      <td>2020-10-01</td>\n",
       "      <td>Amazon Music partners with Universal Music, Wa...</td>\n",
       "    </tr>\n",
       "    <tr>\n",
       "      <th>1</th>\n",
       "      <td>2020-09-22</td>\n",
       "      <td>Amazon to expand tech hubs, corporate offices,...</td>\n",
       "    </tr>\n",
       "    <tr>\n",
       "      <th>2</th>\n",
       "      <td>2020-09-22</td>\n",
       "      <td>Amazon hires former Yahoo, Slack privacy head ...</td>\n",
       "    </tr>\n",
       "    <tr>\n",
       "      <th>3</th>\n",
       "      <td>2020-09-16</td>\n",
       "      <td>Amazon's latest job spree: Another 100,000 wor...</td>\n",
       "    </tr>\n",
       "    <tr>\n",
       "      <th>4</th>\n",
       "      <td>2020-08-26</td>\n",
       "      <td>Amazon targeted by German antitrust probe</td>\n",
       "    </tr>\n",
       "  </tbody>\n",
       "</table>\n",
       "</div>"
      ],
      "text/plain": [
       "         Date                                              Title\n",
       "0  2020-10-01  Amazon Music partners with Universal Music, Wa...\n",
       "1  2020-09-22  Amazon to expand tech hubs, corporate offices,...\n",
       "2  2020-09-22  Amazon hires former Yahoo, Slack privacy head ...\n",
       "3  2020-09-16  Amazon's latest job spree: Another 100,000 wor...\n",
       "4  2020-08-26          Amazon targeted by German antitrust probe"
      ]
     },
     "execution_count": 21,
     "metadata": {},
     "output_type": "execute_result"
    }
   ],
   "source": [
    "amzn_news.head()"
   ]
  },
  {
   "cell_type": "markdown",
   "metadata": {},
   "source": [
    "## Import Data to Mongodb - Collection History stock prices from Yahoo finance API "
   ]
  },
  {
   "cell_type": "code",
   "execution_count": 5,
   "metadata": {},
   "outputs": [
    {
     "name": "stdout",
     "output_type": "stream",
     "text": [
      "Collection(Database(MongoClient(host=['localhost:27017'], document_class=dict, tz_aware=False, connect=True), 'Strategies_trading'), 'prices_history')\n"
     ]
    }
   ],
   "source": [
    "client = MongoClient(\"mongodb://localhost:27017/\")\n",
    "# create database\n",
    "db = client[\"Strategies_trading\"]\n",
    "# collection\n",
    "prices_history = db[\"prices_history\"]\n",
    "print(prices_history)\n",
    "    \n",
    "for ticker in [\"MSFT\", \"AMZN\", \"GOOG\"]:    \n",
    "    yf_stock = yf.Ticker(ticker)\n",
    "    history = yf_stock.history(period=\"5y\")[[\"Open\",\"Close\"]]\n",
    "    history[\"DailyChangePct\"] = (history[\"Close\"] / history[\"Open\"])-1\n",
    "    history['Date'] = history.index\n",
    "    history[\"Ticker\"] = ticker\n",
    "    prices_history.insert_many(history.to_dict(orient = 'records'))"
   ]
  },
  {
   "cell_type": "markdown",
   "metadata": {},
   "source": [
    "## Import Data to Mongodb - Collection News from seekingalpha using Selenium"
   ]
  },
  {
   "cell_type": "code",
   "execution_count": 6,
   "metadata": {},
   "outputs": [
    {
     "name": "stdout",
     "output_type": "stream",
     "text": [
      "Collection(Database(MongoClient(host=['localhost:27017'], document_class=dict, tz_aware=False, connect=True), 'Strategies_trading'), 'news_history')\n"
     ]
    }
   ],
   "source": [
    "client = MongoClient(\"mongodb://localhost:27017/\")\n",
    "# create database\n",
    "db= client[\"Strategies_trading\"]\n",
    "# create collection\n",
    "news_history = db[\"news_history\"]\n",
    "print(news_history)"
   ]
  },
  {
   "cell_type": "code",
   "execution_count": null,
   "metadata": {},
   "outputs": [],
   "source": [
    "for price to [\"msft_news\", \"amzn_news\", \"goog_news\"]"
   ]
  },
  {
   "cell_type": "markdown",
   "metadata": {},
   "source": [
    "### Amazon "
   ]
  },
  {
   "cell_type": "code",
   "execution_count": 18,
   "metadata": {
    "scrolled": true
   },
   "outputs": [
    {
     "data": {
      "text/plain": [
       "[{'Date': '2020-10-01',\n",
       "  'Title': 'Amazon Music partners with Universal Music, Warner Music on Ultra HD remasters'},\n",
       " {'Date': '2020-09-22',\n",
       "  'Title': 'Amazon to expand tech hubs, corporate offices, adding 3,500 jobs'},\n",
       " {'Date': '2020-09-22',\n",
       "  'Title': 'Amazon hires former Yahoo, Slack privacy head for Alexa effort - BI'},\n",
       " {'Date': '2020-09-16',\n",
       "  'Title': \"Amazon's latest job spree: Another 100,000 workers\"},\n",
       " {'Date': '2020-08-26', 'Title': 'Amazon targeted by German antitrust probe'},\n",
       " {'Date': '2020-08-27',\n",
       "  'Title': 'Amazon orders 1,800 Mercedes electric vans for European deliveries'}]"
      ]
     },
     "execution_count": 18,
     "metadata": {},
     "output_type": "execute_result"
    }
   ],
   "source": [
    "# csv to dictionnary\n",
    "amzn_dict = amzn_news.to_dict(\"records\")\n",
    "amzn_dict[0:6]\n"
   ]
  },
  {
   "cell_type": "code",
   "execution_count": 19,
   "metadata": {},
   "outputs": [
    {
     "data": {
      "text/plain": [
       "<pymongo.results.InsertOneResult at 0x1bcc4f8a888>"
      ]
     },
     "execution_count": 19,
     "metadata": {},
     "output_type": "execute_result"
    }
   ],
   "source": [
    "news_history.insert_one({\"index\":\"Amazon News\",\"data\":amzn_dict})"
   ]
  },
  {
   "cell_type": "markdown",
   "metadata": {},
   "source": [
    "### Microsoft"
   ]
  },
  {
   "cell_type": "code",
   "execution_count": 20,
   "metadata": {},
   "outputs": [
    {
     "data": {
      "text/plain": [
       "<pymongo.results.InsertOneResult at 0x1bcc4fa9b88>"
      ]
     },
     "execution_count": 20,
     "metadata": {},
     "output_type": "execute_result"
    }
   ],
   "source": [
    "msft_dict = msft_news.to_dict(\"records\")\n",
    "news_history.insert_one({\"index\":\"Microsoft News\",\"data\":msft_dict})"
   ]
  },
  {
   "cell_type": "markdown",
   "metadata": {},
   "source": [
    "### Google"
   ]
  },
  {
   "cell_type": "code",
   "execution_count": 13,
   "metadata": {},
   "outputs": [
    {
     "data": {
      "text/plain": [
       "<pymongo.results.InsertOneResult at 0x1bcc4f35fc8>"
      ]
     },
     "execution_count": 13,
     "metadata": {},
     "output_type": "execute_result"
    }
   ],
   "source": [
    "goog_dict = goog_news.to_dict(\"records\")\n",
    "news_history.insert_one({\"index\":\"Google News\",\"data\":goog_dict})"
   ]
  }
 ],
 "metadata": {
  "hide_input": false,
  "kernelspec": {
   "display_name": "Python 3",
   "language": "python",
   "name": "python3"
  },
  "language_info": {
   "codemirror_mode": {
    "name": "ipython",
    "version": 3
   },
   "file_extension": ".py",
   "mimetype": "text/x-python",
   "name": "python",
   "nbconvert_exporter": "python",
   "pygments_lexer": "ipython3",
   "version": "3.7.7"
  },
  "toc": {
   "base_numbering": 1,
   "nav_menu": {},
   "number_sections": true,
   "sideBar": true,
   "skip_h1_title": false,
   "title_cell": "Table of Contents",
   "title_sidebar": "Contents",
   "toc_cell": false,
   "toc_position": {},
   "toc_section_display": true,
   "toc_window_display": false
  },
  "varInspector": {
   "cols": {
    "lenName": 16,
    "lenType": 16,
    "lenVar": 40
   },
   "kernels_config": {
    "python": {
     "delete_cmd_postfix": "",
     "delete_cmd_prefix": "del ",
     "library": "var_list.py",
     "varRefreshCmd": "print(var_dic_list())"
    },
    "r": {
     "delete_cmd_postfix": ") ",
     "delete_cmd_prefix": "rm(",
     "library": "var_list.r",
     "varRefreshCmd": "cat(var_dic_list()) "
    }
   },
   "types_to_exclude": [
    "module",
    "function",
    "builtin_function_or_method",
    "instance",
    "_Feature"
   ],
   "window_display": false
  }
 },
 "nbformat": 4,
 "nbformat_minor": 4
}
