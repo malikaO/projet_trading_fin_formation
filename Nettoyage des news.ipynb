{
 "cells": [
  {
   "cell_type": "code",
   "execution_count": 1,
   "metadata": {},
   "outputs": [],
   "source": [
    "import pandas as pd"
   ]
  },
  {
   "cell_type": "code",
   "execution_count": 2,
   "metadata": {},
   "outputs": [],
   "source": [
    "msft = pd.read_csv('msft_News.csv')\n",
    "goog = pd.read_csv('goog_News.csv')\n",
    "amzn = pd.read_csv('amazon_News.csv')"
   ]
  },
  {
   "cell_type": "code",
   "execution_count": 3,
   "metadata": {},
   "outputs": [
    {
     "data": {
      "text/html": [
       "<div>\n",
       "<style scoped>\n",
       "    .dataframe tbody tr th:only-of-type {\n",
       "        vertical-align: middle;\n",
       "    }\n",
       "\n",
       "    .dataframe tbody tr th {\n",
       "        vertical-align: top;\n",
       "    }\n",
       "\n",
       "    .dataframe thead th {\n",
       "        text-align: right;\n",
       "    }\n",
       "</style>\n",
       "<table border=\"1\" class=\"dataframe\">\n",
       "  <thead>\n",
       "    <tr style=\"text-align: right;\">\n",
       "      <th></th>\n",
       "      <th>Unnamed: 0</th>\n",
       "      <th>title</th>\n",
       "      <th>Date</th>\n",
       "      <th>comment</th>\n",
       "    </tr>\n",
       "  </thead>\n",
       "  <tbody>\n",
       "    <tr>\n",
       "      <th>0</th>\n",
       "      <td>0</td>\n",
       "      <td>NaN</td>\n",
       "      <td>AMZNThursday, October 1st 2020</td>\n",
       "      <td>Amazon Music partners with Universal Music, Wa...</td>\n",
       "    </tr>\n",
       "    <tr>\n",
       "      <th>1</th>\n",
       "      <td>0</td>\n",
       "      <td>NaN</td>\n",
       "      <td>PTON, AMZNTuesday, September 22nd 2020</td>\n",
       "      <td>Amazon to expand tech hubs, corporate offices,...</td>\n",
       "    </tr>\n",
       "    <tr>\n",
       "      <th>2</th>\n",
       "      <td>0</td>\n",
       "      <td>NaN</td>\n",
       "      <td>MSFT, TWLO, WORKTuesday, September 22nd 2020</td>\n",
       "      <td>Amazon hires former Yahoo, Slack privacy head ...</td>\n",
       "    </tr>\n",
       "    <tr>\n",
       "      <th>3</th>\n",
       "      <td>0</td>\n",
       "      <td>NaN</td>\n",
       "      <td>AMZN, WMT, TGT, UPS, FDXWednesday, September 1...</td>\n",
       "      <td>Amazon's latest job spree: Another 100,000 wor...</td>\n",
       "    </tr>\n",
       "    <tr>\n",
       "      <th>4</th>\n",
       "      <td>0</td>\n",
       "      <td>NaN</td>\n",
       "      <td>AMZNWednesday, August 26th 2020</td>\n",
       "      <td>Amazon targeted by German antitrust probe</td>\n",
       "    </tr>\n",
       "  </tbody>\n",
       "</table>\n",
       "</div>"
      ],
      "text/plain": [
       "   Unnamed: 0  title                                               Date  \\\n",
       "0           0    NaN                     AMZNThursday, October 1st 2020   \n",
       "1           0    NaN             PTON, AMZNTuesday, September 22nd 2020   \n",
       "2           0    NaN       MSFT, TWLO, WORKTuesday, September 22nd 2020   \n",
       "3           0    NaN  AMZN, WMT, TGT, UPS, FDXWednesday, September 1...   \n",
       "4           0    NaN                    AMZNWednesday, August 26th 2020   \n",
       "\n",
       "                                             comment  \n",
       "0  Amazon Music partners with Universal Music, Wa...  \n",
       "1  Amazon to expand tech hubs, corporate offices,...  \n",
       "2  Amazon hires former Yahoo, Slack privacy head ...  \n",
       "3  Amazon's latest job spree: Another 100,000 wor...  \n",
       "4          Amazon targeted by German antitrust probe  "
      ]
     },
     "execution_count": 3,
     "metadata": {},
     "output_type": "execute_result"
    }
   ],
   "source": [
    "amzn.head()"
   ]
  },
  {
   "cell_type": "code",
   "execution_count": 4,
   "metadata": {},
   "outputs": [],
   "source": [
    "# On prend les colonnes dont on a besoin\n",
    "amzn = amzn[[\"Date\",\"comment\"]]\n",
    "goog = goog[[\"Date\",\"comment\"]]\n",
    "msft = msft[[\"Date\",\"comment\"]]"
   ]
  },
  {
   "cell_type": "code",
   "execution_count": 5,
   "metadata": {},
   "outputs": [
    {
     "data": {
      "text/html": [
       "<div>\n",
       "<style scoped>\n",
       "    .dataframe tbody tr th:only-of-type {\n",
       "        vertical-align: middle;\n",
       "    }\n",
       "\n",
       "    .dataframe tbody tr th {\n",
       "        vertical-align: top;\n",
       "    }\n",
       "\n",
       "    .dataframe thead th {\n",
       "        text-align: right;\n",
       "    }\n",
       "</style>\n",
       "<table border=\"1\" class=\"dataframe\">\n",
       "  <thead>\n",
       "    <tr style=\"text-align: right;\">\n",
       "      <th></th>\n",
       "      <th>Date</th>\n",
       "      <th>comment</th>\n",
       "    </tr>\n",
       "  </thead>\n",
       "  <tbody>\n",
       "    <tr>\n",
       "      <th>0</th>\n",
       "      <td>AMZNThursday, October 1st 2020</td>\n",
       "      <td>Amazon Music partners with Universal Music, Wa...</td>\n",
       "    </tr>\n",
       "    <tr>\n",
       "      <th>1</th>\n",
       "      <td>PTON, AMZNTuesday, September 22nd 2020</td>\n",
       "      <td>Amazon to expand tech hubs, corporate offices,...</td>\n",
       "    </tr>\n",
       "    <tr>\n",
       "      <th>2</th>\n",
       "      <td>MSFT, TWLO, WORKTuesday, September 22nd 2020</td>\n",
       "      <td>Amazon hires former Yahoo, Slack privacy head ...</td>\n",
       "    </tr>\n",
       "    <tr>\n",
       "      <th>3</th>\n",
       "      <td>AMZN, WMT, TGT, UPS, FDXWednesday, September 1...</td>\n",
       "      <td>Amazon's latest job spree: Another 100,000 wor...</td>\n",
       "    </tr>\n",
       "    <tr>\n",
       "      <th>4</th>\n",
       "      <td>AMZNWednesday, August 26th 2020</td>\n",
       "      <td>Amazon targeted by German antitrust probe</td>\n",
       "    </tr>\n",
       "  </tbody>\n",
       "</table>\n",
       "</div>"
      ],
      "text/plain": [
       "                                                Date  \\\n",
       "0                     AMZNThursday, October 1st 2020   \n",
       "1             PTON, AMZNTuesday, September 22nd 2020   \n",
       "2       MSFT, TWLO, WORKTuesday, September 22nd 2020   \n",
       "3  AMZN, WMT, TGT, UPS, FDXWednesday, September 1...   \n",
       "4                    AMZNWednesday, August 26th 2020   \n",
       "\n",
       "                                             comment  \n",
       "0  Amazon Music partners with Universal Music, Wa...  \n",
       "1  Amazon to expand tech hubs, corporate offices,...  \n",
       "2  Amazon hires former Yahoo, Slack privacy head ...  \n",
       "3  Amazon's latest job spree: Another 100,000 wor...  \n",
       "4          Amazon targeted by German antitrust probe  "
      ]
     },
     "execution_count": 5,
     "metadata": {},
     "output_type": "execute_result"
    }
   ],
   "source": [
    "amzn.head()"
   ]
  },
  {
   "cell_type": "code",
   "execution_count": 6,
   "metadata": {},
   "outputs": [
    {
     "data": {
      "text/plain": [
       "Date       25\n",
       "comment    25\n",
       "dtype: int64"
      ]
     },
     "execution_count": 6,
     "metadata": {},
     "output_type": "execute_result"
    }
   ],
   "source": [
    "# on vérifie les valeurs nulles\n",
    "goog.isnull().sum()"
   ]
  },
  {
   "cell_type": "code",
   "execution_count": 7,
   "metadata": {},
   "outputs": [
    {
     "data": {
      "text/plain": [
       "Date       0\n",
       "comment    0\n",
       "dtype: int64"
      ]
     },
     "execution_count": 7,
     "metadata": {},
     "output_type": "execute_result"
    }
   ],
   "source": [
    "amzn.isnull().sum()"
   ]
  },
  {
   "cell_type": "code",
   "execution_count": 8,
   "metadata": {},
   "outputs": [
    {
     "data": {
      "text/plain": [
       "Date       23\n",
       "comment    23\n",
       "dtype: int64"
      ]
     },
     "execution_count": 8,
     "metadata": {},
     "output_type": "execute_result"
    }
   ],
   "source": [
    "msft.isnull().sum()"
   ]
  },
  {
   "cell_type": "code",
   "execution_count": 9,
   "metadata": {},
   "outputs": [],
   "source": [
    "# On supprime les lignes avec des valeurs nulles\n",
    "goog = goog.dropna()"
   ]
  },
  {
   "cell_type": "code",
   "execution_count": 10,
   "metadata": {},
   "outputs": [],
   "source": [
    "msft = msft.dropna()"
   ]
  },
  {
   "cell_type": "code",
   "execution_count": 11,
   "metadata": {},
   "outputs": [
    {
     "data": {
      "text/plain": [
       "Date       0\n",
       "comment    0\n",
       "dtype: int64"
      ]
     },
     "execution_count": 11,
     "metadata": {},
     "output_type": "execute_result"
    }
   ],
   "source": [
    "msft.isnull().sum()"
   ]
  },
  {
   "cell_type": "code",
   "execution_count": 12,
   "metadata": {},
   "outputs": [
    {
     "data": {
      "text/plain": [
       "Date       0\n",
       "comment    0\n",
       "dtype: int64"
      ]
     },
     "execution_count": 12,
     "metadata": {},
     "output_type": "execute_result"
    }
   ],
   "source": [
    "goog.isnull().sum()"
   ]
  },
  {
   "cell_type": "code",
   "execution_count": 13,
   "metadata": {},
   "outputs": [],
   "source": [
    "# On supprime les doublons\n",
    "msft = msft.drop_duplicates()"
   ]
  },
  {
   "cell_type": "code",
   "execution_count": 14,
   "metadata": {},
   "outputs": [
    {
     "data": {
      "text/plain": [
       "(335, 2)"
      ]
     },
     "execution_count": 14,
     "metadata": {},
     "output_type": "execute_result"
    }
   ],
   "source": [
    "msft.shape"
   ]
  },
  {
   "cell_type": "code",
   "execution_count": 15,
   "metadata": {},
   "outputs": [],
   "source": [
    "goog = goog.drop_duplicates()"
   ]
  },
  {
   "cell_type": "code",
   "execution_count": 16,
   "metadata": {},
   "outputs": [
    {
     "data": {
      "text/plain": [
       "(369, 2)"
      ]
     },
     "execution_count": 16,
     "metadata": {},
     "output_type": "execute_result"
    }
   ],
   "source": [
    "goog.shape"
   ]
  },
  {
   "cell_type": "code",
   "execution_count": 17,
   "metadata": {},
   "outputs": [],
   "source": [
    "amzn = amzn.drop_duplicates()"
   ]
  },
  {
   "cell_type": "code",
   "execution_count": 18,
   "metadata": {},
   "outputs": [
    {
     "data": {
      "text/plain": [
       "(480, 2)"
      ]
     },
     "execution_count": 18,
     "metadata": {},
     "output_type": "execute_result"
    }
   ],
   "source": [
    "amzn .shape"
   ]
  },
  {
   "cell_type": "code",
   "execution_count": 19,
   "metadata": {},
   "outputs": [],
   "source": [
    "# On met la date au bon format\n",
    "from dateutil.parser import parse"
   ]
  },
  {
   "cell_type": "code",
   "execution_count": 20,
   "metadata": {},
   "outputs": [],
   "source": [
    "# je récupére les 3 derniers éléments après avoir spliter la chaîne en token\n",
    "amzn['Date']= amzn['Date'].apply(lambda x: x.split()[-3:])\n",
    "goog['Date']= goog['Date'].apply(lambda x: str(x).split()[-3:])\n",
    "msft['Date']= msft['Date'].apply(lambda x: str(x).split()[-3:])"
   ]
  },
  {
   "cell_type": "code",
   "execution_count": 21,
   "metadata": {},
   "outputs": [
    {
     "data": {
      "text/plain": [
       "0       [October, 1st, 2020]\n",
       "1    [September, 25th, 2020]\n",
       "2       [August, 26th, 2020]\n",
       "3       [August, 21st, 2020]\n",
       "4        [August, 4th, 2020]\n",
       "Name: Date, dtype: object"
      ]
     },
     "execution_count": 21,
     "metadata": {},
     "output_type": "execute_result"
    }
   ],
   "source": [
    "goog['Date'].head()"
   ]
  },
  {
   "cell_type": "code",
   "execution_count": 22,
   "metadata": {},
   "outputs": [],
   "source": [
    "# Jejoins les tokens par un tiret\n",
    "amzn['Date']= amzn['Date'].apply(lambda x: '-'.join(x))\n",
    "goog['Date']= goog['Date'].apply(lambda x: '-'.join(x))\n",
    "msft['Date']= msft['Date'].apply(lambda x: '-'.join(x))"
   ]
  },
  {
   "cell_type": "code",
   "execution_count": 23,
   "metadata": {},
   "outputs": [
    {
     "data": {
      "text/plain": [
       "0       October-1st-2020\n",
       "1    September-21st-2020\n",
       "2     September-8th-2020\n",
       "3     September-5th-2020\n",
       "4    September-11th-2020\n",
       "Name: Date, dtype: object"
      ]
     },
     "execution_count": 23,
     "metadata": {},
     "output_type": "execute_result"
    }
   ],
   "source": [
    "msft['Date'].head()"
   ]
  },
  {
   "cell_type": "code",
   "execution_count": 24,
   "metadata": {},
   "outputs": [],
   "source": [
    "# Je parse la date\n",
    "amzn['Date']= amzn['Date'].apply(lambda x: parse(x))\n",
    "goog['Date']= goog['Date'].apply(lambda x: parse(x))\n",
    "msft['Date']= msft['Date'].apply(lambda x: parse(x))"
   ]
  },
  {
   "cell_type": "code",
   "execution_count": 25,
   "metadata": {},
   "outputs": [
    {
     "data": {
      "text/plain": [
       "0   2020-10-01\n",
       "1   2020-09-21\n",
       "2   2020-09-08\n",
       "3   2020-09-05\n",
       "4   2020-09-11\n",
       "Name: Date, dtype: datetime64[ns]"
      ]
     },
     "execution_count": 25,
     "metadata": {},
     "output_type": "execute_result"
    }
   ],
   "source": [
    "msft['Date'].head()"
   ]
  },
  {
   "cell_type": "code",
   "execution_count": 26,
   "metadata": {},
   "outputs": [],
   "source": [
    "# je la met au bon format \n",
    "amzn['Date']= amzn['Date'].apply(lambda x: x.strftime('%Y-%m-%d'))\n",
    "goog['Date']= goog['Date'].apply(lambda x: x.strftime('%Y-%m-%d'))\n",
    "msft['Date']= msft['Date'].apply(lambda x: x.strftime('%Y-%m-%d'))"
   ]
  },
  {
   "cell_type": "code",
   "execution_count": 27,
   "metadata": {},
   "outputs": [
    {
     "data": {
      "text/html": [
       "<div>\n",
       "<style scoped>\n",
       "    .dataframe tbody tr th:only-of-type {\n",
       "        vertical-align: middle;\n",
       "    }\n",
       "\n",
       "    .dataframe tbody tr th {\n",
       "        vertical-align: top;\n",
       "    }\n",
       "\n",
       "    .dataframe thead th {\n",
       "        text-align: right;\n",
       "    }\n",
       "</style>\n",
       "<table border=\"1\" class=\"dataframe\">\n",
       "  <thead>\n",
       "    <tr style=\"text-align: right;\">\n",
       "      <th></th>\n",
       "      <th>Date</th>\n",
       "      <th>comment</th>\n",
       "    </tr>\n",
       "  </thead>\n",
       "  <tbody>\n",
       "    <tr>\n",
       "      <th>0</th>\n",
       "      <td>2020-10-01</td>\n",
       "      <td>Amazon Music partners with Universal Music, Wa...</td>\n",
       "    </tr>\n",
       "    <tr>\n",
       "      <th>1</th>\n",
       "      <td>2020-09-22</td>\n",
       "      <td>Amazon to expand tech hubs, corporate offices,...</td>\n",
       "    </tr>\n",
       "    <tr>\n",
       "      <th>2</th>\n",
       "      <td>2020-09-22</td>\n",
       "      <td>Amazon hires former Yahoo, Slack privacy head ...</td>\n",
       "    </tr>\n",
       "    <tr>\n",
       "      <th>3</th>\n",
       "      <td>2020-09-16</td>\n",
       "      <td>Amazon's latest job spree: Another 100,000 wor...</td>\n",
       "    </tr>\n",
       "    <tr>\n",
       "      <th>4</th>\n",
       "      <td>2020-08-26</td>\n",
       "      <td>Amazon targeted by German antitrust probe</td>\n",
       "    </tr>\n",
       "  </tbody>\n",
       "</table>\n",
       "</div>"
      ],
      "text/plain": [
       "         Date                                            comment\n",
       "0  2020-10-01  Amazon Music partners with Universal Music, Wa...\n",
       "1  2020-09-22  Amazon to expand tech hubs, corporate offices,...\n",
       "2  2020-09-22  Amazon hires former Yahoo, Slack privacy head ...\n",
       "3  2020-09-16  Amazon's latest job spree: Another 100,000 wor...\n",
       "4  2020-08-26          Amazon targeted by German antitrust probe"
      ]
     },
     "execution_count": 27,
     "metadata": {},
     "output_type": "execute_result"
    }
   ],
   "source": [
    "amzn.head()"
   ]
  },
  {
   "cell_type": "code",
   "execution_count": 28,
   "metadata": {},
   "outputs": [],
   "source": [
    "# Je modifie le nom des colonnes\n",
    "amzn = amzn.rename(columns={\"comment\": \"Title\"})\n",
    "goog = goog.rename(columns={\"comment\": \"Title\"})\n",
    "msft = msft.rename(columns={\"comment\": \"Title\"})"
   ]
  },
  {
   "cell_type": "code",
   "execution_count": 29,
   "metadata": {},
   "outputs": [
    {
     "data": {
      "text/html": [
       "<div>\n",
       "<style scoped>\n",
       "    .dataframe tbody tr th:only-of-type {\n",
       "        vertical-align: middle;\n",
       "    }\n",
       "\n",
       "    .dataframe tbody tr th {\n",
       "        vertical-align: top;\n",
       "    }\n",
       "\n",
       "    .dataframe thead th {\n",
       "        text-align: right;\n",
       "    }\n",
       "</style>\n",
       "<table border=\"1\" class=\"dataframe\">\n",
       "  <thead>\n",
       "    <tr style=\"text-align: right;\">\n",
       "      <th></th>\n",
       "      <th>Date</th>\n",
       "      <th>Title</th>\n",
       "    </tr>\n",
       "  </thead>\n",
       "  <tbody>\n",
       "    <tr>\n",
       "      <th>0</th>\n",
       "      <td>2020-10-01</td>\n",
       "      <td>Datadog price target lifted on Microsoft partn...</td>\n",
       "    </tr>\n",
       "    <tr>\n",
       "      <th>1</th>\n",
       "      <td>2020-09-21</td>\n",
       "      <td>Analog Devices teams with Microsoft on 3D prod...</td>\n",
       "    </tr>\n",
       "    <tr>\n",
       "      <th>2</th>\n",
       "      <td>2020-09-08</td>\n",
       "      <td>Microsoft Teams, NFL deepen gameday partnership</td>\n",
       "    </tr>\n",
       "    <tr>\n",
       "      <th>3</th>\n",
       "      <td>2020-09-05</td>\n",
       "      <td>Microsoft teams up with BP to achieve net zero...</td>\n",
       "    </tr>\n",
       "    <tr>\n",
       "      <th>4</th>\n",
       "      <td>2020-09-11</td>\n",
       "      <td>Microsoft targets raised ahead of earnings</td>\n",
       "    </tr>\n",
       "    <tr>\n",
       "      <th>...</th>\n",
       "      <td>...</td>\n",
       "      <td>...</td>\n",
       "    </tr>\n",
       "    <tr>\n",
       "      <th>361</th>\n",
       "      <td>2016-10-03</td>\n",
       "      <td>Office iPad apps arriving ... eventually</td>\n",
       "    </tr>\n",
       "    <tr>\n",
       "      <th>362</th>\n",
       "      <td>2014-06-19</td>\n",
       "      <td>IBM, Cisco make OpenStack cloud acquisitions</td>\n",
       "    </tr>\n",
       "    <tr>\n",
       "      <th>363</th>\n",
       "      <td>2016-03-18</td>\n",
       "      <td>NBC Sports launches dedicated video-streaming ...</td>\n",
       "    </tr>\n",
       "    <tr>\n",
       "      <th>364</th>\n",
       "      <td>2013-12-12</td>\n",
       "      <td>Barracuda down 23.8% after billings guidance c...</td>\n",
       "    </tr>\n",
       "    <tr>\n",
       "      <th>365</th>\n",
       "      <td>2016-07-12</td>\n",
       "      <td>Kantar: Android takes share in U.S., iPhone ga...</td>\n",
       "    </tr>\n",
       "  </tbody>\n",
       "</table>\n",
       "<p>335 rows × 2 columns</p>\n",
       "</div>"
      ],
      "text/plain": [
       "           Date                                              Title\n",
       "0    2020-10-01  Datadog price target lifted on Microsoft partn...\n",
       "1    2020-09-21  Analog Devices teams with Microsoft on 3D prod...\n",
       "2    2020-09-08    Microsoft Teams, NFL deepen gameday partnership\n",
       "3    2020-09-05  Microsoft teams up with BP to achieve net zero...\n",
       "4    2020-09-11         Microsoft targets raised ahead of earnings\n",
       "..          ...                                                ...\n",
       "361  2016-10-03           Office iPad apps arriving ... eventually\n",
       "362  2014-06-19       IBM, Cisco make OpenStack cloud acquisitions\n",
       "363  2016-03-18  NBC Sports launches dedicated video-streaming ...\n",
       "364  2013-12-12  Barracuda down 23.8% after billings guidance c...\n",
       "365  2016-07-12  Kantar: Android takes share in U.S., iPhone ga...\n",
       "\n",
       "[335 rows x 2 columns]"
      ]
     },
     "execution_count": 29,
     "metadata": {},
     "output_type": "execute_result"
    }
   ],
   "source": [
    "msft"
   ]
  },
  {
   "cell_type": "code",
   "execution_count": 30,
   "metadata": {},
   "outputs": [],
   "source": [
    "# je sauve mes dataframe en csv\n",
    "msft.to_csv('microsoft_News2.csv')\n",
    "amzn.to_csv('amazon_News2.csv')\n",
    "goog.to_csv('google_News2.csv')"
   ]
  },
  {
   "cell_type": "code",
   "execution_count": null,
   "metadata": {},
   "outputs": [],
   "source": []
  }
 ],
 "metadata": {
  "kernelspec": {
   "display_name": "Python 3",
   "language": "python",
   "name": "python3"
  },
  "language_info": {
   "codemirror_mode": {
    "name": "ipython",
    "version": 3
   },
   "file_extension": ".py",
   "mimetype": "text/x-python",
   "name": "python",
   "nbconvert_exporter": "python",
   "pygments_lexer": "ipython3",
   "version": "3.7.6"
  }
 },
 "nbformat": 4,
 "nbformat_minor": 4
}
