{
 "cells": [
  {
   "cell_type": "markdown",
   "metadata": {
    "id": "VEoCceBLDFjQ"
   },
   "source": [
    "# Stock Price Prediction avec LSTM"
   ]
  },
  {
   "cell_type": "markdown",
   "metadata": {},
   "source": [
    "**LSTM (Long Short-Term Memory)** est une architecture de réseau neuronal récurrent artificiel (RNN) utilisée dans le deep learning.\n",
    "Les LSTM sont largement utilisés pour les problèmes de prédiction de séquences et se sont avérés extrêmement efficaces. La raison pour laquelle ils fonctionnent si bien, c’est parce que LSTM est en mesure de stocker des informations passées qui est important, et oublier l’information qui n’est pas."
   ]
  },
  {
   "cell_type": "markdown",
   "metadata": {},
   "source": [
    "## Importer les libraries"
   ]
  },
  {
   "cell_type": "code",
   "execution_count": 1,
   "metadata": {
    "id": "zT5TR1DdDFjU"
   },
   "outputs": [
    {
     "name": "stderr",
     "output_type": "stream",
     "text": [
      "C:\\Users\\ouizb\\anaconda3\\lib\\site-packages\\tensorboard\\compat\\tensorflow_stub\\dtypes.py:541: FutureWarning: Passing (type, 1) or '1type' as a synonym of type is deprecated; in a future version of numpy, it will be understood as (type, (1,)) / '(1,)type'.\n",
      "  _np_qint8 = np.dtype([(\"qint8\", np.int8, 1)])\n",
      "C:\\Users\\ouizb\\anaconda3\\lib\\site-packages\\tensorboard\\compat\\tensorflow_stub\\dtypes.py:542: FutureWarning: Passing (type, 1) or '1type' as a synonym of type is deprecated; in a future version of numpy, it will be understood as (type, (1,)) / '(1,)type'.\n",
      "  _np_quint8 = np.dtype([(\"quint8\", np.uint8, 1)])\n",
      "C:\\Users\\ouizb\\anaconda3\\lib\\site-packages\\tensorboard\\compat\\tensorflow_stub\\dtypes.py:543: FutureWarning: Passing (type, 1) or '1type' as a synonym of type is deprecated; in a future version of numpy, it will be understood as (type, (1,)) / '(1,)type'.\n",
      "  _np_qint16 = np.dtype([(\"qint16\", np.int16, 1)])\n",
      "C:\\Users\\ouizb\\anaconda3\\lib\\site-packages\\tensorboard\\compat\\tensorflow_stub\\dtypes.py:544: FutureWarning: Passing (type, 1) or '1type' as a synonym of type is deprecated; in a future version of numpy, it will be understood as (type, (1,)) / '(1,)type'.\n",
      "  _np_quint16 = np.dtype([(\"quint16\", np.uint16, 1)])\n",
      "C:\\Users\\ouizb\\anaconda3\\lib\\site-packages\\tensorboard\\compat\\tensorflow_stub\\dtypes.py:545: FutureWarning: Passing (type, 1) or '1type' as a synonym of type is deprecated; in a future version of numpy, it will be understood as (type, (1,)) / '(1,)type'.\n",
      "  _np_qint32 = np.dtype([(\"qint32\", np.int32, 1)])\n",
      "C:\\Users\\ouizb\\anaconda3\\lib\\site-packages\\tensorboard\\compat\\tensorflow_stub\\dtypes.py:550: FutureWarning: Passing (type, 1) or '1type' as a synonym of type is deprecated; in a future version of numpy, it will be understood as (type, (1,)) / '(1,)type'.\n",
      "  np_resource = np.dtype([(\"resource\", np.ubyte, 1)])\n"
     ]
    }
   ],
   "source": [
    "#pip install yfinance\n",
    "import pandas as pd\n",
    "import numpy as np\n",
    "import matplotlib.pyplot as plt\n",
    "import seaborn as sns\n",
    "import seaborn as sns\n",
    "import yfinance as yf\n",
    "from sklearn.preprocessing import MinMaxScaler\n",
    "sns.set_style('whitegrid')\n",
    "plt.style.use(\"fivethirtyeight\")\n",
    "from keras.models import Sequential\n",
    "from keras.layers import LSTM,Dense\n",
    "from keras.models import load_model\n",
    "%matplotlib inline\n",
    "from tensorflow.keras.callbacks import ModelCheckpoint, CSVLogger"
   ]
  },
  {
   "cell_type": "markdown",
   "metadata": {
    "id": "FRzLIfLpDFkG"
   },
   "source": [
    "## Historique des cours de  Microsoft, AMazon et Google"
   ]
  },
  {
   "cell_type": "markdown",
   "metadata": {},
   "source": [
    "Historique des prix par jour sur les dix dernières années en utilisant Yahoo's Finance API. "
   ]
  },
  {
   "cell_type": "code",
   "execution_count": 2,
   "metadata": {
    "id": "olmOXTQCDFlY"
   },
   "outputs": [],
   "source": [
    "def get_data(symbol):\n",
    "    tickerData = yf.Ticker(symbol)\n",
    "    data = tickerData.history(period='1d', start='2010-10-1', end=\"2020-10-2\")\n",
    "    data['companies'] = symbol\n",
    "    data.drop(['Dividends', 'Stock Splits'], axis=1, inplace=True)\n",
    "    return data\n",
    "\n"
   ]
  },
  {
   "cell_type": "code",
   "execution_count": 3,
   "metadata": {
    "id": "KAi16hu6baWP"
   },
   "outputs": [],
   "source": [
    "msft = get_data(\"MSFT\")\n",
    "amzn = get_data(\"AMZN\")\n",
    "goog = get_data(\"GOOG\")"
   ]
  },
  {
   "cell_type": "code",
   "execution_count": 4,
   "metadata": {
    "colab": {
     "base_uri": "https://localhost:8080/",
     "height": 235
    },
    "id": "L2Qfp628dgEw",
    "outputId": "c25b9490-6e76-43ea-9bd7-641b31a679cd"
   },
   "outputs": [
    {
     "data": {
      "text/html": [
       "<div>\n",
       "<style scoped>\n",
       "    .dataframe tbody tr th:only-of-type {\n",
       "        vertical-align: middle;\n",
       "    }\n",
       "\n",
       "    .dataframe tbody tr th {\n",
       "        vertical-align: top;\n",
       "    }\n",
       "\n",
       "    .dataframe thead th {\n",
       "        text-align: right;\n",
       "    }\n",
       "</style>\n",
       "<table border=\"1\" class=\"dataframe\">\n",
       "  <thead>\n",
       "    <tr style=\"text-align: right;\">\n",
       "      <th></th>\n",
       "      <th>Open</th>\n",
       "      <th>High</th>\n",
       "      <th>Low</th>\n",
       "      <th>Close</th>\n",
       "      <th>Volume</th>\n",
       "      <th>companies</th>\n",
       "    </tr>\n",
       "    <tr>\n",
       "      <th>Date</th>\n",
       "      <th></th>\n",
       "      <th></th>\n",
       "      <th></th>\n",
       "      <th></th>\n",
       "      <th></th>\n",
       "      <th></th>\n",
       "    </tr>\n",
       "  </thead>\n",
       "  <tbody>\n",
       "    <tr>\n",
       "      <th>2020-09-25</th>\n",
       "      <td>203.55</td>\n",
       "      <td>209.04</td>\n",
       "      <td>202.54</td>\n",
       "      <td>207.82</td>\n",
       "      <td>29437300</td>\n",
       "      <td>MSFT</td>\n",
       "    </tr>\n",
       "    <tr>\n",
       "      <th>2020-09-28</th>\n",
       "      <td>210.88</td>\n",
       "      <td>212.57</td>\n",
       "      <td>208.06</td>\n",
       "      <td>209.44</td>\n",
       "      <td>32004900</td>\n",
       "      <td>MSFT</td>\n",
       "    </tr>\n",
       "    <tr>\n",
       "      <th>2020-09-29</th>\n",
       "      <td>209.35</td>\n",
       "      <td>210.07</td>\n",
       "      <td>206.81</td>\n",
       "      <td>207.26</td>\n",
       "      <td>24221900</td>\n",
       "      <td>MSFT</td>\n",
       "    </tr>\n",
       "    <tr>\n",
       "      <th>2020-09-30</th>\n",
       "      <td>207.73</td>\n",
       "      <td>211.98</td>\n",
       "      <td>206.54</td>\n",
       "      <td>210.33</td>\n",
       "      <td>33780700</td>\n",
       "      <td>MSFT</td>\n",
       "    </tr>\n",
       "    <tr>\n",
       "      <th>2020-10-01</th>\n",
       "      <td>213.49</td>\n",
       "      <td>213.99</td>\n",
       "      <td>211.32</td>\n",
       "      <td>212.46</td>\n",
       "      <td>27158400</td>\n",
       "      <td>MSFT</td>\n",
       "    </tr>\n",
       "  </tbody>\n",
       "</table>\n",
       "</div>"
      ],
      "text/plain": [
       "              Open    High     Low   Close    Volume companies\n",
       "Date                                                          \n",
       "2020-09-25  203.55  209.04  202.54  207.82  29437300      MSFT\n",
       "2020-09-28  210.88  212.57  208.06  209.44  32004900      MSFT\n",
       "2020-09-29  209.35  210.07  206.81  207.26  24221900      MSFT\n",
       "2020-09-30  207.73  211.98  206.54  210.33  33780700      MSFT\n",
       "2020-10-01  213.49  213.99  211.32  212.46  27158400      MSFT"
      ]
     },
     "execution_count": 4,
     "metadata": {},
     "output_type": "execute_result"
    }
   ],
   "source": [
    "msft.tail()"
   ]
  },
  {
   "cell_type": "markdown",
   "metadata": {
    "id": "F4w6PFBO7rWY"
   },
   "source": [
    "##  Concaténer les 3 Dataframes"
   ]
  },
  {
   "cell_type": "markdown",
   "metadata": {},
   "source": [
    "Nous avons 7557 observations et 6 features"
   ]
  },
  {
   "cell_type": "code",
   "execution_count": 5,
   "metadata": {
    "colab": {
     "base_uri": "https://localhost:8080/",
     "height": 235
    },
    "id": "7flUZOCxeM5d",
    "outputId": "66e9ebb6-09c0-4a1b-d906-e4a4baa6f21b"
   },
   "outputs": [
    {
     "data": {
      "text/html": [
       "<div>\n",
       "<style scoped>\n",
       "    .dataframe tbody tr th:only-of-type {\n",
       "        vertical-align: middle;\n",
       "    }\n",
       "\n",
       "    .dataframe tbody tr th {\n",
       "        vertical-align: top;\n",
       "    }\n",
       "\n",
       "    .dataframe thead th {\n",
       "        text-align: right;\n",
       "    }\n",
       "</style>\n",
       "<table border=\"1\" class=\"dataframe\">\n",
       "  <thead>\n",
       "    <tr style=\"text-align: right;\">\n",
       "      <th></th>\n",
       "      <th>Open</th>\n",
       "      <th>High</th>\n",
       "      <th>Low</th>\n",
       "      <th>Close</th>\n",
       "      <th>Volume</th>\n",
       "      <th>companies</th>\n",
       "    </tr>\n",
       "    <tr>\n",
       "      <th>Date</th>\n",
       "      <th></th>\n",
       "      <th></th>\n",
       "      <th></th>\n",
       "      <th></th>\n",
       "      <th></th>\n",
       "      <th></th>\n",
       "    </tr>\n",
       "  </thead>\n",
       "  <tbody>\n",
       "    <tr>\n",
       "      <th>2010-09-30</th>\n",
       "      <td>19.50</td>\n",
       "      <td>19.67</td>\n",
       "      <td>19.30</td>\n",
       "      <td>19.40</td>\n",
       "      <td>61262700</td>\n",
       "      <td>MSFT</td>\n",
       "    </tr>\n",
       "    <tr>\n",
       "      <th>2010-10-01</th>\n",
       "      <td>19.62</td>\n",
       "      <td>19.66</td>\n",
       "      <td>19.25</td>\n",
       "      <td>19.32</td>\n",
       "      <td>62672300</td>\n",
       "      <td>MSFT</td>\n",
       "    </tr>\n",
       "    <tr>\n",
       "      <th>2010-10-04</th>\n",
       "      <td>18.98</td>\n",
       "      <td>19.01</td>\n",
       "      <td>18.84</td>\n",
       "      <td>18.94</td>\n",
       "      <td>98143400</td>\n",
       "      <td>MSFT</td>\n",
       "    </tr>\n",
       "    <tr>\n",
       "      <th>2010-10-05</th>\n",
       "      <td>19.06</td>\n",
       "      <td>19.37</td>\n",
       "      <td>18.94</td>\n",
       "      <td>19.29</td>\n",
       "      <td>78152900</td>\n",
       "      <td>MSFT</td>\n",
       "    </tr>\n",
       "    <tr>\n",
       "      <th>2010-10-06</th>\n",
       "      <td>19.27</td>\n",
       "      <td>19.44</td>\n",
       "      <td>19.12</td>\n",
       "      <td>19.36</td>\n",
       "      <td>50489700</td>\n",
       "      <td>MSFT</td>\n",
       "    </tr>\n",
       "  </tbody>\n",
       "</table>\n",
       "</div>"
      ],
      "text/plain": [
       "             Open   High    Low  Close    Volume companies\n",
       "Date                                                      \n",
       "2010-09-30  19.50  19.67  19.30  19.40  61262700      MSFT\n",
       "2010-10-01  19.62  19.66  19.25  19.32  62672300      MSFT\n",
       "2010-10-04  18.98  19.01  18.84  18.94  98143400      MSFT\n",
       "2010-10-05  19.06  19.37  18.94  19.29  78152900      MSFT\n",
       "2010-10-06  19.27  19.44  19.12  19.36  50489700      MSFT"
      ]
     },
     "execution_count": 5,
     "metadata": {},
     "output_type": "execute_result"
    }
   ],
   "source": [
    "company_list = [msft, amzn, goog]\n",
    "    \n",
    "df_concat = pd.concat(company_list, axis=0)\n",
    "    \n",
    "df_concat.head()"
   ]
  },
  {
   "cell_type": "code",
   "execution_count": 6,
   "metadata": {
    "colab": {
     "base_uri": "https://localhost:8080/",
     "height": 34
    },
    "id": "h-awC1pseryd",
    "outputId": "afd9fa95-72e5-48c2-936c-d4f2b510b60a"
   },
   "outputs": [
    {
     "data": {
      "text/plain": [
       "array(['MSFT', 'AMZN', 'GOOG'], dtype=object)"
      ]
     },
     "execution_count": 6,
     "metadata": {},
     "output_type": "execute_result"
    }
   ],
   "source": [
    "df_concat.companies.unique()"
   ]
  },
  {
   "cell_type": "markdown",
   "metadata": {
    "id": "5vVQaBwi7c1p"
   },
   "source": [
    "## Split data "
   ]
  },
  {
   "cell_type": "markdown",
   "metadata": {},
   "source": [
    "1. Nous choisissons uniquement closing prices puis nous les convertissons en un array. \n",
    "\n",
    "2. Split des données training dataset(80%) et test \n",
    "\n",
    "3. Nous utilisons MinMaxScaler pour avoir des valeurs comprises entre 0 et 1.  \n",
    "\n",
    "4. Créons un data training composé des 60 derniers jours, que nous utiliserons à la fin  pour prédire la valeur du prix de clôture 61e.\n",
    "5. Reshape les données pour qu’elles soient tridimensionnelles afin de les mettre dans le modèle LSTM"
   ]
  },
  {
   "cell_type": "code",
   "execution_count": 7,
   "metadata": {
    "id": "hJ27ZggaiZl4"
   },
   "outputs": [],
   "source": [
    "def split_data(df, symbol):\n",
    "    data = df.filter(['Close']).loc[df['companies']== symbol]\n",
    "    dataset = data.values.reshape(-1, 1)\n",
    "    training_data_len = int(np.ceil(len(dataset) * .8 ))\n",
    "    print(f'Longueur du data: {training_data_len}')\n",
    "    print('================================================')\n",
    "    scaler = MinMaxScaler(feature_range=(0,1))\n",
    "    scaled_data= scaler.fit_transform(dataset)\n",
    "    train_data = scaled_data[0:int(training_data_len), :]\n",
    "    x_train = []\n",
    "    y_train = []\n",
    "    for i in range(60, len(train_data)):\n",
    "        x_train.append(train_data[i-60:i, 0])\n",
    "        y_train.append(train_data[i, 0])\n",
    "\n",
    "    x_train, y_train = np.array(x_train), np.array(y_train)\n",
    "    x_train = np.reshape(x_train, (x_train.shape[0], x_train.shape[1], 1))\n",
    "\n",
    "    test_data = scaled_data[training_data_len - 60: , :]\n",
    "    x_test = []\n",
    "    y_test = dataset[training_data_len:, :]\n",
    "    for i in range(60, len(test_data)):\n",
    "        x_test.append(test_data[i-60:i, 0])\n",
    "    x_test = np.array(x_test)\n",
    "    x_test = np.reshape(x_test, (x_test.shape[0], x_test.shape[1], 1 ))\n",
    "    return x_train, y_train, x_test, y_test, scaler, data, dataset, training_data_len"
   ]
  },
  {
   "cell_type": "markdown",
   "metadata": {
    "id": "tnvNIaMe7gAG"
   },
   "source": [
    "## Construction de modèle LSTM "
   ]
  },
  {
   "cell_type": "markdown",
   "metadata": {},
   "source": [
    "1. **ModelCheckpoint** va enregistrer les poids des modèles à la fin de chaque époque\n",
    "2. **CSVLogger** va sauvegarder nos RMSE\n",
    "3. Splittons une partie des données tranining en validation\n",
    "4. plot history RMSE\n",
    "5. VIsualization des valeurs actuelles vs Prédictions"
   ]
  },
  {
   "cell_type": "code",
   "execution_count": 8,
   "metadata": {
    "id": "RU5vv4AfmwUv"
   },
   "outputs": [],
   "source": [
    "def algo_lstm(x_train, y_train, x_test, y_test, scaler, symbol):\n",
    "    x_train, y_train, x_test, y_test, scaler, data, dataset, training_data_len = split_data(df_concat, \"MSFT\")\n",
    "    model = Sequential()\n",
    "    model.add(LSTM(50, return_sequences=True, input_shape= (x_train.shape[1], 1)))\n",
    "    model.add(LSTM(50, return_sequences= False))\n",
    "    model.add(Dense(25))\n",
    "    model.add(Dense(1))\n",
    "    checkpointer = ModelCheckpoint(filepath=f\"{symbol}_model.h5\", verbose=1, save_best_only=True)\n",
    "    csv_logger = CSVLogger(f\"{symbol}_history_loss.log\")\n",
    "    callbacks=[csv_logger, checkpointer]\n",
    "    model.compile(optimizer='adam', loss='mean_squared_error')\n",
    "    history = model.fit(x_train, y_train, batch_size=16, epochs=50, validation_split=0.1, callbacks=[callbacks])\n",
    "\n",
    "    plt.plot(history.history['loss'])\n",
    "    plt.plot(history.history['val_loss'])\n",
    "    plt.title('model loss')\n",
    "    plt.ylabel('loss')\n",
    "    plt.xlabel('epoch')\n",
    "    plt.legend(['train', 'val'], loc='upper left')\n",
    "    plt.show()\n",
    "\n",
    "    predictions = model.predict(x_test)\n",
    "    predictions = scaler.inverse_transform(predictions)\n",
    "\n",
    "    rmse = np.sqrt(np.mean(((predictions - y_test) ** 2)))\n",
    "    print('================================================')\n",
    "    print(f'RMSE: {rmse}')\n",
    "    print('================================================')\n",
    "    train = data[:training_data_len]\n",
    "    valid = data[training_data_len:]\n",
    "    valid['Predictions'] = predictions\n",
    "\n",
    "    plt.figure(figsize=(16,8))\n",
    "    plt.title('Prédictions vs. valeurs réeles')\n",
    "    plt.xlabel('Date', fontsize=18)\n",
    "    plt.ylabel('Close USD ($)', fontsize=18)\n",
    "    plt.plot(train['Close'])\n",
    "    plt.plot(valid[['Close', 'Predictions']])\n",
    "    plt.legend(['Train', 'Valeurs actuelles', 'Prédictions'], loc='lower right')\n",
    "    plt.show()\n",
    "    print('================================================')\n",
    "    print(valid)\n",
    "    \n",
    "\n",
    "    return model\n",
    "\n"
   ]
  },
  {
   "cell_type": "markdown",
   "metadata": {
    "id": "82WLld5g1wcp"
   },
   "source": [
    "# LSTM Microsft"
   ]
  },
  {
   "cell_type": "markdown",
   "metadata": {},
   "source": [
    "La valeur de notre RMSE est de 5 pour Microsoft. "
   ]
  },
  {
   "cell_type": "code",
   "execution_count": 9,
   "metadata": {
    "colab": {
     "base_uri": "https://localhost:8080/",
     "height": 51
    },
    "id": "riO5snL5oiz_",
    "outputId": "96aa422c-e24a-4655-af02-b99dd32c92e8"
   },
   "outputs": [
    {
     "name": "stdout",
     "output_type": "stream",
     "text": [
      "Longueur du data: 2016\n",
      "================================================\n"
     ]
    }
   ],
   "source": [
    " x_train, y_train, x_test, y_test, scaler, data, dataset, training_data_len = split_data(df_concat, \"MSFT\")"
   ]
  },
  {
   "cell_type": "code",
   "execution_count": 10,
   "metadata": {
    "colab": {
     "base_uri": "https://localhost:8080/",
     "height": 1000
    },
    "id": "4nkyHq_B0Xd4",
    "outputId": "76e5aad9-c290-4024-d501-e69502cbc2d2"
   },
   "outputs": [
    {
     "name": "stdout",
     "output_type": "stream",
     "text": [
      "Longueur du data: 2016\n",
      "================================================\n",
      "Epoch 1/50\n",
      "109/110 [============================>.] - ETA: 0s - loss: 2.9957e-04\n",
      "Epoch 00001: val_loss improved from inf to 0.00024, saving model to MSFT_model.h5\n",
      "110/110 [==============================] - 5s 49ms/step - loss: 2.9707e-04 - val_loss: 2.3614e-04\n",
      "Epoch 2/50\n",
      "109/110 [============================>.] - ETA: 0s - loss: 3.2360e-05\n",
      "Epoch 00002: val_loss improved from 0.00024 to 0.00012, saving model to MSFT_model.h5\n",
      "110/110 [==============================] - 5s 48ms/step - loss: 3.2221e-05 - val_loss: 1.1855e-04\n",
      "Epoch 3/50\n",
      "110/110 [==============================] - ETA: 0s - loss: 3.3559e-05\n",
      "Epoch 00003: val_loss improved from 0.00012 to 0.00009, saving model to MSFT_model.h5\n",
      "110/110 [==============================] - 5s 49ms/step - loss: 3.3559e-05 - val_loss: 8.6907e-05\n",
      "Epoch 4/50\n",
      "109/110 [============================>.] - ETA: 0s - loss: 3.8174e-05\n",
      "Epoch 00004: val_loss did not improve from 0.00009\n",
      "110/110 [==============================] - 5s 42ms/step - loss: 3.8586e-05 - val_loss: 1.5373e-04\n",
      "Epoch 5/50\n",
      "110/110 [==============================] - ETA: 0s - loss: 3.2737e-05\n",
      "Epoch 00005: val_loss improved from 0.00009 to 0.00008, saving model to MSFT_model.h5\n",
      "110/110 [==============================] - 5s 48ms/step - loss: 3.2737e-05 - val_loss: 8.3736e-05\n",
      "Epoch 6/50\n",
      "110/110 [==============================] - ETA: 0s - loss: 3.0576e-05- ETA: 0s - loss:\n",
      "Epoch 00006: val_loss did not improve from 0.00008\n",
      "110/110 [==============================] - 8s 69ms/step - loss: 3.0576e-05 - val_loss: 8.5810e-05\n",
      "Epoch 7/50\n",
      "110/110 [==============================] - ETA: 0s - loss: 2.9521e-05\n",
      "Epoch 00007: val_loss did not improve from 0.00008\n",
      "110/110 [==============================] - 5s 50ms/step - loss: 2.9521e-05 - val_loss: 1.2346e-04\n",
      "Epoch 8/50\n",
      "110/110 [==============================] - ETA: 0s - loss: 2.8740e-05\n",
      "Epoch 00008: val_loss did not improve from 0.00008\n",
      "110/110 [==============================] - 4s 39ms/step - loss: 2.8740e-05 - val_loss: 1.2975e-04\n",
      "Epoch 9/50\n",
      "109/110 [============================>.] - ETA: 0s - loss: 2.3930e-05\n",
      "Epoch 00009: val_loss did not improve from 0.00008\n",
      "110/110 [==============================] - 4s 38ms/step - loss: 2.4018e-05 - val_loss: 9.6804e-05\n",
      "Epoch 10/50\n",
      "110/110 [==============================] - ETA: 0s - loss: 3.2862e-05\n",
      "Epoch 00010: val_loss did not improve from 0.00008\n",
      "110/110 [==============================] - 5s 42ms/step - loss: 3.2862e-05 - val_loss: 1.0585e-04\n",
      "Epoch 11/50\n",
      "109/110 [============================>.] - ETA: 0s - loss: 2.6525e-05\n",
      "Epoch 00011: val_loss did not improve from 0.00008\n",
      "110/110 [==============================] - 5s 48ms/step - loss: 2.6428e-05 - val_loss: 1.0281e-04\n",
      "Epoch 12/50\n",
      "109/110 [============================>.] - ETA: 0s - loss: 2.2402e-05\n",
      "Epoch 00012: val_loss did not improve from 0.00008\n",
      "110/110 [==============================] - 5s 45ms/step - loss: 2.2336e-05 - val_loss: 9.0760e-05\n",
      "Epoch 13/50\n",
      "109/110 [============================>.] - ETA: 0s - loss: 2.9286e-05\n",
      "Epoch 00013: val_loss did not improve from 0.00008\n",
      "110/110 [==============================] - 6s 55ms/step - loss: 2.9093e-05 - val_loss: 1.0877e-04\n",
      "Epoch 14/50\n",
      "110/110 [==============================] - ETA: 0s - loss: 3.1812e-05\n",
      "Epoch 00014: val_loss did not improve from 0.00008\n",
      "110/110 [==============================] - 5s 43ms/step - loss: 3.1812e-05 - val_loss: 1.1095e-04\n",
      "Epoch 15/50\n",
      "109/110 [============================>.] - ETA: 0s - loss: 2.1483e-05\n",
      "Epoch 00015: val_loss improved from 0.00008 to 0.00006, saving model to MSFT_model.h5\n",
      "110/110 [==============================] - 4s 39ms/step - loss: 2.1401e-05 - val_loss: 6.3650e-05\n",
      "Epoch 16/50\n",
      "110/110 [==============================] - ETA: 0s - loss: 1.9232e-05\n",
      "Epoch 00016: val_loss improved from 0.00006 to 0.00006, saving model to MSFT_model.h5\n",
      "110/110 [==============================] - 4s 40ms/step - loss: 1.9232e-05 - val_loss: 6.2095e-05\n",
      "Epoch 17/50\n",
      "110/110 [==============================] - ETA: 0s - loss: 2.1664e-05\n",
      "Epoch 00017: val_loss did not improve from 0.00006\n",
      "110/110 [==============================] - 4s 40ms/step - loss: 2.1664e-05 - val_loss: 1.2596e-04\n",
      "Epoch 18/50\n",
      "109/110 [============================>.] - ETA: 0s - loss: 2.5790e-05\n",
      "Epoch 00018: val_loss improved from 0.00006 to 0.00006, saving model to MSFT_model.h5\n",
      "110/110 [==============================] - 6s 51ms/step - loss: 2.5807e-05 - val_loss: 5.7789e-05\n",
      "Epoch 19/50\n",
      "110/110 [==============================] - ETA: 0s - loss: 2.1916e-05\n",
      "Epoch 00019: val_loss did not improve from 0.00006\n",
      "110/110 [==============================] - 5s 42ms/step - loss: 2.1916e-05 - val_loss: 6.2488e-05\n",
      "Epoch 20/50\n",
      "110/110 [==============================] - ETA: 0s - loss: 2.0155e-05\n",
      "Epoch 00020: val_loss improved from 0.00006 to 0.00006, saving model to MSFT_model.h5\n",
      "110/110 [==============================] - 4s 38ms/step - loss: 2.0155e-05 - val_loss: 5.5449e-05\n",
      "Epoch 21/50\n",
      "109/110 [============================>.] - ETA: 0s - loss: 2.1306e-05\n",
      "Epoch 00021: val_loss did not improve from 0.00006\n",
      "110/110 [==============================] - 4s 40ms/step - loss: 2.1183e-05 - val_loss: 6.7943e-05\n",
      "Epoch 22/50\n",
      "110/110 [==============================] - ETA: 0s - loss: 1.7749e-05\n",
      "Epoch 00022: val_loss improved from 0.00006 to 0.00005, saving model to MSFT_model.h5\n",
      "110/110 [==============================] - 5s 43ms/step - loss: 1.7749e-05 - val_loss: 5.2305e-05\n",
      "Epoch 23/50\n",
      "109/110 [============================>.] - ETA: 0s - loss: 1.6624e-05\n",
      "Epoch 00023: val_loss did not improve from 0.00005\n",
      "110/110 [==============================] - 12s 105ms/step - loss: 1.6571e-05 - val_loss: 9.6229e-05\n",
      "Epoch 24/50\n",
      "110/110 [==============================] - ETA: 0s - loss: 1.5287e-05\n",
      "Epoch 00024: val_loss improved from 0.00005 to 0.00005, saving model to MSFT_model.h5\n",
      "110/110 [==============================] - 12s 111ms/step - loss: 1.5287e-05 - val_loss: 5.0449e-05\n",
      "Epoch 25/50\n",
      "110/110 [==============================] - ETA: 0s - loss: 1.6651e-05\n",
      "Epoch 00025: val_loss improved from 0.00005 to 0.00005, saving model to MSFT_model.h5\n",
      "110/110 [==============================] - 6s 59ms/step - loss: 1.6651e-05 - val_loss: 4.8442e-05\n",
      "Epoch 26/50\n",
      "109/110 [============================>.] - ETA: 0s - loss: 1.4505e-05\n",
      "Epoch 00026: val_loss did not improve from 0.00005\n",
      "110/110 [==============================] - 7s 62ms/step - loss: 1.4486e-05 - val_loss: 4.8661e-05\n",
      "Epoch 27/50\n",
      "110/110 [==============================] - ETA: 0s - loss: 1.4965e-05\n",
      "Epoch 00027: val_loss did not improve from 0.00005\n",
      "110/110 [==============================] - 6s 55ms/step - loss: 1.4965e-05 - val_loss: 5.1757e-05\n",
      "Epoch 28/50\n",
      "110/110 [==============================] - ETA: 0s - loss: 1.5100e-05\n",
      "Epoch 00028: val_loss did not improve from 0.00005\n",
      "110/110 [==============================] - 9s 79ms/step - loss: 1.5100e-05 - val_loss: 8.9110e-05\n",
      "Epoch 29/50\n",
      "109/110 [============================>.] - ETA: 0s - loss: 1.9297e-05\n",
      "Epoch 00029: val_loss did not improve from 0.00005\n",
      "110/110 [==============================] - 16s 148ms/step - loss: 1.9235e-05 - val_loss: 6.5105e-05\n",
      "Epoch 30/50\n",
      "110/110 [==============================] - ETA: 0s - loss: 1.3764e-05\n",
      "Epoch 00030: val_loss did not improve from 0.00005\n",
      "110/110 [==============================] - 14s 131ms/step - loss: 1.3764e-05 - val_loss: 8.5002e-05\n",
      "Epoch 31/50\n",
      "110/110 [==============================] - ETA: 0s - loss: 1.2401e-05- ETA: 1s - loss: 1.\n",
      "Epoch 00031: val_loss improved from 0.00005 to 0.00004, saving model to MSFT_model.h5\n",
      "110/110 [==============================] - 15s 133ms/step - loss: 1.2401e-05 - val_loss: 4.1722e-05\n",
      "Epoch 32/50\n",
      "110/110 [==============================] - ETA: 0s - loss: 1.1785e-05\n",
      "Epoch 00032: val_loss did not improve from 0.00004\n",
      "110/110 [==============================] - 7s 62ms/step - loss: 1.1785e-05 - val_loss: 6.9589e-05\n",
      "Epoch 33/50\n",
      "109/110 [============================>.] - ETA: 0s - loss: 1.1669e-05\n",
      "Epoch 00033: val_loss improved from 0.00004 to 0.00004, saving model to MSFT_model.h5\n",
      "110/110 [==============================] - 6s 52ms/step - loss: 1.1619e-05 - val_loss: 4.0377e-05\n",
      "Epoch 34/50\n"
     ]
    },
    {
     "name": "stdout",
     "output_type": "stream",
     "text": [
      "110/110 [==============================] - ETA: 0s - loss: 1.0672e-05\n",
      "Epoch 00034: val_loss did not improve from 0.00004\n",
      "110/110 [==============================] - 7s 61ms/step - loss: 1.0672e-05 - val_loss: 4.8238e-05\n",
      "Epoch 35/50\n",
      "110/110 [==============================] - ETA: 0s - loss: 1.7974e-05\n",
      "Epoch 00035: val_loss improved from 0.00004 to 0.00004, saving model to MSFT_model.h5\n",
      "110/110 [==============================] - 6s 55ms/step - loss: 1.7974e-05 - val_loss: 3.9231e-05\n",
      "Epoch 36/50\n",
      "110/110 [==============================] - ETA: 0s - loss: 1.0983e-05- ETA: 0s - loss:\n",
      "Epoch 00036: val_loss did not improve from 0.00004\n",
      "110/110 [==============================] - 8s 69ms/step - loss: 1.0983e-05 - val_loss: 5.5822e-05\n",
      "Epoch 37/50\n",
      "110/110 [==============================] - ETA: 0s - loss: 1.0400e-05\n",
      "Epoch 00037: val_loss improved from 0.00004 to 0.00004, saving model to MSFT_model.h5\n",
      "110/110 [==============================] - 7s 64ms/step - loss: 1.0400e-05 - val_loss: 3.8968e-05\n",
      "Epoch 38/50\n",
      "110/110 [==============================] - ETA: 0s - loss: 1.1286e-05\n",
      "Epoch 00038: val_loss did not improve from 0.00004\n",
      "110/110 [==============================] - 6s 54ms/step - loss: 1.1286e-05 - val_loss: 4.4265e-05\n",
      "Epoch 39/50\n",
      "110/110 [==============================] - ETA: 0s - loss: 1.2661e-05\n",
      "Epoch 00039: val_loss did not improve from 0.00004\n",
      "110/110 [==============================] - 6s 55ms/step - loss: 1.2661e-05 - val_loss: 6.4344e-05\n",
      "Epoch 40/50\n",
      "109/110 [============================>.] - ETA: 0s - loss: 1.0865e-05\n",
      "Epoch 00040: val_loss did not improve from 0.00004\n",
      "110/110 [==============================] - 6s 50ms/step - loss: 1.0799e-05 - val_loss: 6.7252e-05\n",
      "Epoch 41/50\n",
      "110/110 [==============================] - ETA: 0s - loss: 1.3919e-05\n",
      "Epoch 00041: val_loss did not improve from 0.00004\n",
      "110/110 [==============================] - 7s 62ms/step - loss: 1.3919e-05 - val_loss: 4.3879e-05\n",
      "Epoch 42/50\n",
      "110/110 [==============================] - ETA: 0s - loss: 1.1854e-05\n",
      "Epoch 00042: val_loss did not improve from 0.00004\n",
      "110/110 [==============================] - 6s 51ms/step - loss: 1.1854e-05 - val_loss: 5.1277e-05\n",
      "Epoch 43/50\n",
      "110/110 [==============================] - ETA: 0s - loss: 1.0656e-05\n",
      "Epoch 00043: val_loss did not improve from 0.00004\n",
      "110/110 [==============================] - 6s 51ms/step - loss: 1.0656e-05 - val_loss: 6.3494e-05\n",
      "Epoch 44/50\n",
      "110/110 [==============================] - ETA: 0s - loss: 1.5537e-05\n",
      "Epoch 00044: val_loss did not improve from 0.00004\n",
      "110/110 [==============================] - 6s 53ms/step - loss: 1.5537e-05 - val_loss: 7.7493e-05\n",
      "Epoch 45/50\n",
      "110/110 [==============================] - ETA: 0s - loss: 9.7555e-06\n",
      "Epoch 00045: val_loss did not improve from 0.00004\n",
      "110/110 [==============================] - 7s 66ms/step - loss: 9.7555e-06 - val_loss: 5.5567e-05\n",
      "Epoch 46/50\n",
      "110/110 [==============================] - ETA: 0s - loss: 8.6060e-06- E\n",
      "Epoch 00046: val_loss did not improve from 0.00004\n",
      "110/110 [==============================] - 7s 61ms/step - loss: 8.6060e-06 - val_loss: 4.1011e-05\n",
      "Epoch 47/50\n",
      "109/110 [============================>.] - ETA: 0s - loss: 1.0299e-05\n",
      "Epoch 00047: val_loss did not improve from 0.00004\n",
      "110/110 [==============================] - 6s 52ms/step - loss: 1.0272e-05 - val_loss: 4.4419e-05\n",
      "Epoch 48/50\n",
      "109/110 [============================>.] - ETA: 0s - loss: 1.1143e-05\n",
      "Epoch 00048: val_loss did not improve from 0.00004\n",
      "110/110 [==============================] - 6s 51ms/step - loss: 1.1108e-05 - val_loss: 4.6526e-05\n",
      "Epoch 49/50\n",
      "109/110 [============================>.] - ETA: 0s - loss: 1.0691e-05\n",
      "Epoch 00049: val_loss did not improve from 0.00004\n",
      "110/110 [==============================] - 6s 56ms/step - loss: 1.0774e-05 - val_loss: 4.5726e-05\n",
      "Epoch 50/50\n",
      "109/110 [============================>.] - ETA: 0s - loss: 9.9146e-06- ETA: 0s - loss: 1.0\n",
      "Epoch 00050: val_loss improved from 0.00004 to 0.00004, saving model to MSFT_model.h5\n",
      "110/110 [==============================] - 5s 44ms/step - loss: 9.8923e-06 - val_loss: 3.8291e-05\n"
     ]
    },
    {
     "data": {
      "image/png": "[encoded data removed]",
      "text/plain": [
       "<Figure size 432x288 with 1 Axes>"
      ]
     },
     "metadata": {
      "needs_background": "light"
     },
     "output_type": "display_data"
    },
    {
     "name": "stdout",
     "output_type": "stream",
     "text": [
      "================================================\n",
      "RMSE: 3.4176287599770268\n",
      "================================================\n"
     ]
    },
    {
     "name": "stderr",
     "output_type": "stream",
     "text": [
      "C:\\Users\\ouizb\\anaconda3\\lib\\site-packages\\ipykernel_launcher.py:31: SettingWithCopyWarning: \n",
      "A value is trying to be set on a copy of a slice from a DataFrame.\n",
      "Try using .loc[row_indexer,col_indexer] = value instead\n",
      "\n",
      "See the caveats in the documentation: https://pandas.pydata.org/pandas-docs/stable/user_guide/indexing.html#returning-a-view-versus-a-copy\n"
     ]
    },
    {
     "data": {
      "image/png": "[encoded data removed]",
      "text/plain": [
       "<Figure size 1152x576 with 1 Axes>"
      ]
     },
     "metadata": {
      "needs_background": "light"
     },
     "output_type": "display_data"
    },
    {
     "name": "stdout",
     "output_type": "stream",
     "text": [
      "================================================\n",
      "             Close  Predictions\n",
      "Date                           \n",
      "2018-10-03  112.11   112.386086\n",
      "2018-10-04  109.80   112.307404\n",
      "2018-10-05  109.15   110.111694\n",
      "2018-10-08  107.91   109.320641\n",
      "2018-10-09  109.28   108.253555\n",
      "...            ...          ...\n",
      "2020-09-25  207.82   203.067795\n",
      "2020-09-28  209.44   208.130875\n",
      "2020-09-29  207.26   209.870407\n",
      "2020-09-30  210.33   207.265793\n",
      "2020-10-01  212.46   209.987137\n",
      "\n",
      "[503 rows x 2 columns]\n"
     ]
    }
   ],
   "source": [
    "model = algo_lstm(x_train, y_train, x_test, y_test, scaler, \"MSFT\")"
   ]
  },
  {
   "cell_type": "markdown",
   "metadata": {
    "id": "70Qf4sJr141_"
   },
   "source": [
    "# LSTM Google "
   ]
  },
  {
   "cell_type": "markdown",
   "metadata": {},
   "source": [
    "La valeur de notre RMSE est de 3.48 pour Google."
   ]
  },
  {
   "cell_type": "code",
   "execution_count": 11,
   "metadata": {
    "colab": {
     "base_uri": "https://localhost:8080/",
     "height": 1000
    },
    "id": "3bSD20A81CWF",
    "outputId": "0bf65a4f-d91c-4573-fa4c-0f3858342cad"
   },
   "outputs": [
    {
     "name": "stdout",
     "output_type": "stream",
     "text": [
      "Longueur du data: 2016\n",
      "================================================\n",
      "Longueur du data: 2016\n",
      "================================================\n",
      "Epoch 1/50\n",
      "110/110 [==============================] - ETA: 0s - loss: 5.9230e-04\n",
      "Epoch 00001: val_loss improved from inf to 0.00012, saving model to GOOG_model.h5\n",
      "110/110 [==============================] - 8s 75ms/step - loss: 5.9230e-04 - val_loss: 1.2240e-04\n",
      "Epoch 2/50\n",
      "110/110 [==============================] - ETA: 0s - loss: 3.0826e-05\n",
      "Epoch 00002: val_loss improved from 0.00012 to 0.00011, saving model to GOOG_model.h5\n",
      "110/110 [==============================] - 5s 41ms/step - loss: 3.0826e-05 - val_loss: 1.0502e-04\n",
      "Epoch 3/50\n",
      "110/110 [==============================] - ETA: 0s - loss: 3.1348e-05\n",
      "Epoch 00003: val_loss did not improve from 0.00011\n",
      "110/110 [==============================] - 5s 49ms/step - loss: 3.1348e-05 - val_loss: 1.5247e-04\n",
      "Epoch 4/50\n",
      "110/110 [==============================] - ETA: 0s - loss: 3.2538e-05\n",
      "Epoch 00004: val_loss improved from 0.00011 to 0.00009, saving model to GOOG_model.h5\n",
      "110/110 [==============================] - 5s 47ms/step - loss: 3.2538e-05 - val_loss: 8.8323e-05\n",
      "Epoch 5/50\n",
      "110/110 [==============================] - ETA: 0s - loss: 3.1438e-05- ETA: 0s - loss: 3.\n",
      "Epoch 00005: val_loss improved from 0.00009 to 0.00009, saving model to GOOG_model.h5\n",
      "110/110 [==============================] - 10s 89ms/step - loss: 3.1438e-05 - val_loss: 8.6238e-05\n",
      "Epoch 6/50\n",
      "109/110 [============================>.] - ETA: 0s - loss: 3.0503e-05\n",
      "Epoch 00006: val_loss did not improve from 0.00009\n",
      "110/110 [==============================] - 6s 55ms/step - loss: 3.0330e-05 - val_loss: 8.6740e-05\n",
      "Epoch 7/50\n",
      "110/110 [==============================] - ETA: 0s - loss: 2.7387e-05\n",
      "Epoch 00007: val_loss did not improve from 0.00009\n",
      "110/110 [==============================] - 5s 50ms/step - loss: 2.7387e-05 - val_loss: 1.4714e-04\n",
      "Epoch 8/50\n",
      "109/110 [============================>.] - ETA: 0s - loss: 2.9865e-05\n",
      "Epoch 00008: val_loss did not improve from 0.00009\n",
      "110/110 [==============================] - 6s 57ms/step - loss: 2.9730e-05 - val_loss: 2.0748e-04\n",
      "Epoch 9/50\n",
      "110/110 [==============================] - ETA: 0s - loss: 2.6115e-05\n",
      "Epoch 00009: val_loss did not improve from 0.00009\n",
      "110/110 [==============================] - 5s 46ms/step - loss: 2.6115e-05 - val_loss: 2.0355e-04\n",
      "Epoch 10/50\n",
      "110/110 [==============================] - ETA: 0s - loss: 2.7308e-05\n",
      "Epoch 00010: val_loss did not improve from 0.00009\n",
      "110/110 [==============================] - 7s 63ms/step - loss: 2.7308e-05 - val_loss: 1.6711e-04\n",
      "Epoch 11/50\n",
      "109/110 [============================>.] - ETA: 0s - loss: 2.8865e-05\n",
      "Epoch 00011: val_loss improved from 0.00009 to 0.00008, saving model to GOOG_model.h5\n",
      "110/110 [==============================] - 6s 51ms/step - loss: 2.8978e-05 - val_loss: 7.8146e-05\n",
      "Epoch 12/50\n",
      "109/110 [============================>.] - ETA: 0s - loss: 2.8228e-05\n",
      "Epoch 00012: val_loss did not improve from 0.00008\n",
      "110/110 [==============================] - 6s 50ms/step - loss: 2.8120e-05 - val_loss: 8.5040e-05\n",
      "Epoch 13/50\n",
      "110/110 [==============================] - ETA: 0s - loss: 3.2807e-05\n",
      "Epoch 00013: val_loss did not improve from 0.00008\n",
      "110/110 [==============================] - 4s 40ms/step - loss: 3.2807e-05 - val_loss: 7.9075e-05\n",
      "Epoch 14/50\n",
      "109/110 [============================>.] - ETA: 0s - loss: 2.7226e-05\n",
      "Epoch 00014: val_loss did not improve from 0.00008\n",
      "110/110 [==============================] - 5s 41ms/step - loss: 2.7209e-05 - val_loss: 1.6555e-04\n",
      "Epoch 15/50\n",
      "110/110 [==============================] - ETA: 0s - loss: 2.4630e-05\n",
      "Epoch 00015: val_loss did not improve from 0.00008\n",
      "110/110 [==============================] - 5s 41ms/step - loss: 2.4630e-05 - val_loss: 1.0548e-04\n",
      "Epoch 16/50\n",
      "109/110 [============================>.] - ETA: 0s - loss: 2.0298e-05\n",
      "Epoch 00016: val_loss did not improve from 0.00008\n",
      "110/110 [==============================] - 5s 42ms/step - loss: 2.0256e-05 - val_loss: 1.3872e-04\n",
      "Epoch 17/50\n",
      "109/110 [============================>.] - ETA: 0s - loss: 2.6278e-05\n",
      "Epoch 00017: val_loss improved from 0.00008 to 0.00008, saving model to GOOG_model.h5\n",
      "110/110 [==============================] - 6s 54ms/step - loss: 2.6240e-05 - val_loss: 7.7868e-05\n",
      "Epoch 18/50\n",
      "110/110 [==============================] - ETA: 0s - loss: 2.3648e-05\n",
      "Epoch 00018: val_loss improved from 0.00008 to 0.00007, saving model to GOOG_model.h5\n",
      "110/110 [==============================] - 6s 54ms/step - loss: 2.3648e-05 - val_loss: 6.8131e-05\n",
      "Epoch 19/50\n",
      "109/110 [============================>.] - ETA: 0s - loss: 2.2126e-05\n",
      "Epoch 00019: val_loss did not improve from 0.00007\n",
      "110/110 [==============================] - 5s 41ms/step - loss: 2.2118e-05 - val_loss: 1.2158e-04\n",
      "Epoch 20/50\n",
      "110/110 [==============================] - ETA: 0s - loss: 2.3044e-05\n",
      "Epoch 00020: val_loss did not improve from 0.00007\n",
      "110/110 [==============================] - 6s 56ms/step - loss: 2.3044e-05 - val_loss: 9.6728e-05\n",
      "Epoch 21/50\n",
      "110/110 [==============================] - ETA: 0s - loss: 2.2363e-05\n",
      "Epoch 00021: val_loss improved from 0.00007 to 0.00006, saving model to GOOG_model.h5\n",
      "110/110 [==============================] - 5s 48ms/step - loss: 2.2363e-05 - val_loss: 6.0954e-05\n",
      "Epoch 22/50\n",
      "110/110 [==============================] - ETA: 0s - loss: 1.9905e-05\n",
      "Epoch 00022: val_loss did not improve from 0.00006\n",
      "110/110 [==============================] - 6s 54ms/step - loss: 1.9905e-05 - val_loss: 7.8825e-05\n",
      "Epoch 23/50\n",
      "110/110 [==============================] - ETA: 0s - loss: 1.9427e-05\n",
      "Epoch 00023: val_loss did not improve from 0.00006\n",
      "110/110 [==============================] - 5s 45ms/step - loss: 1.9427e-05 - val_loss: 6.2858e-05\n",
      "Epoch 24/50\n",
      "110/110 [==============================] - ETA: 0s - loss: 2.2729e-05\n",
      "Epoch 00024: val_loss did not improve from 0.00006\n",
      "110/110 [==============================] - 5s 47ms/step - loss: 2.2729e-05 - val_loss: 1.7164e-04\n",
      "Epoch 25/50\n",
      "110/110 [==============================] - ETA: 0s - loss: 1.8298e-05\n",
      "Epoch 00025: val_loss did not improve from 0.00006\n",
      "110/110 [==============================] - 6s 57ms/step - loss: 1.8298e-05 - val_loss: 8.1884e-05\n",
      "Epoch 26/50\n",
      "110/110 [==============================] - ETA: 0s - loss: 1.6483e-05\n",
      "Epoch 00026: val_loss did not improve from 0.00006\n",
      "110/110 [==============================] - 5s 44ms/step - loss: 1.6483e-05 - val_loss: 6.6555e-05\n",
      "Epoch 27/50\n",
      "110/110 [==============================] - ETA: 0s - loss: 1.4683e-05\n",
      "Epoch 00027: val_loss improved from 0.00006 to 0.00006, saving model to GOOG_model.h5\n",
      "110/110 [==============================] - 5s 45ms/step - loss: 1.4683e-05 - val_loss: 5.7669e-05\n",
      "Epoch 28/50\n",
      "110/110 [==============================] - ETA: 0s - loss: 1.5488e-05\n",
      "Epoch 00028: val_loss improved from 0.00006 to 0.00005, saving model to GOOG_model.h5\n",
      "110/110 [==============================] - 6s 53ms/step - loss: 1.5488e-05 - val_loss: 5.1005e-05\n",
      "Epoch 29/50\n",
      "110/110 [==============================] - ETA: 0s - loss: 1.6710e-05\n",
      "Epoch 00029: val_loss did not improve from 0.00005\n",
      "110/110 [==============================] - 5s 46ms/step - loss: 1.6710e-05 - val_loss: 7.8088e-05\n",
      "Epoch 30/50\n",
      "110/110 [==============================] - ETA: 0s - loss: 1.5037e-05\n",
      "Epoch 00030: val_loss improved from 0.00005 to 0.00005, saving model to GOOG_model.h5\n",
      "110/110 [==============================] - 5s 50ms/step - loss: 1.5037e-05 - val_loss: 4.5327e-05\n",
      "Epoch 31/50\n",
      "110/110 [==============================] - ETA: 0s - loss: 1.4355e-05\n",
      "Epoch 00031: val_loss improved from 0.00005 to 0.00004, saving model to GOOG_model.h5\n",
      "110/110 [==============================] - 7s 63ms/step - loss: 1.4355e-05 - val_loss: 4.4502e-05\n",
      "Epoch 32/50\n",
      "110/110 [==============================] - ETA: 0s - loss: 1.5786e-05\n",
      "Epoch 00032: val_loss did not improve from 0.00004\n",
      "110/110 [==============================] - 7s 62ms/step - loss: 1.5786e-05 - val_loss: 6.4218e-05\n",
      "Epoch 33/50\n",
      "110/110 [==============================] - ETA: 0s - loss: 1.3630e-05\n",
      "Epoch 00033: val_loss improved from 0.00004 to 0.00004, saving model to GOOG_model.h5\n",
      "110/110 [==============================] - 8s 71ms/step - loss: 1.3630e-05 - val_loss: 4.1835e-05\n"
     ]
    },
    {
     "name": "stdout",
     "output_type": "stream",
     "text": [
      "Epoch 34/50\n",
      "109/110 [============================>.] - ETA: 0s - loss: 1.3454e-05\n",
      "Epoch 00034: val_loss did not improve from 0.00004\n",
      "110/110 [==============================] - 7s 64ms/step - loss: 1.3419e-05 - val_loss: 6.7993e-05\n",
      "Epoch 35/50\n",
      "109/110 [============================>.] - ETA: 0s - loss: 1.7820e-05\n",
      "Epoch 00035: val_loss did not improve from 0.00004\n",
      "110/110 [==============================] - 5s 49ms/step - loss: 1.7759e-05 - val_loss: 9.2438e-05\n",
      "Epoch 36/50\n",
      "110/110 [==============================] - ETA: 0s - loss: 1.1275e-05- ETA: 1s - \n",
      "Epoch 00036: val_loss did not improve from 0.00004\n",
      "110/110 [==============================] - 6s 51ms/step - loss: 1.1275e-05 - val_loss: 1.7258e-04\n",
      "Epoch 37/50\n",
      "110/110 [==============================] - ETA: 0s - loss: 1.0992e-05\n",
      "Epoch 00037: val_loss improved from 0.00004 to 0.00004, saving model to GOOG_model.h5\n",
      "110/110 [==============================] - 5s 43ms/step - loss: 1.0992e-05 - val_loss: 4.1164e-05\n",
      "Epoch 38/50\n",
      "109/110 [============================>.] - ETA: 0s - loss: 1.2356e-05\n",
      "Epoch 00038: val_loss did not improve from 0.00004\n",
      "110/110 [==============================] - 5s 42ms/step - loss: 1.2386e-05 - val_loss: 6.8368e-05\n",
      "Epoch 39/50\n",
      "109/110 [============================>.] - ETA: 0s - loss: 1.0441e-05\n",
      "Epoch 00039: val_loss did not improve from 0.00004\n",
      "110/110 [==============================] - 5s 41ms/step - loss: 1.0456e-05 - val_loss: 7.4133e-05\n",
      "Epoch 40/50\n",
      "110/110 [==============================] - ETA: 0s - loss: 1.1113e-05\n",
      "Epoch 00040: val_loss improved from 0.00004 to 0.00004, saving model to GOOG_model.h5\n",
      "110/110 [==============================] - 5s 41ms/step - loss: 1.1113e-05 - val_loss: 4.0021e-05\n",
      "Epoch 41/50\n",
      "109/110 [============================>.] - ETA: 0s - loss: 1.2352e-05\n",
      "Epoch 00041: val_loss improved from 0.00004 to 0.00004, saving model to GOOG_model.h5\n",
      "110/110 [==============================] - 4s 38ms/step - loss: 1.2279e-05 - val_loss: 3.8440e-05\n",
      "Epoch 42/50\n",
      "109/110 [============================>.] - ETA: 0s - loss: 9.9217e-06\n",
      "Epoch 00042: val_loss improved from 0.00004 to 0.00004, saving model to GOOG_model.h5\n",
      "110/110 [==============================] - 4s 38ms/step - loss: 9.8840e-06 - val_loss: 3.7809e-05\n",
      "Epoch 43/50\n",
      "109/110 [============================>.] - ETA: 0s - loss: 1.0318e-05\n",
      "Epoch 00043: val_loss did not improve from 0.00004\n",
      "110/110 [==============================] - 4s 39ms/step - loss: 1.0409e-05 - val_loss: 2.2527e-04\n",
      "Epoch 44/50\n",
      "109/110 [============================>.] - ETA: 0s - loss: 1.3533e-05\n",
      "Epoch 00044: val_loss did not improve from 0.00004\n",
      "110/110 [==============================] - 4s 40ms/step - loss: 1.3547e-05 - val_loss: 6.9081e-05\n",
      "Epoch 45/50\n",
      "109/110 [============================>.] - ETA: 0s - loss: 9.9671e-06\n",
      "Epoch 00045: val_loss did not improve from 0.00004\n",
      "110/110 [==============================] - 4s 39ms/step - loss: 9.9608e-06 - val_loss: 6.0895e-05\n",
      "Epoch 46/50\n",
      "109/110 [============================>.] - ETA: 0s - loss: 9.6692e-06\n",
      "Epoch 00046: val_loss did not improve from 0.00004\n",
      "110/110 [==============================] - 5s 42ms/step - loss: 9.7128e-06 - val_loss: 6.9443e-05\n",
      "Epoch 47/50\n",
      "110/110 [==============================] - ETA: 0s - loss: 1.1512e-05\n",
      "Epoch 00047: val_loss did not improve from 0.00004\n",
      "110/110 [==============================] - 4s 39ms/step - loss: 1.1512e-05 - val_loss: 4.3825e-05\n",
      "Epoch 48/50\n",
      "109/110 [============================>.] - ETA: 0s - loss: 9.9482e-06\n",
      "Epoch 00048: val_loss did not improve from 0.00004\n",
      "110/110 [==============================] - 5s 45ms/step - loss: 9.8785e-06 - val_loss: 4.1273e-05\n",
      "Epoch 49/50\n",
      "109/110 [============================>.] - ETA: 0s - loss: 1.0831e-05\n",
      "Epoch 00049: val_loss did not improve from 0.00004\n",
      "110/110 [==============================] - 4s 39ms/step - loss: 1.0758e-05 - val_loss: 5.8896e-05\n",
      "Epoch 50/50\n",
      "110/110 [==============================] - ETA: 0s - loss: 1.0372e-05\n",
      "Epoch 00050: val_loss did not improve from 0.00004\n",
      "110/110 [==============================] - 5s 46ms/step - loss: 1.0372e-05 - val_loss: 4.1600e-05\n"
     ]
    },
    {
     "data": {
      "image/png": "[encoded data removed]",
      "text/plain": [
       "<Figure size 432x288 with 1 Axes>"
      ]
     },
     "metadata": {
      "needs_background": "light"
     },
     "output_type": "display_data"
    },
    {
     "name": "stdout",
     "output_type": "stream",
     "text": [
      "================================================\n",
      "RMSE: 3.6951192121793692\n",
      "================================================\n"
     ]
    },
    {
     "name": "stderr",
     "output_type": "stream",
     "text": [
      "C:\\Users\\ouizb\\anaconda3\\lib\\site-packages\\ipykernel_launcher.py:31: SettingWithCopyWarning: \n",
      "A value is trying to be set on a copy of a slice from a DataFrame.\n",
      "Try using .loc[row_indexer,col_indexer] = value instead\n",
      "\n",
      "See the caveats in the documentation: https://pandas.pydata.org/pandas-docs/stable/user_guide/indexing.html#returning-a-view-versus-a-copy\n"
     ]
    },
    {
     "data": {
      "image/png": "[encoded data removed]",
      "text/plain": [
       "<Figure size 1152x576 with 1 Axes>"
      ]
     },
     "metadata": {
      "needs_background": "light"
     },
     "output_type": "display_data"
    },
    {
     "name": "stdout",
     "output_type": "stream",
     "text": [
      "================================================\n",
      "             Close  Predictions\n",
      "Date                           \n",
      "2018-10-03  112.11   111.731461\n",
      "2018-10-04  109.80   111.639198\n",
      "2018-10-05  109.15   109.568611\n",
      "2018-10-08  107.91   108.658073\n",
      "2018-10-09  109.28   107.596115\n",
      "...            ...          ...\n",
      "2020-09-25  207.82   200.648117\n",
      "2020-09-28  209.44   205.381653\n",
      "2020-09-29  207.26   207.415314\n",
      "2020-09-30  210.33   205.156204\n",
      "2020-10-01  212.46   207.381958\n",
      "\n",
      "[503 rows x 2 columns]\n"
     ]
    }
   ],
   "source": [
    "x_train, y_train, x_test, y_test, scaler, data, dataset, training_data_len = split_data(df_concat, \"GOOG\")\n",
    "model = algo_lstm(x_train, y_train, x_test, y_test, scaler, \"GOOG\")"
   ]
  },
  {
   "cell_type": "markdown",
   "metadata": {
    "id": "FlfkO-Sp3j7X"
   },
   "source": [
    "# LSTM Amazon"
   ]
  },
  {
   "cell_type": "markdown",
   "metadata": {},
   "source": [
    "La valeur de notre RMSE est de 3.43 pour AMazon."
   ]
  },
  {
   "cell_type": "code",
   "execution_count": 12,
   "metadata": {
    "colab": {
     "base_uri": "https://localhost:8080/",
     "height": 1000
    },
    "id": "4_ZsdMGa3oUa",
    "outputId": "0b35a718-7b58-4bc1-cd16-02ca2be40dac"
   },
   "outputs": [
    {
     "name": "stdout",
     "output_type": "stream",
     "text": [
      "Longueur du data: 2016\n",
      "================================================\n",
      "Longueur du data: 2016\n",
      "================================================\n",
      "Epoch 1/50\n",
      "109/110 [============================>.] - ETA: 0s - loss: 5.9651e-04\n",
      "Epoch 00001: val_loss improved from inf to 0.00010, saving model to AMZN_model.h5\n",
      "110/110 [==============================] - 7s 61ms/step - loss: 5.9129e-04 - val_loss: 9.6733e-05\n",
      "Epoch 2/50\n",
      "109/110 [============================>.] - ETA: 0s - loss: 3.1032e-05\n",
      "Epoch 00002: val_loss did not improve from 0.00010\n",
      "110/110 [==============================] - 5s 45ms/step - loss: 3.1327e-05 - val_loss: 1.0857e-04\n",
      "Epoch 3/50\n",
      "110/110 [==============================] - ETA: 0s - loss: 3.3268e-05\n",
      "Epoch 00003: val_loss did not improve from 0.00010\n",
      "110/110 [==============================] - 5s 44ms/step - loss: 3.3268e-05 - val_loss: 1.4241e-04\n",
      "Epoch 4/50\n",
      "110/110 [==============================] - ETA: 0s - loss: 3.0493e-05\n",
      "Epoch 00004: val_loss improved from 0.00010 to 0.00009, saving model to AMZN_model.h5\n",
      "110/110 [==============================] - 6s 53ms/step - loss: 3.0493e-05 - val_loss: 8.5835e-05\n",
      "Epoch 5/50\n",
      "110/110 [==============================] - ETA: 0s - loss: 3.2027e-05\n",
      "Epoch 00005: val_loss did not improve from 0.00009\n",
      "110/110 [==============================] - 6s 58ms/step - loss: 3.2027e-05 - val_loss: 9.3308e-05\n",
      "Epoch 6/50\n",
      "109/110 [============================>.] - ETA: 0s - loss: 2.9008e-05\n",
      "Epoch 00006: val_loss did not improve from 0.00009\n",
      "110/110 [==============================] - 6s 56ms/step - loss: 2.8885e-05 - val_loss: 2.4636e-04\n",
      "Epoch 7/50\n",
      "110/110 [==============================] - ETA: 0s - loss: 3.2054e-05- ETA:  - ETA: 0s - los - ETA: 0s - loss: 3.2108e-05\n",
      "Epoch 00007: val_loss did not improve from 0.00009\n",
      "110/110 [==============================] - 6s 56ms/step - loss: 3.2108e-05 - val_loss: 9.0591e-05\n",
      "Epoch 8/50\n",
      "110/110 [==============================] - ETA: 0s - loss: 2.9351e-05\n",
      "Epoch 00008: val_loss did not improve from 0.00009\n",
      "110/110 [==============================] - 7s 62ms/step - loss: 2.9351e-05 - val_loss: 1.4129e-04\n",
      "Epoch 9/50\n",
      "109/110 [============================>.] - ETA: 0s - loss: 2.9862e-05\n",
      "Epoch 00009: val_loss improved from 0.00009 to 0.00008, saving model to AMZN_model.h5\n",
      "110/110 [==============================] - 7s 59ms/step - loss: 2.9743e-05 - val_loss: 8.1463e-05\n",
      "Epoch 10/50\n",
      "110/110 [==============================] - ETA: 0s - loss: 2.4901e-05\n",
      "Epoch 00010: val_loss did not improve from 0.00008\n",
      "110/110 [==============================] - 5s 44ms/step - loss: 2.4901e-05 - val_loss: 1.5866e-04\n",
      "Epoch 11/50\n",
      "109/110 [============================>.] - ETA: 0s - loss: 2.5687e-05\n",
      "Epoch 00011: val_loss did not improve from 0.00008\n",
      "110/110 [==============================] - 5s 45ms/step - loss: 2.5605e-05 - val_loss: 1.1006e-04\n",
      "Epoch 12/50\n",
      "110/110 [==============================] - ETA: 0s - loss: 2.3040e-05\n",
      "Epoch 00012: val_loss did not improve from 0.00008\n",
      "110/110 [==============================] - 5s 50ms/step - loss: 2.3040e-05 - val_loss: 1.3622e-04\n",
      "Epoch 13/50\n",
      "110/110 [==============================] - ETA: 0s - loss: 2.7217e-05\n",
      "Epoch 00013: val_loss improved from 0.00008 to 0.00008, saving model to AMZN_model.h5\n",
      "110/110 [==============================] - 5s 49ms/step - loss: 2.7217e-05 - val_loss: 7.7056e-05\n",
      "Epoch 14/50\n",
      "109/110 [============================>.] - ETA: 0s - loss: 2.1745e-05\n",
      "Epoch 00014: val_loss did not improve from 0.00008\n",
      "110/110 [==============================] - 5s 49ms/step - loss: 2.1775e-05 - val_loss: 8.6644e-05\n",
      "Epoch 15/50\n",
      "110/110 [==============================] - ETA: 0s - loss: 3.2336e-05\n",
      "Epoch 00015: val_loss did not improve from 0.00008\n",
      "110/110 [==============================] - 5s 46ms/step - loss: 3.2336e-05 - val_loss: 9.3599e-05\n",
      "Epoch 16/50\n",
      "110/110 [==============================] - ETA: 0s - loss: 2.1319e-05\n",
      "Epoch 00016: val_loss did not improve from 0.00008\n",
      "110/110 [==============================] - 5s 48ms/step - loss: 2.1319e-05 - val_loss: 1.2474e-04\n",
      "Epoch 17/50\n",
      "110/110 [==============================] - ETA: 0s - loss: 2.6281e-05\n",
      "Epoch 00017: val_loss improved from 0.00008 to 0.00007, saving model to AMZN_model.h5\n",
      "110/110 [==============================] - 5s 44ms/step - loss: 2.6281e-05 - val_loss: 6.5983e-05\n",
      "Epoch 18/50\n",
      "110/110 [==============================] - ETA: 0s - loss: 2.1232e-05\n",
      "Epoch 00018: val_loss improved from 0.00007 to 0.00006, saving model to AMZN_model.h5\n",
      "110/110 [==============================] - 5s 41ms/step - loss: 2.1232e-05 - val_loss: 6.1099e-05\n",
      "Epoch 19/50\n",
      "110/110 [==============================] - ETA: 0s - loss: 2.4577e-05\n",
      "Epoch 00019: val_loss did not improve from 0.00006\n",
      "110/110 [==============================] - 5s 45ms/step - loss: 2.4577e-05 - val_loss: 1.6217e-04\n",
      "Epoch 20/50\n",
      "110/110 [==============================] - ETA: 0s - loss: 1.8108e-05\n",
      "Epoch 00020: val_loss did not improve from 0.00006\n",
      "110/110 [==============================] - 5s 49ms/step - loss: 1.8108e-05 - val_loss: 1.0888e-04\n",
      "Epoch 21/50\n",
      "109/110 [============================>.] - ETA: 0s - loss: 1.8157e-05\n",
      "Epoch 00021: val_loss improved from 0.00006 to 0.00006, saving model to AMZN_model.h5\n",
      "110/110 [==============================] - 6s 50ms/step - loss: 1.8205e-05 - val_loss: 6.0094e-05\n",
      "Epoch 22/50\n",
      "110/110 [==============================] - ETA: 0s - loss: 2.1553e-05\n",
      "Epoch 00022: val_loss did not improve from 0.00006\n",
      "110/110 [==============================] - 6s 52ms/step - loss: 2.1553e-05 - val_loss: 1.1111e-04\n",
      "Epoch 23/50\n",
      "109/110 [============================>.] - ETA: 0s - loss: 2.1291e-05\n",
      "Epoch 00023: val_loss improved from 0.00006 to 0.00005, saving model to AMZN_model.h5\n",
      "110/110 [==============================] - 5s 48ms/step - loss: 2.1258e-05 - val_loss: 5.3017e-05\n",
      "Epoch 24/50\n",
      "109/110 [============================>.] - ETA: 0s - loss: 1.5809e-05\n",
      "Epoch 00024: val_loss improved from 0.00005 to 0.00005, saving model to AMZN_model.h5\n",
      "110/110 [==============================] - 5s 48ms/step - loss: 1.5724e-05 - val_loss: 5.2667e-05\n",
      "Epoch 25/50\n",
      "109/110 [============================>.] - ETA: 0s - loss: 1.7489e-05\n",
      "Epoch 00025: val_loss improved from 0.00005 to 0.00005, saving model to AMZN_model.h5\n",
      "110/110 [==============================] - 5s 47ms/step - loss: 1.7547e-05 - val_loss: 5.1575e-05\n",
      "Epoch 26/50\n",
      "109/110 [============================>.] - ETA: 0s - loss: 1.6818e-05\n",
      "Epoch 00026: val_loss improved from 0.00005 to 0.00005, saving model to AMZN_model.h5\n",
      "110/110 [==============================] - 6s 58ms/step - loss: 1.6965e-05 - val_loss: 4.8840e-05\n",
      "Epoch 27/50\n",
      "109/110 [============================>.] - ETA: 0s - loss: 1.6156e-05\n",
      "Epoch 00027: val_loss did not improve from 0.00005\n",
      "110/110 [==============================] - 5s 49ms/step - loss: 1.6092e-05 - val_loss: 7.5268e-05\n",
      "Epoch 28/50\n",
      "110/110 [==============================] - ETA: 0s - loss: 1.4159e-05\n",
      "Epoch 00028: val_loss did not improve from 0.00005\n",
      "110/110 [==============================] - 5s 46ms/step - loss: 1.4159e-05 - val_loss: 5.7673e-05\n",
      "Epoch 29/50\n",
      "109/110 [============================>.] - ETA: 0s - loss: 1.5405e-05\n",
      "Epoch 00029: val_loss did not improve from 0.00005\n",
      "110/110 [==============================] - 5s 49ms/step - loss: 1.5371e-05 - val_loss: 7.6550e-05\n",
      "Epoch 30/50\n",
      "110/110 [==============================] - ETA: 0s - loss: 1.4834e-05\n",
      "Epoch 00030: val_loss did not improve from 0.00005\n",
      "110/110 [==============================] - 5s 47ms/step - loss: 1.4834e-05 - val_loss: 8.2888e-05\n",
      "Epoch 31/50\n",
      "109/110 [============================>.] - ETA: 0s - loss: 1.4568e-05\n",
      "Epoch 00031: val_loss improved from 0.00005 to 0.00004, saving model to AMZN_model.h5\n",
      "110/110 [==============================] - 5s 48ms/step - loss: 1.4827e-05 - val_loss: 4.3412e-05\n",
      "Epoch 32/50\n",
      "110/110 [==============================] - ETA: 0s - loss: 1.8290e-05- ETA: 2s - loss: 2. - ETA: 0s - loss: 1.8576e-05\n",
      "Epoch 00032: val_loss did not improve from 0.00004\n",
      "110/110 [==============================] - 6s 51ms/step - loss: 1.8576e-05 - val_loss: 8.0013e-05\n",
      "Epoch 33/50\n",
      "109/110 [============================>.] - ETA: 0s - loss: 1.6893e-05\n",
      "Epoch 00033: val_loss did not improve from 0.00004\n",
      "110/110 [==============================] - 6s 57ms/step - loss: 1.6787e-05 - val_loss: 5.3823e-05\n"
     ]
    },
    {
     "name": "stdout",
     "output_type": "stream",
     "text": [
      "Epoch 34/50\n",
      "109/110 [============================>.] - ETA: 0s - loss: 1.2095e-05\n",
      "Epoch 00034: val_loss did not improve from 0.00004\n",
      "110/110 [==============================] - 5s 43ms/step - loss: 1.2073e-05 - val_loss: 4.5071e-05\n",
      "Epoch 35/50\n",
      "110/110 [==============================] - ETA: 0s - loss: 1.1798e-05\n",
      "Epoch 00035: val_loss improved from 0.00004 to 0.00004, saving model to AMZN_model.h5\n",
      "110/110 [==============================] - 5s 41ms/step - loss: 1.1798e-05 - val_loss: 3.9918e-05\n",
      "Epoch 36/50\n",
      "110/110 [==============================] - ETA: 0s - loss: 1.1186e-05\n",
      "Epoch 00036: val_loss improved from 0.00004 to 0.00004, saving model to AMZN_model.h5\n",
      "110/110 [==============================] - 5s 42ms/step - loss: 1.1186e-05 - val_loss: 3.9274e-05\n",
      "Epoch 37/50\n",
      "110/110 [==============================] - ETA: 0s - loss: 1.5168e-05\n",
      "Epoch 00037: val_loss did not improve from 0.00004\n",
      "110/110 [==============================] - 5s 41ms/step - loss: 1.5168e-05 - val_loss: 6.1008e-05\n",
      "Epoch 38/50\n",
      "109/110 [============================>.] - ETA: 0s - loss: 1.4365e-05\n",
      "Epoch 00038: val_loss did not improve from 0.00004\n",
      "110/110 [==============================] - 5s 43ms/step - loss: 1.4275e-05 - val_loss: 6.5747e-05\n",
      "Epoch 39/50\n",
      "110/110 [==============================] - ETA: 0s - loss: 1.2307e-05\n",
      "Epoch 00039: val_loss improved from 0.00004 to 0.00004, saving model to AMZN_model.h5\n",
      "110/110 [==============================] - 5s 49ms/step - loss: 1.2307e-05 - val_loss: 3.8644e-05\n",
      "Epoch 40/50\n",
      "110/110 [==============================] - ETA: 0s - loss: 1.0145e-05\n",
      "Epoch 00040: val_loss improved from 0.00004 to 0.00004, saving model to AMZN_model.h5\n",
      "110/110 [==============================] - 5s 42ms/step - loss: 1.0145e-05 - val_loss: 3.8313e-05\n",
      "Epoch 41/50\n",
      "110/110 [==============================] - ETA: 0s - loss: 8.9629e-06\n",
      "Epoch 00041: val_loss did not improve from 0.00004\n",
      "110/110 [==============================] - 5s 41ms/step - loss: 8.9629e-06 - val_loss: 4.5315e-05\n",
      "Epoch 42/50\n",
      "109/110 [============================>.] - ETA: 0s - loss: 1.0466e-05\n",
      "Epoch 00042: val_loss improved from 0.00004 to 0.00004, saving model to AMZN_model.h5\n",
      "110/110 [==============================] - 4s 41ms/step - loss: 1.0480e-05 - val_loss: 3.8126e-05\n",
      "Epoch 43/50\n",
      "109/110 [============================>.] - ETA: 0s - loss: 9.6202e-06\n",
      "Epoch 00043: val_loss did not improve from 0.00004\n",
      "110/110 [==============================] - 5s 41ms/step - loss: 9.6600e-06 - val_loss: 4.9490e-05\n",
      "Epoch 44/50\n",
      "109/110 [============================>.] - ETA: 0s - loss: 9.7258e-06\n",
      "Epoch 00044: val_loss did not improve from 0.00004\n",
      "110/110 [==============================] - 5s 41ms/step - loss: 9.6738e-06 - val_loss: 3.8314e-05\n",
      "Epoch 45/50\n",
      "110/110 [==============================] - ETA: 0s - loss: 1.4660e-05\n",
      "Epoch 00045: val_loss did not improve from 0.00004\n",
      "110/110 [==============================] - 5s 41ms/step - loss: 1.4660e-05 - val_loss: 3.9838e-05\n",
      "Epoch 46/50\n",
      "110/110 [==============================] - ETA: 0s - loss: 1.1386e-05\n",
      "Epoch 00046: val_loss did not improve from 0.00004\n",
      "110/110 [==============================] - 4s 40ms/step - loss: 1.1386e-05 - val_loss: 4.3648e-05\n",
      "Epoch 47/50\n",
      "109/110 [============================>.] - ETA: 0s - loss: 1.0723e-05\n",
      "Epoch 00047: val_loss did not improve from 0.00004\n",
      "110/110 [==============================] - 4s 40ms/step - loss: 1.0744e-05 - val_loss: 4.3014e-05\n",
      "Epoch 48/50\n",
      "109/110 [============================>.] - ETA: 0s - loss: 1.1318e-05\n",
      "Epoch 00048: val_loss did not improve from 0.00004\n",
      "110/110 [==============================] - 5s 41ms/step - loss: 1.1257e-05 - val_loss: 4.1888e-05\n",
      "Epoch 49/50\n",
      "110/110 [==============================] - ETA: 0s - loss: 9.4939e-06\n",
      "Epoch 00049: val_loss did not improve from 0.00004\n",
      "110/110 [==============================] - 4s 40ms/step - loss: 9.4939e-06 - val_loss: 3.8568e-05\n",
      "Epoch 50/50\n",
      "109/110 [============================>.] - ETA: 0s - loss: 1.2539e-05\n",
      "Epoch 00050: val_loss did not improve from 0.00004\n",
      "110/110 [==============================] - 4s 41ms/step - loss: 1.2457e-05 - val_loss: 4.0460e-05\n"
     ]
    },
    {
     "data": {
      "image/png": "[encoded data removed]",
      "text/plain": [
       "<Figure size 432x288 with 1 Axes>"
      ]
     },
     "metadata": {
      "needs_background": "light"
     },
     "output_type": "display_data"
    },
    {
     "name": "stdout",
     "output_type": "stream",
     "text": [
      "================================================\n",
      "RMSE: 3.4994405153535584\n",
      "================================================\n"
     ]
    },
    {
     "name": "stderr",
     "output_type": "stream",
     "text": [
      "C:\\Users\\ouizb\\anaconda3\\lib\\site-packages\\ipykernel_launcher.py:31: SettingWithCopyWarning: \n",
      "A value is trying to be set on a copy of a slice from a DataFrame.\n",
      "Try using .loc[row_indexer,col_indexer] = value instead\n",
      "\n",
      "See the caveats in the documentation: https://pandas.pydata.org/pandas-docs/stable/user_guide/indexing.html#returning-a-view-versus-a-copy\n"
     ]
    },
    {
     "data": {
      "image/png": "[encoded data removed]",
      "text/plain": [
       "<Figure size 1152x576 with 1 Axes>"
      ]
     },
     "metadata": {
      "needs_background": "light"
     },
     "output_type": "display_data"
    },
    {
     "name": "stdout",
     "output_type": "stream",
     "text": [
      "================================================\n",
      "             Close  Predictions\n",
      "Date                           \n",
      "2018-10-03  112.11   111.975166\n",
      "2018-10-04  109.80   111.869537\n",
      "2018-10-05  109.15   109.788338\n",
      "2018-10-08  107.91   108.837654\n",
      "2018-10-09  109.28   107.769646\n",
      "...            ...          ...\n",
      "2020-09-25  207.82   201.679840\n",
      "2020-09-28  209.44   206.686920\n",
      "2020-09-29  207.26   208.682709\n",
      "2020-09-30  210.33   206.178497\n",
      "2020-10-01  212.46   208.565262\n",
      "\n",
      "[503 rows x 2 columns]\n"
     ]
    }
   ],
   "source": [
    "x_train, y_train, x_test, y_test, scaler, data, dataset, training_data_len = split_data(df_concat, \"AMZN\")\n",
    "model = algo_lstm(x_train, y_train, x_test, y_test, scaler, \"AMZN\")"
   ]
  },
  {
   "cell_type": "markdown",
   "metadata": {
    "id": "BlCGHlhw4M4M"
   },
   "source": [
    "# Pridction du Prix du lendemain (le 29/09/2020)"
   ]
  },
  {
   "cell_type": "markdown",
   "metadata": {},
   "source": [
    "1. convertir les données en un array qui ne contient que le prix de clôture.\n",
    "2. Prénons le dernier prix de clôture de 60 jours pour faire la prédiction du 61ème jour.\n",
    "3. Comparons la valaur prédite à la valeur actuelle sur le marché. "
   ]
  },
  {
   "cell_type": "code",
   "execution_count": 13,
   "metadata": {
    "id": "OHN_UUBYDFub"
   },
   "outputs": [],
   "source": [
    "def predict_price(symbol):\n",
    "    tickerData = yf.Ticker(symbol)\n",
    "    df = tickerData.history(period='1d', start='2010-10-1', end=\"2020-10-3\")\n",
    "    new_df = df.filter(['Close'])\n",
    "    last_60_days = new_df[-60:].values\n",
    "    scaler =  MinMaxScaler()\n",
    "\n",
    "    last_60_days_scaled = scaler.fit_transform(last_60_days)\n",
    "    X_test = []\n",
    "    X_test.append(last_60_days_scaled)\n",
    "    X_test = np.array(X_test)\n",
    "    X_test = np.reshape(X_test, (X_test.shape[0], X_test.shape[1], 1))\n",
    "    pred_price = model.predict(X_test)\n",
    "    pred_price = scaler.inverse_transform(pred_price)\n",
    "    print(f'Prix prédit: {pred_price}')\n",
    "\n",
    "    actual_price = tickerData.history(period='1d', start=\"2020-10-3\", end=\"2020-10-3\")\n",
    "    actual_price = actual_price.Close.values\n",
    "    actual_price = np.array(actual_price)\n",
    "    print(f'Prix réel: {actual_price}')\n",
    "    return pred_price, actual_price"
   ]
  },
  {
   "cell_type": "code",
   "execution_count": 14,
   "metadata": {
    "colab": {
     "base_uri": "https://localhost:8080/",
     "height": 68
    },
    "id": "IOv1D1jiE0ei",
    "outputId": "60070908-eb85-4d5c-c5d5-b15b2ac54d24"
   },
   "outputs": [
    {
     "name": "stdout",
     "output_type": "stream",
     "text": [
      "Prix prédit: [[207.08533]]\n",
      "Prix réel: [206.19]\n"
     ]
    },
    {
     "data": {
      "text/plain": [
       "(array([[207.08533]], dtype=float32), array([206.19]))"
      ]
     },
     "execution_count": 14,
     "metadata": {},
     "output_type": "execute_result"
    }
   ],
   "source": [
    "predict_price(\"MSFT\")"
   ]
  },
  {
   "cell_type": "code",
   "execution_count": 15,
   "metadata": {
    "colab": {
     "base_uri": "https://localhost:8080/",
     "height": 68
    },
    "id": "N4-rvCpM5PKS",
    "outputId": "b212367e-75b6-4cec-d54f-37aaf338a0ce"
   },
   "outputs": [
    {
     "name": "stdout",
     "output_type": "stream",
     "text": [
      "Prix prédit: [[3135.6646]]\n",
      "Prix réel: [3125.]\n"
     ]
    },
    {
     "data": {
      "text/plain": [
       "(array([[3135.6646]], dtype=float32), array([3125.]))"
      ]
     },
     "execution_count": 15,
     "metadata": {},
     "output_type": "execute_result"
    }
   ],
   "source": [
    "predict_price(\"AMZN\")"
   ]
  },
  {
   "cell_type": "code",
   "execution_count": 16,
   "metadata": {
    "colab": {
     "base_uri": "https://localhost:8080/",
     "height": 68
    },
    "id": "v_5-2pE96A12",
    "outputId": "71cb1bde-c763-4830-b231-4a9df09418f0"
   },
   "outputs": [
    {
     "name": "stdout",
     "output_type": "stream",
     "text": [
      "Prix prédit: [[1464.7988]]\n",
      "Prix réel: [1458.42]\n"
     ]
    },
    {
     "data": {
      "text/plain": [
       "(array([[1464.7988]], dtype=float32), array([1458.42]))"
      ]
     },
     "execution_count": 16,
     "metadata": {},
     "output_type": "execute_result"
    }
   ],
   "source": [
    "predict_price(\"GOOG\")"
   ]
  },
  {
   "cell_type": "markdown",
   "metadata": {},
   "source": [
    "## Conclusion"
   ]
  },
  {
   "cell_type": "markdown",
   "metadata": {},
   "source": [
    "Les RMSES sont proches de zéro, ce qui signifie que l'écart entre nos valeurs prédites et nos valeurs réelles est faible. \n",
    "\n",
    "Nous avons fait la prédiction d'un pas dans l'avenir (le 29/30/2020), après visualisation de nos resultats, notre modèle LSTM est assez bon pour prédir correctement les cours des actions. "
   ]
  }
 ],
 "metadata": {
  "accelerator": "GPU",
  "colab": {
   "collapsed_sections": [],
   "name": "Modèle_Corrigé.ipynb",
   "provenance": []
  },
  "hide_input": false,
  "kernelspec": {
   "display_name": "Python 3",
   "language": "python",
   "name": "python3"
  },
  "language_info": {
   "codemirror_mode": {
    "name": "ipython",
    "version": 3
   },
   "file_extension": ".py",
   "mimetype": "text/x-python",
   "name": "python",
   "nbconvert_exporter": "python",
   "pygments_lexer": "ipython3",
   "version": "3.7.6"
  },
  "toc": {
   "base_numbering": 1,
   "nav_menu": {},
   "number_sections": true,
   "sideBar": true,
   "skip_h1_title": false,
   "title_cell": "Table of Contents",
   "title_sidebar": "Contents",
   "toc_cell": false,
   "toc_position": {},
   "toc_section_display": true,
   "toc_window_display": false
  },
  "varInspector": {
   "cols": {
    "lenName": 16,
    "lenType": 16,
    "lenVar": 40
   },
   "kernels_config": {
    "python": {
     "delete_cmd_postfix": "",
     "delete_cmd_prefix": "del ",
     "library": "var_list.py",
     "varRefreshCmd": "print(var_dic_list())"
    },
    "r": {
     "delete_cmd_postfix": ") ",
     "delete_cmd_prefix": "rm(",
     "library": "var_list.r",
     "varRefreshCmd": "cat(var_dic_list()) "
    }
   },
   "types_to_exclude": [
    "module",
    "function",
    "builtin_function_or_method",
    "instance",
    "_Feature"
   ],
   "window_display": false
  }
 },
 "nbformat": 4,
 "nbformat_minor": 1
}
