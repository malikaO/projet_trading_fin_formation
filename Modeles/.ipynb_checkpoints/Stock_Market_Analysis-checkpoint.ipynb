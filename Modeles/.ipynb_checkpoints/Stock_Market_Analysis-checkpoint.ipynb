{
 "cells": [
  {
   "cell_type": "markdown",
   "metadata": {
    "id": "VEoCceBLDFjQ"
   },
   "source": [
    "# Stock Price Prediction avec LSTM"
   ]
  },
  {
   "cell_type": "markdown",
   "metadata": {},
   "source": [
    "**LSTM (Long Short-Term Memory)** est une architecture de réseau neuronal récurrent artificiel (RNN) utilisée dans le deep learning.\n",
    "Les LSTM sont largement utilisés pour les problèmes de prédiction de séquences et se sont avérés extrêmement efficaces. La raison pour laquelle ils fonctionnent si bien, c’est parce que LSTM est en mesure de stocker des informations passées qui est important, et oublier l’information qui n’est pas."
   ]
  },
  {
   "cell_type": "markdown",
   "metadata": {},
   "source": [
    "## Importer les libraries"
   ]
  },
  {
   "cell_type": "code",
   "execution_count": 1,
   "metadata": {
    "id": "zT5TR1DdDFjU"
   },
   "outputs": [],
   "source": [
    "#pip install yfinance\n",
    "import pandas as pd\n",
    "import numpy as np\n",
    "import matplotlib.pyplot as plt\n",
    "import seaborn as sns\n",
    "import seaborn as sns\n",
    "import yfinance as yf\n",
    "from sklearn.preprocessing import MinMaxScaler\n",
    "sns.set_style('whitegrid')\n",
    "plt.style.use(\"fivethirtyeight\")\n",
    "from keras.models import Sequential\n",
    "from keras.layers import LSTM,Dense\n",
    "from keras.models import load_model\n",
    "%matplotlib inline\n",
    "from tensorflow.keras.callbacks import ModelCheckpoint, CSVLogger"
   ]
  },
  {
   "cell_type": "markdown",
   "metadata": {
    "id": "FRzLIfLpDFkG"
   },
   "source": [
    "## Historique des cours de  Microsoft, AMazon et Google"
   ]
  },
  {
   "cell_type": "markdown",
   "metadata": {},
   "source": [
    "Historique des prix par jour sur les dix dernières années en utilisant Yahoo's Finance API. "
   ]
  },
  {
   "cell_type": "code",
   "execution_count": 2,
   "metadata": {
    "id": "olmOXTQCDFlY"
   },
   "outputs": [],
   "source": [
    "def get_data(symbol):\n",
    "    tickerData = yf.Ticker(symbol)\n",
    "    data = tickerData.history(period='1d', start='2010-10-1', end=\"2020-10-2\")\n",
    "    data['companies'] = symbol\n",
    "    data.drop(['Dividends', 'Stock Splits'], axis=1, inplace=True)\n",
    "    return data\n",
    "\n"
   ]
  },
  {
   "cell_type": "code",
   "execution_count": 3,
   "metadata": {
    "id": "KAi16hu6baWP"
   },
   "outputs": [],
   "source": [
    "msft = get_data(\"MSFT\")\n",
    "amzn = get_data(\"AMZN\")\n",
    "goog = get_data(\"GOOG\")"
   ]
  },
  {
   "cell_type": "code",
   "execution_count": 4,
   "metadata": {
    "colab": {
     "base_uri": "https://localhost:8080/",
     "height": 235
    },
    "id": "L2Qfp628dgEw",
    "outputId": "c25b9490-6e76-43ea-9bd7-641b31a679cd"
   },
   "outputs": [
    {
     "data": {
      "text/html": [
       "<div>\n",
       "<style scoped>\n",
       "    .dataframe tbody tr th:only-of-type {\n",
       "        vertical-align: middle;\n",
       "    }\n",
       "\n",
       "    .dataframe tbody tr th {\n",
       "        vertical-align: top;\n",
       "    }\n",
       "\n",
       "    .dataframe thead th {\n",
       "        text-align: right;\n",
       "    }\n",
       "</style>\n",
       "<table border=\"1\" class=\"dataframe\">\n",
       "  <thead>\n",
       "    <tr style=\"text-align: right;\">\n",
       "      <th></th>\n",
       "      <th>Open</th>\n",
       "      <th>High</th>\n",
       "      <th>Low</th>\n",
       "      <th>Close</th>\n",
       "      <th>Volume</th>\n",
       "      <th>companies</th>\n",
       "    </tr>\n",
       "    <tr>\n",
       "      <th>Date</th>\n",
       "      <th></th>\n",
       "      <th></th>\n",
       "      <th></th>\n",
       "      <th></th>\n",
       "      <th></th>\n",
       "      <th></th>\n",
       "    </tr>\n",
       "  </thead>\n",
       "  <tbody>\n",
       "    <tr>\n",
       "      <th>2020-09-25</th>\n",
       "      <td>203.55</td>\n",
       "      <td>209.04</td>\n",
       "      <td>202.54</td>\n",
       "      <td>207.82</td>\n",
       "      <td>29437300</td>\n",
       "      <td>MSFT</td>\n",
       "    </tr>\n",
       "    <tr>\n",
       "      <th>2020-09-28</th>\n",
       "      <td>210.88</td>\n",
       "      <td>212.57</td>\n",
       "      <td>208.06</td>\n",
       "      <td>209.44</td>\n",
       "      <td>32004900</td>\n",
       "      <td>MSFT</td>\n",
       "    </tr>\n",
       "    <tr>\n",
       "      <th>2020-09-29</th>\n",
       "      <td>209.35</td>\n",
       "      <td>210.07</td>\n",
       "      <td>206.81</td>\n",
       "      <td>207.26</td>\n",
       "      <td>24221900</td>\n",
       "      <td>MSFT</td>\n",
       "    </tr>\n",
       "    <tr>\n",
       "      <th>2020-09-30</th>\n",
       "      <td>207.73</td>\n",
       "      <td>211.98</td>\n",
       "      <td>206.54</td>\n",
       "      <td>210.33</td>\n",
       "      <td>33780700</td>\n",
       "      <td>MSFT</td>\n",
       "    </tr>\n",
       "    <tr>\n",
       "      <th>2020-10-01</th>\n",
       "      <td>213.49</td>\n",
       "      <td>213.99</td>\n",
       "      <td>211.32</td>\n",
       "      <td>212.46</td>\n",
       "      <td>27158400</td>\n",
       "      <td>MSFT</td>\n",
       "    </tr>\n",
       "  </tbody>\n",
       "</table>\n",
       "</div>"
      ],
      "text/plain": [
       "              Open    High     Low   Close    Volume companies\n",
       "Date                                                          \n",
       "2020-09-25  203.55  209.04  202.54  207.82  29437300      MSFT\n",
       "2020-09-28  210.88  212.57  208.06  209.44  32004900      MSFT\n",
       "2020-09-29  209.35  210.07  206.81  207.26  24221900      MSFT\n",
       "2020-09-30  207.73  211.98  206.54  210.33  33780700      MSFT\n",
       "2020-10-01  213.49  213.99  211.32  212.46  27158400      MSFT"
      ]
     },
     "execution_count": 4,
     "metadata": {},
     "output_type": "execute_result"
    }
   ],
   "source": [
    "msft.tail()"
   ]
  },
  {
   "cell_type": "markdown",
   "metadata": {
    "id": "F4w6PFBO7rWY"
   },
   "source": [
    "##  Concaténer les 3 Dataframes"
   ]
  },
  {
   "cell_type": "markdown",
   "metadata": {},
   "source": [
    "Nous avons 7557 observations et 6 features"
   ]
  },
  {
   "cell_type": "code",
   "execution_count": 5,
   "metadata": {
    "colab": {
     "base_uri": "https://localhost:8080/",
     "height": 235
    },
    "id": "7flUZOCxeM5d",
    "outputId": "66e9ebb6-09c0-4a1b-d906-e4a4baa6f21b"
   },
   "outputs": [
    {
     "data": {
      "text/html": [
       "<div>\n",
       "<style scoped>\n",
       "    .dataframe tbody tr th:only-of-type {\n",
       "        vertical-align: middle;\n",
       "    }\n",
       "\n",
       "    .dataframe tbody tr th {\n",
       "        vertical-align: top;\n",
       "    }\n",
       "\n",
       "    .dataframe thead th {\n",
       "        text-align: right;\n",
       "    }\n",
       "</style>\n",
       "<table border=\"1\" class=\"dataframe\">\n",
       "  <thead>\n",
       "    <tr style=\"text-align: right;\">\n",
       "      <th></th>\n",
       "      <th>Open</th>\n",
       "      <th>High</th>\n",
       "      <th>Low</th>\n",
       "      <th>Close</th>\n",
       "      <th>Volume</th>\n",
       "      <th>companies</th>\n",
       "    </tr>\n",
       "    <tr>\n",
       "      <th>Date</th>\n",
       "      <th></th>\n",
       "      <th></th>\n",
       "      <th></th>\n",
       "      <th></th>\n",
       "      <th></th>\n",
       "      <th></th>\n",
       "    </tr>\n",
       "  </thead>\n",
       "  <tbody>\n",
       "    <tr>\n",
       "      <th>2010-09-30</th>\n",
       "      <td>19.50</td>\n",
       "      <td>19.67</td>\n",
       "      <td>19.30</td>\n",
       "      <td>19.40</td>\n",
       "      <td>61262700</td>\n",
       "      <td>MSFT</td>\n",
       "    </tr>\n",
       "    <tr>\n",
       "      <th>2010-10-01</th>\n",
       "      <td>19.62</td>\n",
       "      <td>19.66</td>\n",
       "      <td>19.25</td>\n",
       "      <td>19.32</td>\n",
       "      <td>62672300</td>\n",
       "      <td>MSFT</td>\n",
       "    </tr>\n",
       "    <tr>\n",
       "      <th>2010-10-04</th>\n",
       "      <td>18.98</td>\n",
       "      <td>19.01</td>\n",
       "      <td>18.84</td>\n",
       "      <td>18.94</td>\n",
       "      <td>98143400</td>\n",
       "      <td>MSFT</td>\n",
       "    </tr>\n",
       "    <tr>\n",
       "      <th>2010-10-05</th>\n",
       "      <td>19.06</td>\n",
       "      <td>19.37</td>\n",
       "      <td>18.94</td>\n",
       "      <td>19.29</td>\n",
       "      <td>78152900</td>\n",
       "      <td>MSFT</td>\n",
       "    </tr>\n",
       "    <tr>\n",
       "      <th>2010-10-06</th>\n",
       "      <td>19.27</td>\n",
       "      <td>19.44</td>\n",
       "      <td>19.12</td>\n",
       "      <td>19.36</td>\n",
       "      <td>50489700</td>\n",
       "      <td>MSFT</td>\n",
       "    </tr>\n",
       "  </tbody>\n",
       "</table>\n",
       "</div>"
      ],
      "text/plain": [
       "             Open   High    Low  Close    Volume companies\n",
       "Date                                                      \n",
       "2010-09-30  19.50  19.67  19.30  19.40  61262700      MSFT\n",
       "2010-10-01  19.62  19.66  19.25  19.32  62672300      MSFT\n",
       "2010-10-04  18.98  19.01  18.84  18.94  98143400      MSFT\n",
       "2010-10-05  19.06  19.37  18.94  19.29  78152900      MSFT\n",
       "2010-10-06  19.27  19.44  19.12  19.36  50489700      MSFT"
      ]
     },
     "execution_count": 5,
     "metadata": {},
     "output_type": "execute_result"
    }
   ],
   "source": [
    "company_list = [msft, amzn, goog]\n",
    "    \n",
    "df_concat = pd.concat(company_list, axis=0)\n",
    "    \n",
    "df_concat.head()"
   ]
  },
  {
   "cell_type": "code",
   "execution_count": null,
   "metadata": {},
   "outputs": [],
   "source": []
  },
  {
   "cell_type": "code",
   "execution_count": 6,
   "metadata": {
    "colab": {
     "base_uri": "https://localhost:8080/",
     "height": 34
    },
    "id": "h-awC1pseryd",
    "outputId": "afd9fa95-72e5-48c2-936c-d4f2b510b60a"
   },
   "outputs": [
    {
     "data": {
      "text/plain": [
       "array(['MSFT', 'AMZN', 'GOOG'], dtype=object)"
      ]
     },
     "execution_count": 6,
     "metadata": {},
     "output_type": "execute_result"
    }
   ],
   "source": [
    "df_concat.companies.unique()"
   ]
  },
  {
   "cell_type": "markdown",
   "metadata": {
    "id": "5vVQaBwi7c1p"
   },
   "source": [
    "## Split data "
   ]
  },
  {
   "cell_type": "markdown",
   "metadata": {},
   "source": [
    "1. Nous choisissons uniquement closing prices puis nous les convertissons en un array. \n",
    "\n",
    "2. Split des données training dataset(80%) et test \n",
    "\n",
    "3. Nous utilisons MinMaxScaler pour avoir des valeurs comprises entre 0 et 1.  \n",
    "\n",
    "4. Créons un data training composé des 60 derniers jours, que nous utiliserons à la fin  pour prédire la valeur du prix de clôture 61e.\n",
    "5. Reshape les données pour qu’elles soient tridimensionnelles afin de les mettre dans le modèle LSTM"
   ]
  },
  {
   "cell_type": "code",
   "execution_count": 7,
   "metadata": {
    "id": "hJ27ZggaiZl4"
   },
   "outputs": [],
   "source": [
    "def split_data(df, symbol):\n",
    "    data = df.filter(['Close']).loc[df['companies']== symbol]\n",
    "    dataset = data.values.reshape(-1, 1)\n",
    "    training_data_len = int(np.ceil(len(dataset) * .8 ))\n",
    "    print(f'Longueur du data: {training_data_len}')\n",
    "    print('================================================')\n",
    "    scaler = MinMaxScaler(feature_range=(0,1))\n",
    "    scaled_data= scaler.fit_transform(dataset)\n",
    "    train_data = scaled_data[0:int(training_data_len), :]\n",
    "    x_train = []\n",
    "    y_train = []\n",
    "    for i in range(60, len(train_data)):\n",
    "        x_train.append(train_data[i-60:i, 0])\n",
    "        y_train.append(train_data[i, 0])\n",
    "\n",
    "    x_train, y_train = np.array(x_train), np.array(y_train)\n",
    "    x_train = np.reshape(x_train, (x_train.shape[0], x_train.shape[1], 1))\n",
    "\n",
    "    test_data = scaled_data[training_data_len - 60: , :]\n",
    "    x_test = []\n",
    "    y_test = dataset[training_data_len:, :]\n",
    "    for i in range(60, len(test_data)):\n",
    "        x_test.append(test_data[i-60:i, 0])\n",
    "    x_test = np.array(x_test)\n",
    "    x_test = np.reshape(x_test, (x_test.shape[0], x_test.shape[1], 1 ))\n",
    "    return x_train, y_train, x_test, y_test, scaler, data, dataset, training_data_len"
   ]
  },
  {
   "cell_type": "markdown",
   "metadata": {
    "id": "tnvNIaMe7gAG"
   },
   "source": [
    "## Construction de modèle LSTM "
   ]
  },
  {
   "cell_type": "markdown",
   "metadata": {},
   "source": [
    "1. **ModelCheckpoint** va enregistrer les poids des modèles à la fin de chaque époque\n",
    "2. **CSVLogger** va sauvegarder nos RMSE\n",
    "3. Splittons une partie des données tranining en validation\n",
    "4. plot history RMSE\n",
    "5. VIsualization des valeurs actuelles vs Prédictions"
   ]
  },
  {
   "cell_type": "code",
   "execution_count": 8,
   "metadata": {
    "id": "RU5vv4AfmwUv"
   },
   "outputs": [],
   "source": [
    "def algo_lstm(x_train, y_train, x_test, y_test, scaler, symbol):\n",
    "    x_train, y_train, x_test, y_test, scaler, data, dataset, training_data_len = split_data(df_concat, \"MSFT\")\n",
    "    model = Sequential()\n",
    "    model.add(LSTM(50, return_sequences=True, input_shape= (x_train.shape[1], 1)))\n",
    "    model.add(LSTM(50, return_sequences= False))\n",
    "    model.add(Dense(25))\n",
    "    model.add(Dense(1))\n",
    "    checkpointer = ModelCheckpoint(filepath=f\"{symbol}_model.h5\", verbose=1, save_best_only=True)\n",
    "    csv_logger = CSVLogger(f\"{symbol}_history_loss.log\")\n",
    "    callbacks=[csv_logger, checkpointer]\n",
    "    model.compile(optimizer='adam', loss='mean_squared_error')\n",
    "    history = model.fit(x_train, y_train, batch_size=16, epochs=50, validation_split=0.1, callbacks=[callbacks])\n",
    "\n",
    "    plt.plot(history.history['loss'])\n",
    "    plt.plot(history.history['val_loss'])\n",
    "    plt.title('model loss')\n",
    "    plt.ylabel('loss')\n",
    "    plt.xlabel('epoch')\n",
    "    plt.legend(['train', 'val'], loc='upper left')\n",
    "    plt.show()\n",
    "\n",
    "    predictions = model.predict(x_test)\n",
    "    predictions = scaler.inverse_transform(predictions)\n",
    "\n",
    "    rmse = np.sqrt(np.mean(((predictions - y_test) ** 2)))\n",
    "    print('================================================')\n",
    "    print(f'RMSE: {rmse}')\n",
    "    print('================================================')\n",
    "    train = data[:training_data_len]\n",
    "    valid = data[training_data_len:]\n",
    "    valid['Predictions'] = predictions\n",
    "\n",
    "    plt.figure(figsize=(16,8))\n",
    "    plt.title('Prédictions vs. valeurs réeles')\n",
    "    plt.xlabel('Date', fontsize=18)\n",
    "    plt.ylabel('Close USD ($)', fontsize=18)\n",
    "    plt.plot(train['Close'])\n",
    "    plt.plot(valid[['Close', 'Predictions']])\n",
    "    plt.legend(['Train', 'Valeurs actuelles', 'Prédictions'], loc='lower right')\n",
    "    plt.show()\n",
    "    print('================================================')\n",
    "    print(valid)\n",
    "    \n",
    "\n",
    "    return model\n",
    "\n"
   ]
  },
  {
   "cell_type": "markdown",
   "metadata": {
    "id": "82WLld5g1wcp"
   },
   "source": [
    "# LSTM Microsft"
   ]
  },
  {
   "cell_type": "markdown",
   "metadata": {},
   "source": [
    "La valeur de notre RMSE est de 5 pour Microsoft. "
   ]
  },
  {
   "cell_type": "code",
   "execution_count": 9,
   "metadata": {
    "colab": {
     "base_uri": "https://localhost:8080/",
     "height": 51
    },
    "id": "riO5snL5oiz_",
    "outputId": "96aa422c-e24a-4655-af02-b99dd32c92e8"
   },
   "outputs": [
    {
     "name": "stdout",
     "output_type": "stream",
     "text": [
      "Longueur du data: 2016\n",
      "================================================\n"
     ]
    }
   ],
   "source": [
    " x_train, y_train, x_test, y_test, scaler, data, dataset, training_data_len = split_data(df_concat, \"MSFT\")"
   ]
  },
  {
   "cell_type": "code",
   "execution_count": 10,
   "metadata": {
    "colab": {
     "base_uri": "https://localhost:8080/",
     "height": 1000
    },
    "id": "4nkyHq_B0Xd4",
    "outputId": "76e5aad9-c290-4024-d501-e69502cbc2d2"
   },
   "outputs": [
    {
     "name": "stdout",
     "output_type": "stream",
     "text": [
      "Longueur du data: 2016\n",
      "================================================\n",
      "Epoch 1/50\n",
      "109/110 [============================>.] - ETA: 0s - loss: 4.0066e-04\n",
      "Epoch 00001: val_loss improved from inf to 0.00012, saving model to MSFT_model.h5\n",
      "110/110 [==============================] - 3s 25ms/step - loss: 3.9775e-04 - val_loss: 1.2317e-04\n",
      "Epoch 2/50\n",
      "110/110 [==============================] - ETA: 0s - loss: 4.0015e-05\n",
      "Epoch 00002: val_loss improved from 0.00012 to 0.00009, saving model to MSFT_model.h5\n",
      "110/110 [==============================] - 2s 17ms/step - loss: 4.0015e-05 - val_loss: 9.4067e-05\n",
      "Epoch 3/50\n",
      "109/110 [============================>.] - ETA: 0s - loss: 3.2807e-05\n",
      "Epoch 00003: val_loss did not improve from 0.00009\n",
      "110/110 [==============================] - 2s 17ms/step - loss: 3.3283e-05 - val_loss: 1.0490e-04\n",
      "Epoch 4/50\n",
      "109/110 [============================>.] - ETA: 0s - loss: 3.7121e-05- ETA: 0s - loss:\n",
      "Epoch 00004: val_loss improved from 0.00009 to 0.00009, saving model to MSFT_model.h5\n",
      "110/110 [==============================] - 2s 20ms/step - loss: 3.7276e-05 - val_loss: 8.9569e-05\n",
      "Epoch 5/50\n",
      "110/110 [==============================] - ETA: 0s - loss: 3.0579e-05\n",
      "Epoch 00005: val_loss improved from 0.00009 to 0.00009, saving model to MSFT_model.h5\n",
      "110/110 [==============================] - 2s 20ms/step - loss: 3.0579e-05 - val_loss: 8.9375e-05\n",
      "Epoch 6/50\n",
      "110/110 [==============================] - ETA: 0s - loss: 3.7916e-05\n",
      "Epoch 00006: val_loss did not improve from 0.00009\n",
      "110/110 [==============================] - 2s 17ms/step - loss: 3.7916e-05 - val_loss: 1.6393e-04\n",
      "Epoch 7/50\n",
      "108/110 [============================>.] - ETA: 0s - loss: 3.0736e-05\n",
      "Epoch 00007: val_loss did not improve from 0.00009\n",
      "110/110 [==============================] - 2s 17ms/step - loss: 3.0454e-05 - val_loss: 1.2178e-04\n",
      "Epoch 8/50\n",
      "108/110 [============================>.] - ETA: 0s - loss: 3.4551e-05\n",
      "Epoch 00008: val_loss did not improve from 0.00009\n",
      "110/110 [==============================] - 2s 16ms/step - loss: 3.4470e-05 - val_loss: 3.3882e-04\n",
      "Epoch 9/50\n",
      "108/110 [============================>.] - ETA: 0s - loss: 3.1551e-05\n",
      "Epoch 00009: val_loss did not improve from 0.00009\n",
      "110/110 [==============================] - 2s 17ms/step - loss: 3.1188e-05 - val_loss: 1.3836e-04\n",
      "Epoch 10/50\n",
      "108/110 [============================>.] - ETA: 0s - loss: 3.1555e-05\n",
      "Epoch 00010: val_loss did not improve from 0.00009\n",
      "110/110 [==============================] - 2s 17ms/step - loss: 3.1260e-05 - val_loss: 1.4005e-04\n",
      "Epoch 11/50\n",
      "110/110 [==============================] - ETA: 0s - loss: 2.6208e-05\n",
      "Epoch 00011: val_loss improved from 0.00009 to 0.00009, saving model to MSFT_model.h5\n",
      "110/110 [==============================] - 2s 18ms/step - loss: 2.6208e-05 - val_loss: 8.5688e-05\n",
      "Epoch 12/50\n",
      "109/110 [============================>.] - ETA: 0s - loss: 3.0485e-05\n",
      "Epoch 00012: val_loss did not improve from 0.00009\n",
      "110/110 [==============================] - 2s 18ms/step - loss: 3.0331e-05 - val_loss: 1.0851e-04\n",
      "Epoch 13/50\n",
      "107/110 [============================>.] - ETA: 0s - loss: 2.5693e-05\n",
      "Epoch 00013: val_loss improved from 0.00009 to 0.00008, saving model to MSFT_model.h5\n",
      "110/110 [==============================] - 2s 17ms/step - loss: 2.5782e-05 - val_loss: 8.3508e-05\n",
      "Epoch 14/50\n",
      "108/110 [============================>.] - ETA: 0s - loss: 2.7667e-05\n",
      "Epoch 00014: val_loss improved from 0.00008 to 0.00007, saving model to MSFT_model.h5\n",
      "110/110 [==============================] - 2s 17ms/step - loss: 2.7644e-05 - val_loss: 7.0638e-05\n",
      "Epoch 15/50\n",
      "109/110 [============================>.] - ETA: 0s - loss: 2.1631e-05\n",
      "Epoch 00015: val_loss did not improve from 0.00007\n",
      "110/110 [==============================] - 2s 17ms/step - loss: 2.1566e-05 - val_loss: 7.2416e-05\n",
      "Epoch 16/50\n",
      "107/110 [============================>.] - ETA: 0s - loss: 2.0378e-05\n",
      "Epoch 00016: val_loss improved from 0.00007 to 0.00007, saving model to MSFT_model.h5\n",
      "110/110 [==============================] - 2s 17ms/step - loss: 2.0350e-05 - val_loss: 6.7581e-05\n",
      "Epoch 17/50\n",
      "108/110 [============================>.] - ETA: 0s - loss: 2.5820e-05\n",
      "Epoch 00017: val_loss did not improve from 0.00007\n",
      "110/110 [==============================] - 2s 17ms/step - loss: 2.5511e-05 - val_loss: 7.3271e-05\n",
      "Epoch 18/50\n",
      "108/110 [============================>.] - ETA: 0s - loss: 2.1571e-05\n",
      "Epoch 00018: val_loss did not improve from 0.00007\n",
      "110/110 [==============================] - 2s 19ms/step - loss: 2.1657e-05 - val_loss: 1.6959e-04\n",
      "Epoch 19/50\n",
      "107/110 [============================>.] - ETA: 0s - loss: 1.9688e-05- ETA: 0s - loss: 1.7949\n",
      "Epoch 00019: val_loss improved from 0.00007 to 0.00007, saving model to MSFT_model.h5\n",
      "110/110 [==============================] - 2s 20ms/step - loss: 1.9834e-05 - val_loss: 6.6665e-05\n",
      "Epoch 20/50\n",
      "108/110 [============================>.] - ETA: 0s - loss: 2.2138e-05\n",
      "Epoch 00020: val_loss improved from 0.00007 to 0.00006, saving model to MSFT_model.h5\n",
      "110/110 [==============================] - 2s 18ms/step - loss: 2.2073e-05 - val_loss: 6.4817e-05\n",
      "Epoch 21/50\n",
      "109/110 [============================>.] - ETA: 0s - loss: 2.3666e-05\n",
      "Epoch 00021: val_loss did not improve from 0.00006\n",
      "110/110 [==============================] - 2s 17ms/step - loss: 2.3548e-05 - val_loss: 7.1188e-05\n",
      "Epoch 22/50\n",
      "109/110 [============================>.] - ETA: 0s - loss: 1.8967e-05\n",
      "Epoch 00022: val_loss did not improve from 0.00006\n",
      "110/110 [==============================] - 2s 17ms/step - loss: 1.9096e-05 - val_loss: 7.1340e-05\n",
      "Epoch 23/50\n",
      "109/110 [============================>.] - ETA: 0s - loss: 1.7339e-05\n",
      "Epoch 00023: val_loss improved from 0.00006 to 0.00006, saving model to MSFT_model.h5\n",
      "110/110 [==============================] - 2s 17ms/step - loss: 1.7260e-05 - val_loss: 5.8643e-05\n",
      "Epoch 24/50\n",
      "109/110 [============================>.] - ETA: 0s - loss: 1.9154e-05- ETA\n",
      "Epoch 00024: val_loss did not improve from 0.00006\n",
      "110/110 [==============================] - 2s 16ms/step - loss: 1.9084e-05 - val_loss: 8.6739e-05\n",
      "Epoch 25/50\n",
      "109/110 [============================>.] - ETA: 0s - loss: 1.6626e-05\n",
      "Epoch 00025: val_loss did not improve from 0.00006\n",
      "110/110 [==============================] - 2s 17ms/step - loss: 1.6539e-05 - val_loss: 1.8477e-04\n",
      "Epoch 26/50\n",
      "109/110 [============================>.] - ETA: 0s - loss: 1.6799e-05- ETA: 0s - loss: 1.\n",
      "Epoch 00026: val_loss improved from 0.00006 to 0.00006, saving model to MSFT_model.h5\n",
      "110/110 [==============================] - 2s 17ms/step - loss: 1.6723e-05 - val_loss: 5.7302e-05\n",
      "Epoch 27/50\n",
      "109/110 [============================>.] - ETA: 0s - loss: 1.8239e-05- ETA: 0s - lo\n",
      "Epoch 00027: val_loss improved from 0.00006 to 0.00005, saving model to MSFT_model.h5\n",
      "110/110 [==============================] - 2s 17ms/step - loss: 1.8420e-05 - val_loss: 5.0017e-05\n",
      "Epoch 28/50\n",
      "108/110 [============================>.] - ETA: 0s - loss: 1.8886e-05\n",
      "Epoch 00028: val_loss improved from 0.00005 to 0.00005, saving model to MSFT_model.h5\n",
      "110/110 [==============================] - 2s 17ms/step - loss: 1.8757e-05 - val_loss: 4.8011e-05\n",
      "Epoch 29/50\n",
      "109/110 [============================>.] - ETA: 0s - loss: 1.3976e-05\n",
      "Epoch 00029: val_loss did not improve from 0.00005\n",
      "110/110 [==============================] - 2s 17ms/step - loss: 1.4118e-05 - val_loss: 4.8470e-05\n",
      "Epoch 30/50\n",
      "108/110 [============================>.] - ETA: 0s - loss: 1.4842e-05\n",
      "Epoch 00030: val_loss improved from 0.00005 to 0.00004, saving model to MSFT_model.h5\n",
      "110/110 [==============================] - 2s 17ms/step - loss: 1.4749e-05 - val_loss: 4.4216e-05\n",
      "Epoch 31/50\n",
      "108/110 [============================>.] - ETA: 0s - loss: 1.4131e-05\n",
      "Epoch 00031: val_loss did not improve from 0.00004\n",
      "110/110 [==============================] - 2s 17ms/step - loss: 1.3948e-05 - val_loss: 4.6630e-05\n",
      "Epoch 32/50\n",
      "107/110 [============================>.] - ETA: 0s - loss: 1.4456e-05\n",
      "Epoch 00032: val_loss did not improve from 0.00004\n",
      "110/110 [==============================] - 2s 19ms/step - loss: 1.4385e-05 - val_loss: 5.1896e-05\n",
      "Epoch 33/50\n",
      "109/110 [============================>.] - ETA: 0s - loss: 1.4452e-05\n",
      "Epoch 00033: val_loss improved from 0.00004 to 0.00004, saving model to MSFT_model.h5\n"
     ]
    },
    {
     "name": "stdout",
     "output_type": "stream",
     "text": [
      "110/110 [==============================] - 2s 17ms/step - loss: 1.4547e-05 - val_loss: 4.4059e-05\n",
      "Epoch 34/50\n",
      "109/110 [============================>.] - ETA: 0s - loss: 1.2418e-05\n",
      "Epoch 00034: val_loss did not improve from 0.00004\n",
      "110/110 [==============================] - 2s 17ms/step - loss: 1.2637e-05 - val_loss: 4.4729e-05\n",
      "Epoch 35/50\n",
      "109/110 [============================>.] - ETA: 0s - loss: 1.2186e-05\n",
      "Epoch 00035: val_loss did not improve from 0.00004\n",
      "110/110 [==============================] - 2s 17ms/step - loss: 1.2142e-05 - val_loss: 4.5233e-05\n",
      "Epoch 36/50\n",
      "109/110 [============================>.] - ETA: 0s - loss: 1.2843e-05\n",
      "Epoch 00036: val_loss improved from 0.00004 to 0.00004, saving model to MSFT_model.h5\n",
      "110/110 [==============================] - 2s 17ms/step - loss: 1.2765e-05 - val_loss: 3.9934e-05\n",
      "Epoch 37/50\n",
      "108/110 [============================>.] - ETA: 0s - loss: 1.1351e-05\n",
      "Epoch 00037: val_loss did not improve from 0.00004\n",
      "110/110 [==============================] - 2s 17ms/step - loss: 1.1426e-05 - val_loss: 9.8930e-05\n",
      "Epoch 38/50\n",
      "109/110 [============================>.] - ETA: 0s - loss: 1.0091e-05\n",
      "Epoch 00038: val_loss did not improve from 0.00004\n",
      "110/110 [==============================] - 2s 17ms/step - loss: 1.0082e-05 - val_loss: 7.8971e-05\n",
      "Epoch 39/50\n",
      "109/110 [============================>.] - ETA: 0s - loss: 1.0741e-05\n",
      "Epoch 00039: val_loss improved from 0.00004 to 0.00004, saving model to MSFT_model.h5\n",
      "110/110 [==============================] - 2s 17ms/step - loss: 1.0887e-05 - val_loss: 3.7785e-05\n",
      "Epoch 40/50\n",
      "109/110 [============================>.] - ETA: 0s - loss: 1.0642e-05\n",
      "Epoch 00040: val_loss did not improve from 0.00004\n",
      "110/110 [==============================] - 2s 17ms/step - loss: 1.0659e-05 - val_loss: 4.9719e-05\n",
      "Epoch 41/50\n",
      "110/110 [==============================] - ETA: 0s - loss: 9.5627e-06\n",
      "Epoch 00041: val_loss did not improve from 0.00004\n",
      "110/110 [==============================] - 2s 17ms/step - loss: 9.5627e-06 - val_loss: 7.2414e-05\n",
      "Epoch 42/50\n",
      "110/110 [==============================] - ETA: 0s - loss: 1.2369e-05- ETA: 0s - lo\n",
      "Epoch 00042: val_loss did not improve from 0.00004\n",
      "110/110 [==============================] - 2s 19ms/step - loss: 1.2369e-05 - val_loss: 3.8446e-05\n",
      "Epoch 43/50\n",
      "109/110 [============================>.] - ETA: 0s - loss: 9.8552e-06\n",
      "Epoch 00043: val_loss did not improve from 0.00004\n",
      "110/110 [==============================] - 2s 19ms/step - loss: 9.9605e-06 - val_loss: 6.3610e-05\n",
      "Epoch 44/50\n",
      "109/110 [============================>.] - ETA: 0s - loss: 1.4011e-05\n",
      "Epoch 00044: val_loss did not improve from 0.00004\n",
      "110/110 [==============================] - 2s 18ms/step - loss: 1.3969e-05 - val_loss: 1.1480e-04\n",
      "Epoch 45/50\n",
      "109/110 [============================>.] - ETA: 0s - loss: 9.2635e-06\n",
      "Epoch 00045: val_loss did not improve from 0.00004\n",
      "110/110 [==============================] - 2s 18ms/step - loss: 9.2000e-06 - val_loss: 3.8115e-05\n",
      "Epoch 46/50\n",
      "108/110 [============================>.] - ETA: 0s - loss: 1.0437e-05- ETA: 0s - loss: 1 - ETA: 0s - loss: 1.073\n",
      "Epoch 00046: val_loss did not improve from 0.00004\n",
      "110/110 [==============================] - 3s 25ms/step - loss: 1.0434e-05 - val_loss: 3.8089e-05\n",
      "Epoch 47/50\n",
      "109/110 [============================>.] - ETA: 0s - loss: 1.0190e-05\n",
      "Epoch 00047: val_loss did not improve from 0.00004\n",
      "110/110 [==============================] - 2s 17ms/step - loss: 1.0260e-05 - val_loss: 4.0995e-05\n",
      "Epoch 48/50\n",
      "107/110 [============================>.] - ETA: 0s - loss: 1.3157e-05\n",
      "Epoch 00048: val_loss did not improve from 0.00004\n",
      "110/110 [==============================] - 2s 19ms/step - loss: 1.3099e-05 - val_loss: 5.2226e-05\n",
      "Epoch 49/50\n",
      "107/110 [============================>.] - ETA: 0s - loss: 1.0256e-05\n",
      "Epoch 00049: val_loss did not improve from 0.00004\n",
      "110/110 [==============================] - 2s 17ms/step - loss: 1.0159e-05 - val_loss: 5.0863e-05\n",
      "Epoch 50/50\n",
      "108/110 [============================>.] - ETA: 0s - loss: 1.0025e-05\n",
      "Epoch 00050: val_loss did not improve from 0.00004\n",
      "110/110 [==============================] - 2s 18ms/step - loss: 1.0223e-05 - val_loss: 5.6737e-05\n"
     ]
    },
    {
     "data": {
      "image/png": "[encoded data removed]",
      "text/plain": [
       "<Figure size 432x288 with 1 Axes>"
      ]
     },
     "metadata": {
      "needs_background": "light"
     },
     "output_type": "display_data"
    },
    {
     "name": "stdout",
     "output_type": "stream",
     "text": [
      "================================================\n",
      "RMSE: 3.598399917335064\n",
      "================================================\n"
     ]
    },
    {
     "name": "stderr",
     "output_type": "stream",
     "text": [
      "C:\\Users\\utilisateur\\Anaconda3\\lib\\site-packages\\ipykernel_launcher.py:31: SettingWithCopyWarning: \n",
      "A value is trying to be set on a copy of a slice from a DataFrame.\n",
      "Try using .loc[row_indexer,col_indexer] = value instead\n",
      "\n",
      "See the caveats in the documentation: https://pandas.pydata.org/pandas-docs/stable/user_guide/indexing.html#returning-a-view-versus-a-copy\n"
     ]
    },
    {
     "data": {
      "image/png": "[encoded data removed]",
      "text/plain": [
       "<Figure size 1152x576 with 1 Axes>"
      ]
     },
     "metadata": {
      "needs_background": "light"
     },
     "output_type": "display_data"
    },
    {
     "name": "stdout",
     "output_type": "stream",
     "text": [
      "================================================\n",
      "             Close  Predictions\n",
      "Date                           \n",
      "2018-10-03  112.11   111.432739\n",
      "2018-10-04  109.80   111.350517\n",
      "2018-10-05  109.15   109.202133\n",
      "2018-10-08  107.91   108.401466\n",
      "2018-10-09  109.28   107.337448\n",
      "...            ...          ...\n",
      "2020-09-25  207.82   201.534348\n",
      "2020-09-28  209.44   206.496185\n",
      "2020-09-29  207.26   208.172653\n",
      "2020-09-30  210.33   205.653473\n",
      "2020-10-01  212.46   208.382034\n",
      "\n",
      "[503 rows x 2 columns]\n"
     ]
    }
   ],
   "source": [
    "model = algo_lstm(x_train, y_train, x_test, y_test, scaler, \"MSFT\")"
   ]
  },
  {
   "cell_type": "markdown",
   "metadata": {
    "id": "70Qf4sJr141_"
   },
   "source": [
    "# LSTM Google "
   ]
  },
  {
   "cell_type": "markdown",
   "metadata": {},
   "source": [
    "La valeur de notre RMSE est de 3.48 pour Google."
   ]
  },
  {
   "cell_type": "code",
   "execution_count": 11,
   "metadata": {
    "colab": {
     "base_uri": "https://localhost:8080/",
     "height": 1000
    },
    "id": "3bSD20A81CWF",
    "outputId": "0bf65a4f-d91c-4573-fa4c-0f3858342cad"
   },
   "outputs": [
    {
     "name": "stdout",
     "output_type": "stream",
     "text": [
      "Longueur du data: 2016\n",
      "================================================\n",
      "Longueur du data: 2016\n",
      "================================================\n",
      "Epoch 1/50\n",
      "107/110 [============================>.] - ETA: 0s - loss: 2.7438e-04- ETA: 1s - loss: - ETA: 0s - loss: 2.9635e\n",
      "Epoch 00001: val_loss improved from inf to 0.00013, saving model to GOOG_model.h5\n",
      "110/110 [==============================] - 4s 34ms/step - loss: 2.6847e-04 - val_loss: 1.3140e-04\n",
      "Epoch 2/50\n",
      "110/110 [==============================] - ETA: 0s - loss: 3.5479e-05\n",
      "Epoch 00002: val_loss improved from 0.00013 to 0.00011, saving model to GOOG_model.h5\n",
      "110/110 [==============================] - 2s 20ms/step - loss: 3.5479e-05 - val_loss: 1.0897e-04\n",
      "Epoch 3/50\n",
      "109/110 [============================>.] - ETA: 0s - loss: 3.7534e-05\n",
      "Epoch 00003: val_loss did not improve from 0.00011\n",
      "110/110 [==============================] - 2s 18ms/step - loss: 3.7688e-05 - val_loss: 1.2047e-04\n",
      "Epoch 4/50\n",
      "108/110 [============================>.] - ETA: 0s - loss: 3.3259e-05- ETA: 0s - loss: 3\n",
      "Epoch 00004: val_loss improved from 0.00011 to 0.00009, saving model to GOOG_model.h5\n",
      "110/110 [==============================] - 2s 18ms/step - loss: 3.3086e-05 - val_loss: 8.8355e-05\n",
      "Epoch 5/50\n",
      "110/110 [==============================] - ETA: 0s - loss: 3.1811e-05- ETA: 1s -\n",
      "Epoch 00005: val_loss improved from 0.00009 to 0.00009, saving model to GOOG_model.h5\n",
      "110/110 [==============================] - 3s 23ms/step - loss: 3.1811e-05 - val_loss: 8.6766e-05\n",
      "Epoch 6/50\n",
      "110/110 [==============================] - ETA: 0s - loss: 3.4623e-05\n",
      "Epoch 00006: val_loss improved from 0.00009 to 0.00008, saving model to GOOG_model.h5\n",
      "110/110 [==============================] - 2s 18ms/step - loss: 3.4623e-05 - val_loss: 8.1912e-05\n",
      "Epoch 7/50\n",
      "110/110 [==============================] - ETA: 0s - loss: 2.6666e-05\n",
      "Epoch 00007: val_loss improved from 0.00008 to 0.00008, saving model to GOOG_model.h5\n",
      "110/110 [==============================] - 2s 18ms/step - loss: 2.6666e-05 - val_loss: 8.0233e-05\n",
      "Epoch 8/50\n",
      "110/110 [==============================] - ETA: 0s - loss: 3.2755e-05\n",
      "Epoch 00008: val_loss did not improve from 0.00008\n",
      "110/110 [==============================] - 2s 17ms/step - loss: 3.2755e-05 - val_loss: 1.0587e-04\n",
      "Epoch 9/50\n",
      "107/110 [============================>.] - ETA: 0s - loss: 2.7781e-05\n",
      "Epoch 00009: val_loss did not improve from 0.00008\n",
      "110/110 [==============================] - 2s 17ms/step - loss: 2.7667e-05 - val_loss: 8.1358e-05\n",
      "Epoch 10/50\n",
      "108/110 [============================>.] - ETA: 0s - loss: 3.2827e-05\n",
      "Epoch 00010: val_loss improved from 0.00008 to 0.00007, saving model to GOOG_model.h5\n",
      "110/110 [==============================] - 2s 18ms/step - loss: 3.2690e-05 - val_loss: 7.2911e-05\n",
      "Epoch 11/50\n",
      "107/110 [============================>.] - ETA: 0s - loss: 2.4406e-05\n",
      "Epoch 00011: val_loss did not improve from 0.00007\n",
      "110/110 [==============================] - 2s 17ms/step - loss: 2.4160e-05 - val_loss: 9.1135e-05\n",
      "Epoch 12/50\n",
      "110/110 [==============================] - ETA: 0s - loss: 2.9368e-05\n",
      "Epoch 00012: val_loss did not improve from 0.00007\n",
      "110/110 [==============================] - 2s 18ms/step - loss: 2.9368e-05 - val_loss: 1.2109e-04\n",
      "Epoch 13/50\n",
      "110/110 [==============================] - ETA: 0s - loss: 2.6591e-05\n",
      "Epoch 00013: val_loss did not improve from 0.00007\n",
      "110/110 [==============================] - 2s 17ms/step - loss: 2.6591e-05 - val_loss: 9.8928e-05\n",
      "Epoch 14/50\n",
      "109/110 [============================>.] - ETA: 0s - loss: 2.3858e-05\n",
      "Epoch 00014: val_loss improved from 0.00007 to 0.00007, saving model to GOOG_model.h5\n",
      "110/110 [==============================] - 2s 17ms/step - loss: 2.3731e-05 - val_loss: 6.9031e-05\n",
      "Epoch 15/50\n",
      "109/110 [============================>.] - ETA: 0s - loss: 2.2564e-05\n",
      "Epoch 00015: val_loss did not improve from 0.00007\n",
      "110/110 [==============================] - 2s 16ms/step - loss: 2.2692e-05 - val_loss: 8.9032e-05\n",
      "Epoch 16/50\n",
      "108/110 [============================>.] - ETA: 0s - loss: 2.5429e-05\n",
      "Epoch 00016: val_loss did not improve from 0.00007\n",
      "110/110 [==============================] - 2s 17ms/step - loss: 2.5229e-05 - val_loss: 7.7197e-05\n",
      "Epoch 17/50\n",
      "108/110 [============================>.] - ETA: 0s - loss: 2.2730e-05\n",
      "Epoch 00017: val_loss improved from 0.00007 to 0.00007, saving model to GOOG_model.h5\n",
      "110/110 [==============================] - 2s 17ms/step - loss: 2.3175e-05 - val_loss: 6.7209e-05\n",
      "Epoch 18/50\n",
      "110/110 [==============================] - ETA: 0s - loss: 2.0151e-05\n",
      "Epoch 00018: val_loss did not improve from 0.00007\n",
      "110/110 [==============================] - 2s 22ms/step - loss: 2.0151e-05 - val_loss: 6.8797e-05\n",
      "Epoch 19/50\n",
      "109/110 [============================>.] - ETA: 0s - loss: 2.0620e-05\n",
      "Epoch 00019: val_loss did not improve from 0.00007\n",
      "110/110 [==============================] - 2s 19ms/step - loss: 2.0539e-05 - val_loss: 9.9536e-05\n",
      "Epoch 20/50\n",
      "108/110 [============================>.] - ETA: 0s - loss: 2.1779e-05\n",
      "Epoch 00020: val_loss did not improve from 0.00007\n",
      "110/110 [==============================] - 2s 20ms/step - loss: 2.1669e-05 - val_loss: 7.9258e-05\n",
      "Epoch 21/50\n",
      "110/110 [==============================] - ETA: 0s - loss: 2.2653e-05- ETA: \n",
      "Epoch 00021: val_loss improved from 0.00007 to 0.00006, saving model to GOOG_model.h5\n",
      "110/110 [==============================] - 2s 20ms/step - loss: 2.2653e-05 - val_loss: 6.0985e-05\n",
      "Epoch 22/50\n",
      "109/110 [============================>.] - ETA: 0s - loss: 1.7024e-05\n",
      "Epoch 00022: val_loss improved from 0.00006 to 0.00005, saving model to GOOG_model.h5\n",
      "110/110 [==============================] - 2s 20ms/step - loss: 1.7011e-05 - val_loss: 5.2320e-05\n",
      "Epoch 23/50\n",
      "110/110 [==============================] - ETA: 0s - loss: 1.6050e-05- ETA: 0s - loss: 1.4222 - ETA: 0s - loss: 1.4804\n",
      "Epoch 00023: val_loss did not improve from 0.00005\n",
      "110/110 [==============================] - 2s 19ms/step - loss: 1.6050e-05 - val_loss: 5.6508e-05\n",
      "Epoch 24/50\n",
      "109/110 [============================>.] - ETA: 0s - loss: 1.6962e-0 - ETA: 0s - loss: 1.7158e-05\n",
      "Epoch 00024: val_loss did not improve from 0.00005\n",
      "110/110 [==============================] - 2s 21ms/step - loss: 1.7033e-05 - val_loss: 8.6296e-05\n",
      "Epoch 25/50\n",
      "110/110 [==============================] - ETA: 0s - loss: 1.5690e-05- ETA: 1s - loss: - ETA: 0s -\n",
      "Epoch 00025: val_loss improved from 0.00005 to 0.00005, saving model to GOOG_model.h5\n",
      "110/110 [==============================] - 2s 19ms/step - loss: 1.5690e-05 - val_loss: 4.9019e-05\n",
      "Epoch 26/50\n",
      "110/110 [==============================] - ETA: 0s - loss: 1.3863e-05\n",
      "Epoch 00026: val_loss did not improve from 0.00005\n",
      "110/110 [==============================] - 2s 22ms/step - loss: 1.3863e-05 - val_loss: 5.1484e-05\n",
      "Epoch 27/50\n",
      "110/110 [==============================] - ETA: 0s - loss: 1.5423e-05\n",
      "Epoch 00027: val_loss did not improve from 0.00005\n",
      "110/110 [==============================] - 2s 19ms/step - loss: 1.5423e-05 - val_loss: 8.1377e-05\n",
      "Epoch 28/50\n",
      "108/110 [============================>.] - ETA: 0s - loss: 1.5563e-05\n",
      "Epoch 00028: val_loss did not improve from 0.00005\n",
      "110/110 [==============================] - 2s 19ms/step - loss: 1.5492e-05 - val_loss: 7.5886e-05\n",
      "Epoch 29/50\n",
      "107/110 [============================>.] - ETA: 0s - loss: 1.4354e-05\n",
      "Epoch 00029: val_loss did not improve from 0.00005\n",
      "110/110 [==============================] - 2s 18ms/step - loss: 1.4848e-05 - val_loss: 1.1374e-04\n",
      "Epoch 30/50\n",
      "109/110 [============================>.] - ETA: 0s - loss: 1.9577e-05\n",
      "Epoch 00030: val_loss improved from 0.00005 to 0.00004, saving model to GOOG_model.h5\n",
      "110/110 [==============================] - 2s 22ms/step - loss: 1.9466e-05 - val_loss: 4.3004e-05\n",
      "Epoch 31/50\n",
      "110/110 [==============================] - ETA: 0s - loss: 1.3118e-05\n",
      "Epoch 00031: val_loss improved from 0.00004 to 0.00004, saving model to GOOG_model.h5\n",
      "110/110 [==============================] - 2s 22ms/step - loss: 1.3118e-05 - val_loss: 4.2765e-05\n",
      "Epoch 32/50\n",
      "108/110 [============================>.] - ETA: 0s - loss: 1.4335e-05- ETA: 0s - \n",
      "Epoch 00032: val_loss did not improve from 0.00004\n",
      "110/110 [==============================] - 3s 24ms/step - loss: 1.4193e-05 - val_loss: 4.7622e-05\n"
     ]
    },
    {
     "name": "stdout",
     "output_type": "stream",
     "text": [
      "Epoch 33/50\n",
      "109/110 [============================>.] - ETA: 0s - loss: 1.6458e-05- ETA: \n",
      "Epoch 00033: val_loss did not improve from 0.00004\n",
      "110/110 [==============================] - 3s 29ms/step - loss: 1.6408e-05 - val_loss: 1.2076e-04\n",
      "Epoch 34/50\n",
      "109/110 [============================>.] - ETA: 0s - loss: 1.5167e-05\n",
      "Epoch 00034: val_loss did not improve from 0.00004\n",
      "110/110 [==============================] - 3s 26ms/step - loss: 1.5086e-05 - val_loss: 6.4347e-05\n",
      "Epoch 35/50\n",
      "110/110 [==============================] - ETA: 0s - loss: 1.3707e-05\n",
      "Epoch 00035: val_loss improved from 0.00004 to 0.00004, saving model to GOOG_model.h5\n",
      "110/110 [==============================] - 2s 21ms/step - loss: 1.3707e-05 - val_loss: 3.9307e-05\n",
      "Epoch 36/50\n",
      "110/110 [==============================] - ETA: 0s - loss: 1.0848e-05\n",
      "Epoch 00036: val_loss did not improve from 0.00004\n",
      "110/110 [==============================] - 2s 20ms/step - loss: 1.0848e-05 - val_loss: 5.9651e-05\n",
      "Epoch 37/50\n",
      "109/110 [============================>.] - ETA: 0s - loss: 1.0691e-05- ETA: 0s - loss: 1.0908 - ETA: 0s - loss: 1.0906\n",
      "Epoch 00037: val_loss did not improve from 0.00004\n",
      "110/110 [==============================] - 2s 22ms/step - loss: 1.0744e-05 - val_loss: 1.1095e-04\n",
      "Epoch 38/50\n",
      "108/110 [============================>.] - ETA: 0s - loss: 1.1382e-05\n",
      "Epoch 00038: val_loss did not improve from 0.00004\n",
      "110/110 [==============================] - 2s 19ms/step - loss: 1.1372e-05 - val_loss: 4.4982e-05\n",
      "Epoch 39/50\n",
      "108/110 [============================>.] - ETA: 0s - loss: 1.0328e-05\n",
      "Epoch 00039: val_loss did not improve from 0.00004\n",
      "110/110 [==============================] - 2s 21ms/step - loss: 1.0275e-05 - val_loss: 5.7624e-05\n",
      "Epoch 40/50\n",
      "110/110 [==============================] - ETA: 0s - loss: 1.1094e-05\n",
      "Epoch 00040: val_loss did not improve from 0.00004\n",
      "110/110 [==============================] - 2s 22ms/step - loss: 1.1094e-05 - val_loss: 4.6961e-05\n",
      "Epoch 41/50\n",
      "110/110 [==============================] - ETA: 0s - loss: 1.5371e-05\n",
      "Epoch 00041: val_loss did not improve from 0.00004\n",
      "110/110 [==============================] - 4s 34ms/step - loss: 1.5371e-05 - val_loss: 7.1977e-05\n",
      "Epoch 42/50\n",
      "108/110 [============================>.] - ETA: 0s - loss: 1.7073e-05\n",
      "Epoch 00042: val_loss did not improve from 0.00004\n",
      "110/110 [==============================] - 4s 32ms/step - loss: 1.7217e-05 - val_loss: 4.0874e-05\n",
      "Epoch 43/50\n",
      "107/110 [============================>.] - ETA: 0s - loss: 1.1786e-05\n",
      "Epoch 00043: val_loss improved from 0.00004 to 0.00004, saving model to GOOG_model.h5\n",
      "110/110 [==============================] - 2s 19ms/step - loss: 1.1727e-05 - val_loss: 3.7579e-05\n",
      "Epoch 44/50\n",
      "109/110 [============================>.] - ETA: 0s - loss: 9.4430e-06\n",
      "Epoch 00044: val_loss did not improve from 0.00004\n",
      "110/110 [==============================] - 2s 18ms/step - loss: 9.4847e-06 - val_loss: 3.8016e-05\n",
      "Epoch 45/50\n",
      "109/110 [============================>.] - ETA: 0s - loss: 9.3793e-06\n",
      "Epoch 00045: val_loss did not improve from 0.00004\n",
      "110/110 [==============================] - 3s 23ms/step - loss: 9.4273e-06 - val_loss: 3.8578e-05\n",
      "Epoch 46/50\n",
      "109/110 [============================>.] - ETA: 0s - loss: 1.0385e-05\n",
      "Epoch 00046: val_loss did not improve from 0.00004\n",
      "110/110 [==============================] - 3s 28ms/step - loss: 1.0418e-05 - val_loss: 7.5724e-05\n",
      "Epoch 47/50\n",
      "108/110 [============================>.] - ETA: 0s - loss: 1.0695e-05\n",
      "Epoch 00047: val_loss did not improve from 0.00004\n",
      "110/110 [==============================] - 2s 17ms/step - loss: 1.1079e-05 - val_loss: 4.3800e-05\n",
      "Epoch 48/50\n",
      "110/110 [==============================] - ETA: 0s - loss: 1.3201e-05\n",
      "Epoch 00048: val_loss did not improve from 0.00004\n",
      "110/110 [==============================] - 2s 17ms/step - loss: 1.3201e-05 - val_loss: 8.5791e-05\n",
      "Epoch 49/50\n",
      "108/110 [============================>.] - ETA: 0s - loss: 1.1016e-05\n",
      "Epoch 00049: val_loss did not improve from 0.00004\n",
      "110/110 [==============================] - 2s 17ms/step - loss: 1.0987e-05 - val_loss: 3.9183e-05\n",
      "Epoch 50/50\n",
      "109/110 [============================>.] - ETA: 0s - loss: 1.1313e-05\n",
      "Epoch 00050: val_loss did not improve from 0.00004\n",
      "110/110 [==============================] - 2s 18ms/step - loss: 1.1316e-05 - val_loss: 3.8003e-05\n"
     ]
    },
    {
     "data": {
      "image/png": "[encoded data removed]",
      "text/plain": [
       "<Figure size 432x288 with 1 Axes>"
      ]
     },
     "metadata": {
      "needs_background": "light"
     },
     "output_type": "display_data"
    },
    {
     "name": "stdout",
     "output_type": "stream",
     "text": [
      "================================================\n",
      "RMSE: 3.3290128729796615\n",
      "================================================\n"
     ]
    },
    {
     "name": "stderr",
     "output_type": "stream",
     "text": [
      "C:\\Users\\utilisateur\\Anaconda3\\lib\\site-packages\\ipykernel_launcher.py:31: SettingWithCopyWarning: \n",
      "A value is trying to be set on a copy of a slice from a DataFrame.\n",
      "Try using .loc[row_indexer,col_indexer] = value instead\n",
      "\n",
      "See the caveats in the documentation: https://pandas.pydata.org/pandas-docs/stable/user_guide/indexing.html#returning-a-view-versus-a-copy\n"
     ]
    },
    {
     "data": {
      "image/png": "[encoded data removed]",
      "text/plain": [
       "<Figure size 1152x576 with 1 Axes>"
      ]
     },
     "metadata": {
      "needs_background": "light"
     },
     "output_type": "display_data"
    },
    {
     "name": "stdout",
     "output_type": "stream",
     "text": [
      "================================================\n",
      "             Close  Predictions\n",
      "Date                           \n",
      "2018-10-03  112.11   112.272781\n",
      "2018-10-04  109.80   112.148788\n",
      "2018-10-05  109.15   110.114494\n",
      "2018-10-08  107.91   109.130554\n",
      "2018-10-09  109.28   108.083450\n",
      "...            ...          ...\n",
      "2020-09-25  207.82   202.620682\n",
      "2020-09-28  209.44   207.412949\n",
      "2020-09-29  207.26   209.725662\n",
      "2020-09-30  210.33   207.641403\n",
      "2020-10-01  212.46   209.709427\n",
      "\n",
      "[503 rows x 2 columns]\n"
     ]
    }
   ],
   "source": [
    "x_train, y_train, x_test, y_test, scaler, data, dataset, training_data_len = split_data(df_concat, \"GOOG\")\n",
    "model = algo_lstm(x_train, y_train, x_test, y_test, scaler, \"GOOG\")"
   ]
  },
  {
   "cell_type": "markdown",
   "metadata": {
    "id": "FlfkO-Sp3j7X"
   },
   "source": [
    "# LSTM Amazon"
   ]
  },
  {
   "cell_type": "markdown",
   "metadata": {},
   "source": [
    "La valeur de notre RMSE est de 3.43 pour AMazon."
   ]
  },
  {
   "cell_type": "code",
   "execution_count": 12,
   "metadata": {
    "colab": {
     "base_uri": "https://localhost:8080/",
     "height": 1000
    },
    "id": "4_ZsdMGa3oUa",
    "outputId": "0b35a718-7b58-4bc1-cd16-02ca2be40dac"
   },
   "outputs": [
    {
     "name": "stdout",
     "output_type": "stream",
     "text": [
      "Longueur du data: 2016\n",
      "================================================\n",
      "Longueur du data: 2016\n",
      "================================================\n",
      "Epoch 1/50\n",
      "110/110 [==============================] - ETA: 0s - loss: 5.4152e-04\n",
      "Epoch 00001: val_loss improved from inf to 0.00010, saving model to AMZN_model.h5\n",
      "110/110 [==============================] - 2s 22ms/step - loss: 5.4152e-04 - val_loss: 1.0103e-04\n",
      "Epoch 2/50\n",
      "109/110 [============================>.] - ETA: 0s - loss: 3.1628e-05\n",
      "Epoch 00002: val_loss did not improve from 0.00010\n",
      "110/110 [==============================] - 2s 17ms/step - loss: 3.1626e-05 - val_loss: 1.6269e-04\n",
      "Epoch 3/50\n",
      "107/110 [============================>.] - ETA: 0s - loss: 3.0528e-05\n",
      "Epoch 00003: val_loss improved from 0.00010 to 0.00009, saving model to AMZN_model.h5\n",
      "110/110 [==============================] - 2s 17ms/step - loss: 3.0201e-05 - val_loss: 8.9498e-05\n",
      "Epoch 4/50\n",
      "108/110 [============================>.] - ETA: 0s - loss: 2.8033e-05\n",
      "Epoch 00004: val_loss did not improve from 0.00009\n",
      "110/110 [==============================] - 2s 22ms/step - loss: 2.7945e-05 - val_loss: 9.0852e-05\n",
      "Epoch 5/50\n",
      "107/110 [============================>.] - ETA: 0s - loss: 3.1267e-05- ETA: 0s - los\n",
      "Epoch 00005: val_loss did not improve from 0.00009\n",
      "110/110 [==============================] - 2s 19ms/step - loss: 3.2084e-05 - val_loss: 3.2301e-04\n",
      "Epoch 6/50\n",
      "109/110 [============================>.] - ETA: 0s - loss: 3.4209e-05\n",
      "Epoch 00006: val_loss improved from 0.00009 to 0.00009, saving model to AMZN_model.h5\n",
      "110/110 [==============================] - 2s 17ms/step - loss: 3.4075e-05 - val_loss: 8.5221e-05\n",
      "Epoch 7/50\n",
      "109/110 [============================>.] - ETA: 0s - loss: 2.6590e-05\n",
      "Epoch 00007: val_loss did not improve from 0.00009\n",
      "110/110 [==============================] - 2s 16ms/step - loss: 2.6636e-05 - val_loss: 1.1063e-04\n",
      "Epoch 8/50\n",
      "109/110 [============================>.] - ETA: 0s - loss: 2.6406e-05\n",
      "Epoch 00008: val_loss did not improve from 0.00009\n",
      "110/110 [==============================] - 2s 16ms/step - loss: 2.6479e-05 - val_loss: 1.8465e-04\n",
      "Epoch 9/50\n",
      "107/110 [============================>.] - ETA: 0s - loss: 2.8162e-05- ETA: 0s - loss: 2.\n",
      "Epoch 00009: val_loss improved from 0.00009 to 0.00008, saving model to AMZN_model.h5\n",
      "110/110 [==============================] - 2s 17ms/step - loss: 2.8100e-05 - val_loss: 7.8580e-05\n",
      "Epoch 10/50\n",
      "109/110 [============================>.] - ETA: 0s - loss: 2.8673e-05\n",
      "Epoch 00010: val_loss did not improve from 0.00008\n",
      "110/110 [==============================] - 2s 16ms/step - loss: 2.8613e-05 - val_loss: 8.3575e-05\n",
      "Epoch 11/50\n",
      "108/110 [============================>.] - ETA: 0s - loss: 2.6177e-05\n",
      "Epoch 00011: val_loss did not improve from 0.00008\n",
      "110/110 [==============================] - 2s 17ms/step - loss: 2.6095e-05 - val_loss: 1.3070e-04\n",
      "Epoch 12/50\n",
      "110/110 [==============================] - ETA: 0s - loss: 2.6206e-05\n",
      "Epoch 00012: val_loss improved from 0.00008 to 0.00007, saving model to AMZN_model.h5\n",
      "110/110 [==============================] - 2s 20ms/step - loss: 2.6206e-05 - val_loss: 7.1567e-05\n",
      "Epoch 13/50\n",
      "110/110 [==============================] - ETA: 0s - loss: 3.7668e-05\n",
      "Epoch 00013: val_loss did not improve from 0.00007\n",
      "110/110 [==============================] - 2s 19ms/step - loss: 3.7668e-05 - val_loss: 7.5830e-05\n",
      "Epoch 14/50\n",
      "108/110 [============================>.] - ETA: 0s - loss: 2.2362e-05\n",
      "Epoch 00014: val_loss improved from 0.00007 to 0.00007, saving model to AMZN_model.h5\n",
      "110/110 [==============================] - 2s 19ms/step - loss: 2.2298e-05 - val_loss: 6.9381e-05\n",
      "Epoch 15/50\n",
      "108/110 [============================>.] - ETA: 0s - loss: 2.3446e-05\n",
      "Epoch 00015: val_loss did not improve from 0.00007\n",
      "110/110 [==============================] - 2s 16ms/step - loss: 2.3524e-05 - val_loss: 8.1816e-05\n",
      "Epoch 16/50\n",
      "109/110 [============================>.] - ETA: 0s - loss: 2.2207e-05\n",
      "Epoch 00016: val_loss improved from 0.00007 to 0.00007, saving model to AMZN_model.h5\n",
      "110/110 [==============================] - 2s 17ms/step - loss: 2.2454e-05 - val_loss: 6.8140e-05\n",
      "Epoch 17/50\n",
      "107/110 [============================>.] - ETA: 0s - loss: 1.9849e-05\n",
      "Epoch 00017: val_loss did not improve from 0.00007\n",
      "110/110 [==============================] - 2s 17ms/step - loss: 1.9650e-05 - val_loss: 8.6039e-05\n",
      "Epoch 18/50\n",
      "107/110 [============================>.] - ETA: 0s - loss: 2.7297e-05\n",
      "Epoch 00018: val_loss did not improve from 0.00007\n",
      "110/110 [==============================] - 2s 17ms/step - loss: 2.8569e-05 - val_loss: 4.8382e-04\n",
      "Epoch 19/50\n",
      "109/110 [============================>.] - ETA: 0s - loss: 2.1455e-05\n",
      "Epoch 00019: val_loss did not improve from 0.00007\n",
      "110/110 [==============================] - 2s 17ms/step - loss: 2.1331e-05 - val_loss: 1.3502e-04\n",
      "Epoch 20/50\n",
      "107/110 [============================>.] - ETA: 0s - loss: 2.0637e-05\n",
      "Epoch 00020: val_loss improved from 0.00007 to 0.00006, saving model to AMZN_model.h5\n",
      "110/110 [==============================] - 2s 17ms/step - loss: 2.0400e-05 - val_loss: 6.2394e-05\n",
      "Epoch 21/50\n",
      "109/110 [============================>.] - ETA: 0s - loss: 1.9054e-05\n",
      "Epoch 00021: val_loss did not improve from 0.00006\n",
      "110/110 [==============================] - 2s 17ms/step - loss: 1.9098e-05 - val_loss: 6.4598e-05\n",
      "Epoch 22/50\n",
      "109/110 [============================>.] - ETA: 0s - loss: 1.9843e-05\n",
      "Epoch 00022: val_loss did not improve from 0.00006\n",
      "110/110 [==============================] - 2s 17ms/step - loss: 2.0050e-05 - val_loss: 9.8852e-05\n",
      "Epoch 23/50\n",
      "108/110 [============================>.] - ETA: 0s - loss: 1.8506e-05\n",
      "Epoch 00023: val_loss improved from 0.00006 to 0.00006, saving model to AMZN_model.h5\n",
      "110/110 [==============================] - 2s 17ms/step - loss: 1.8451e-05 - val_loss: 5.7781e-05\n",
      "Epoch 24/50\n",
      "109/110 [============================>.] - ETA: 0s - loss: 1.8606e-05\n",
      "Epoch 00024: val_loss did not improve from 0.00006\n",
      "110/110 [==============================] - 2s 17ms/step - loss: 1.8483e-05 - val_loss: 1.3873e-04\n",
      "Epoch 25/50\n",
      "109/110 [============================>.] - ETA: 0s - loss: 1.7871e-05\n",
      "Epoch 00025: val_loss did not improve from 0.00006\n",
      "110/110 [==============================] - 2s 17ms/step - loss: 1.7812e-05 - val_loss: 9.3472e-05\n",
      "Epoch 26/50\n",
      "108/110 [============================>.] - ETA: 0s - loss: 1.7852e-05\n",
      "Epoch 00026: val_loss did not improve from 0.00006\n",
      "110/110 [==============================] - 2s 21ms/step - loss: 1.7826e-05 - val_loss: 1.0590e-04\n",
      "Epoch 27/50\n",
      "109/110 [============================>.] - ETA: 0s - loss: 1.6809e-05\n",
      "Epoch 00027: val_loss did not improve from 0.00006\n",
      "110/110 [==============================] - 2s 18ms/step - loss: 1.6741e-05 - val_loss: 1.9754e-04\n",
      "Epoch 28/50\n",
      "110/110 [==============================] - ETA: 0s - loss: 1.7590e-05\n",
      "Epoch 00028: val_loss did not improve from 0.00006\n",
      "110/110 [==============================] - 2s 18ms/step - loss: 1.7590e-05 - val_loss: 1.4576e-04\n",
      "Epoch 29/50\n",
      "109/110 [============================>.] - ETA: 0s - loss: 1.5781e-05\n",
      "Epoch 00029: val_loss did not improve from 0.00006\n",
      "110/110 [==============================] - 2s 16ms/step - loss: 1.5736e-05 - val_loss: 6.7073e-05\n",
      "Epoch 30/50\n",
      "109/110 [============================>.] - ETA: 0s - loss: 1.4081e-05\n",
      "Epoch 00030: val_loss improved from 0.00006 to 0.00005, saving model to AMZN_model.h5\n",
      "110/110 [==============================] - 2s 17ms/step - loss: 1.4002e-05 - val_loss: 4.6710e-05\n",
      "Epoch 31/50\n",
      "108/110 [============================>.] - ETA: 0s - loss: 1.4174e-05\n",
      "Epoch 00031: val_loss did not improve from 0.00005\n",
      "110/110 [==============================] - 2s 18ms/step - loss: 1.4435e-05 - val_loss: 6.5796e-05\n",
      "Epoch 32/50\n",
      "107/110 [============================>.] - ETA: 0s - loss: 1.3282e-05\n",
      "Epoch 00032: val_loss did not improve from 0.00005\n",
      "110/110 [==============================] - 2s 21ms/step - loss: 1.3322e-05 - val_loss: 5.8214e-05\n",
      "Epoch 33/50\n",
      "108/110 [============================>.] - ETA: 0s - loss: 1.5180e-05\n",
      "Epoch 00033: val_loss did not improve from 0.00005\n",
      "110/110 [==============================] - 2s 17ms/step - loss: 1.5031e-05 - val_loss: 4.8954e-05\n",
      "Epoch 34/50\n",
      "108/110 [============================>.] - ETA: 0s - loss: 1.5149e-05\n",
      "Epoch 00034: val_loss improved from 0.00005 to 0.00004, saving model to AMZN_model.h5\n",
      "110/110 [==============================] - 2s 17ms/step - loss: 1.5100e-05 - val_loss: 4.4855e-05\n",
      "Epoch 35/50\n",
      "109/110 [============================>.] - ETA: 0s - loss: 1.7008e-05\n",
      "Epoch 00035: val_loss did not improve from 0.00004\n",
      "110/110 [==============================] - 2s 17ms/step - loss: 1.6964e-05 - val_loss: 5.3837e-05\n",
      "Epoch 36/50\n",
      "109/110 [============================>.] - ETA: 0s - loss: 1.3434e-05\n",
      "Epoch 00036: val_loss improved from 0.00004 to 0.00004, saving model to AMZN_model.h5\n",
      "110/110 [==============================] - 2s 17ms/step - loss: 1.3355e-05 - val_loss: 4.3041e-05\n",
      "Epoch 37/50\n",
      "107/110 [============================>.] - ETA: 0s - loss: 1.3084e-05\n",
      "Epoch 00037: val_loss improved from 0.00004 to 0.00004, saving model to AMZN_model.h5\n",
      "110/110 [==============================] - 2s 17ms/step - loss: 1.3008e-05 - val_loss: 4.0177e-05\n",
      "Epoch 38/50\n",
      "110/110 [==============================] - ETA: 0s - loss: 1.1159e-05\n",
      "Epoch 00038: val_loss did not improve from 0.00004\n",
      "110/110 [==============================] - 2s 17ms/step - loss: 1.1159e-05 - val_loss: 5.5952e-05\n",
      "Epoch 39/50\n",
      "110/110 [==============================] - ETA: 0s - loss: 1.1869e-05\n",
      "Epoch 00039: val_loss did not improve from 0.00004\n",
      "110/110 [==============================] - 2s 18ms/step - loss: 1.1869e-05 - val_loss: 5.5273e-05\n",
      "Epoch 40/50\n",
      "108/110 [============================>.] - ETA: 0s - loss: 1.3831e-05\n",
      "Epoch 00040: val_loss did not improve from 0.00004\n",
      "110/110 [==============================] - 2s 19ms/step - loss: 1.4131e-05 - val_loss: 3.1430e-04\n",
      "Epoch 41/50\n",
      "110/110 [==============================] - ETA: 0s - loss: 1.3175e-05\n",
      "Epoch 00041: val_loss did not improve from 0.00004\n",
      "110/110 [==============================] - 2s 21ms/step - loss: 1.3175e-05 - val_loss: 5.1162e-05\n",
      "Epoch 42/50\n",
      "108/110 [============================>.] - ETA: 0s - loss: 1.1187e-05\n",
      "Epoch 00042: val_loss improved from 0.00004 to 0.00004, saving model to AMZN_model.h5\n",
      "110/110 [==============================] - 2s 22ms/step - loss: 1.1175e-05 - val_loss: 3.9266e-05\n",
      "Epoch 43/50\n",
      "108/110 [============================>.] - ETA: 0s - loss: 1.4254e-05\n",
      "Epoch 00043: val_loss improved from 0.00004 to 0.00004, saving model to AMZN_model.h5\n",
      "110/110 [==============================] - 2s 19ms/step - loss: 1.4111e-05 - val_loss: 3.8779e-05\n",
      "Epoch 44/50\n",
      "109/110 [============================>.] - ETA: 0s - loss: 1.1513e-05\n",
      "Epoch 00044: val_loss improved from 0.00004 to 0.00004, saving model to AMZN_model.h5\n",
      "110/110 [==============================] - 2s 18ms/step - loss: 1.1477e-05 - val_loss: 3.8720e-05\n",
      "Epoch 45/50\n",
      "110/110 [==============================] - ETA: 0s - loss: 9.5729e-06\n",
      "Epoch 00045: val_loss improved from 0.00004 to 0.00004, saving model to AMZN_model.h5\n",
      "110/110 [==============================] - 2s 20ms/step - loss: 9.5729e-06 - val_loss: 3.8153e-05\n",
      "Epoch 46/50\n",
      "108/110 [============================>.] - ETA: 0s - loss: 1.1908e-05\n",
      "Epoch 00046: val_loss did not improve from 0.00004\n",
      "110/110 [==============================] - 2s 19ms/step - loss: 1.1863e-05 - val_loss: 4.8494e-05\n",
      "Epoch 47/50\n",
      "110/110 [==============================] - ETA: 0s - loss: 1.0688e-05\n",
      "Epoch 00047: val_loss did not improve from 0.00004\n",
      "110/110 [==============================] - 2s 22ms/step - loss: 1.0688e-05 - val_loss: 3.9528e-05\n",
      "Epoch 48/50\n",
      "110/110 [==============================] - ETA: 0s - loss: 1.1441e-05\n",
      "Epoch 00048: val_loss did not improve from 0.00004\n",
      "110/110 [==============================] - 2s 22ms/step - loss: 1.1441e-05 - val_loss: 3.8789e-05\n",
      "Epoch 49/50\n",
      "108/110 [============================>.] - ETA: 0s - loss: 1.1415e-05\n",
      "Epoch 00049: val_loss improved from 0.00004 to 0.00004, saving model to AMZN_model.h5\n",
      "110/110 [==============================] - 2s 20ms/step - loss: 1.1588e-05 - val_loss: 3.7890e-05\n",
      "Epoch 50/50\n",
      "108/110 [============================>.] - ETA: 0s - loss: 1.5734e-05\n",
      "Epoch 00050: val_loss did not improve from 0.00004\n",
      "110/110 [==============================] - 2s 21ms/step - loss: 1.5783e-05 - val_loss: 4.1039e-05\n"
     ]
    },
    {
     "data": {
      "image/png": "[encoded data removed]",
      "text/plain": [
       "<Figure size 432x288 with 1 Axes>"
      ]
     },
     "metadata": {
      "needs_background": "light"
     },
     "output_type": "display_data"
    },
    {
     "name": "stdout",
     "output_type": "stream",
     "text": [
      "================================================\n",
      "RMSE: 3.4501630297221224\n",
      "================================================\n"
     ]
    },
    {
     "name": "stderr",
     "output_type": "stream",
     "text": [
      "C:\\Users\\utilisateur\\Anaconda3\\lib\\site-packages\\ipykernel_launcher.py:31: SettingWithCopyWarning: \n",
      "A value is trying to be set on a copy of a slice from a DataFrame.\n",
      "Try using .loc[row_indexer,col_indexer] = value instead\n",
      "\n",
      "See the caveats in the documentation: https://pandas.pydata.org/pandas-docs/stable/user_guide/indexing.html#returning-a-view-versus-a-copy\n"
     ]
    },
    {
     "data": {
      "image/png": "[encoded data removed]",
      "text/plain": [
       "<Figure size 1152x576 with 1 Axes>"
      ]
     },
     "metadata": {
      "needs_background": "light"
     },
     "output_type": "display_data"
    },
    {
     "name": "stdout",
     "output_type": "stream",
     "text": [
      "================================================\n",
      "             Close  Predictions\n",
      "Date                           \n",
      "2018-10-03  112.11   112.934944\n",
      "2018-10-04  109.80   112.826035\n",
      "2018-10-05  109.15   110.803444\n",
      "2018-10-08  107.91   109.812149\n",
      "2018-10-09  109.28   108.757072\n",
      "...            ...          ...\n",
      "2020-09-25  207.82   204.546204\n",
      "2020-09-28  209.44   209.452988\n",
      "2020-09-29  207.26   211.690796\n",
      "2020-09-30  210.33   209.360672\n",
      "2020-10-01  212.46   211.493073\n",
      "\n",
      "[503 rows x 2 columns]\n"
     ]
    }
   ],
   "source": [
    "x_train, y_train, x_test, y_test, scaler, data, dataset, training_data_len = split_data(df_concat, \"AMZN\")\n",
    "model = algo_lstm(x_train, y_train, x_test, y_test, scaler, \"AMZN\")"
   ]
  },
  {
   "cell_type": "markdown",
   "metadata": {
    "id": "BlCGHlhw4M4M"
   },
   "source": [
    "# Pridction du Prix du lendemain (le 29/09/2020)"
   ]
  },
  {
   "cell_type": "markdown",
   "metadata": {},
   "source": [
    "1. convertir les données en un array qui ne contient que le prix de clôture.\n",
    "2. Prénons le dernier prix de clôture de 60 jours pour faire la prédiction du 61ème jour.\n",
    "3. Comparons la valaur prédite à la valeur actuelle sur le marché. "
   ]
  },
  {
   "cell_type": "code",
   "execution_count": 13,
   "metadata": {
    "id": "OHN_UUBYDFub"
   },
   "outputs": [],
   "source": [
    "def predict_price(symbol):\n",
    "    tickerData = yf.Ticker(symbol)\n",
    "    df = tickerData.history(period='1d', start='2010-10-1', end=\"2020-9-30\")\n",
    "    new_df = df.filter(['Close'])\n",
    "    last_60_days = new_df[-60:].values\n",
    "    scaler =  MinMaxScaler()\n",
    "\n",
    "    last_60_days_scaled = scaler.fit_transform(last_60_days)\n",
    "    X_test = []\n",
    "    X_test.append(last_60_days_scaled)\n",
    "    X_test = np.array(X_test)\n",
    "    X_test = np.reshape(X_test, (X_test.shape[0], X_test.shape[1], 1))\n",
    "    pred_price = model.predict(X_test)\n",
    "    pred_price = scaler.inverse_transform(pred_price)\n",
    "    print(f'Prix prédit: {pred_price}')\n",
    "\n",
    "    actual_price = tickerData.history(period='1d', start=\"2020-9-29\", end=\"2020-9-29\")\n",
    "    actual_price = actual_price.Close.values\n",
    "    actual_price = np.array(actual_price)\n",
    "    print(f'Prix réel: {actual_price}')\n",
    "    return pred_price, actual_price"
   ]
  },
  {
   "cell_type": "code",
   "execution_count": 14,
   "metadata": {
    "colab": {
     "base_uri": "https://localhost:8080/",
     "height": 68
    },
    "id": "IOv1D1jiE0ei",
    "outputId": "60070908-eb85-4d5c-c5d5-b15b2ac54d24"
   },
   "outputs": [
    {
     "name": "stdout",
     "output_type": "stream",
     "text": [
      "Prix prédit: [[207.98134]]\n",
      "Prix réel: [209.44]\n"
     ]
    },
    {
     "data": {
      "text/plain": [
       "(array([[207.98134]], dtype=float32), array([209.44]))"
      ]
     },
     "execution_count": 14,
     "metadata": {},
     "output_type": "execute_result"
    }
   ],
   "source": [
    "predict_price(\"MSFT\")"
   ]
  },
  {
   "cell_type": "code",
   "execution_count": 15,
   "metadata": {
    "colab": {
     "base_uri": "https://localhost:8080/",
     "height": 68
    },
    "id": "N4-rvCpM5PKS",
    "outputId": "b212367e-75b6-4cec-d54f-37aaf338a0ce"
   },
   "outputs": [
    {
     "name": "stdout",
     "output_type": "stream",
     "text": [
      "Prix prédit: [[3158.5925]]\n",
      "Prix réel: [3174.05]\n"
     ]
    },
    {
     "data": {
      "text/plain": [
       "(array([[3158.5925]], dtype=float32), array([3174.05]))"
      ]
     },
     "execution_count": 15,
     "metadata": {},
     "output_type": "execute_result"
    }
   ],
   "source": [
    "predict_price(\"AMZN\")"
   ]
  },
  {
   "cell_type": "code",
   "execution_count": 16,
   "metadata": {
    "colab": {
     "base_uri": "https://localhost:8080/",
     "height": 68
    },
    "id": "v_5-2pE96A12",
    "outputId": "71cb1bde-c763-4830-b231-4a9df09418f0"
   },
   "outputs": [
    {
     "name": "stdout",
     "output_type": "stream",
     "text": [
      "Prix prédit: [[1475.6274]]\n",
      "Prix réel: [1464.52]\n"
     ]
    },
    {
     "data": {
      "text/plain": [
       "(array([[1475.6274]], dtype=float32), array([1464.52]))"
      ]
     },
     "execution_count": 16,
     "metadata": {},
     "output_type": "execute_result"
    }
   ],
   "source": [
    "predict_price(\"GOOG\")"
   ]
  },
  {
   "cell_type": "markdown",
   "metadata": {},
   "source": [
    "## Conclusion"
   ]
  },
  {
   "cell_type": "markdown",
   "metadata": {},
   "source": [
    "Les RMSES sont proches de zéro, ce qui signifie que l'écart entre nos valeurs prédites et nos valeurs réelles est faible. \n",
    "\n",
    "Nous avons fait la prédiction d'un pas dans l'avenir(le 29/30/2020), après visualisation de nos resultats, notre modèle LSTM est assez bon pour prédir correctement les cours des actions. "
   ]
  }
 ],
 "metadata": {
  "accelerator": "GPU",
  "colab": {
   "collapsed_sections": [],
   "name": "Modèle_Corrigé.ipynb",
   "provenance": []
  },
  "hide_input": false,
  "kernelspec": {
   "display_name": "Python 3",
   "language": "python",
   "name": "python3"
  },
  "language_info": {
   "codemirror_mode": {
    "name": "ipython",
    "version": 3
   },
   "file_extension": ".py",
   "mimetype": "text/x-python",
   "name": "python",
   "nbconvert_exporter": "python",
   "pygments_lexer": "ipython3",
   "version": "3.7.7"
  },
  "toc": {
   "base_numbering": 1,
   "nav_menu": {},
   "number_sections": true,
   "sideBar": true,
   "skip_h1_title": false,
   "title_cell": "Table of Contents",
   "title_sidebar": "Contents",
   "toc_cell": false,
   "toc_position": {},
   "toc_section_display": true,
   "toc_window_display": false
  },
  "varInspector": {
   "cols": {
    "lenName": 16,
    "lenType": 16,
    "lenVar": 40
   },
   "kernels_config": {
    "python": {
     "delete_cmd_postfix": "",
     "delete_cmd_prefix": "del ",
     "library": "var_list.py",
     "varRefreshCmd": "print(var_dic_list())"
    },
    "r": {
     "delete_cmd_postfix": ") ",
     "delete_cmd_prefix": "rm(",
     "library": "var_list.r",
     "varRefreshCmd": "cat(var_dic_list()) "
    }
   },
   "types_to_exclude": [
    "module",
    "function",
    "builtin_function_or_method",
    "instance",
    "_Feature"
   ],
   "window_display": false
  }
 },
 "nbformat": 4,
 "nbformat_minor": 1
}
