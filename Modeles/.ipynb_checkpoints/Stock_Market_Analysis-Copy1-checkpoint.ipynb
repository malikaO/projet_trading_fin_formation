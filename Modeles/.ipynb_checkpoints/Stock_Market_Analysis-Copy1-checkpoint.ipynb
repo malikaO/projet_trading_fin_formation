{
 "cells": [
  {
   "cell_type": "markdown",
   "metadata": {
    "id": "VEoCceBLDFjQ"
   },
   "source": [
    "# Stock Price Prediction avec LSTM\n"
   ]
  },
  {
   "cell_type": "markdown",
   "metadata": {},
   "source": [
    "**LSTM (Long Short-Term Memory)** est une architecture de réseau neuronal récurrent artificiel (RNN) utilisée dans le deep learning.\n",
    "Les LSTM sont largement utilisés pour les problèmes de prédiction de séquences et se sont avérés extrêmement efficaces. La raison pour laquelle ils fonctionnent si bien, c’est parce que LSTM est en mesure de stocker des informations passées qui est important, et oublier l’information qui n’est pas."
   ]
  },
  {
   "cell_type": "markdown",
   "metadata": {},
   "source": [
    "## Importer les libraries"
   ]
  },
  {
   "cell_type": "code",
   "execution_count": 1,
   "metadata": {
    "id": "zT5TR1DdDFjU"
   },
   "outputs": [],
   "source": [
    "#pip install yfinance\n",
    "import pandas as pd\n",
    "import numpy as np\n",
    "import matplotlib.pyplot as plt\n",
    "import seaborn as sns\n",
    "import yfinance as yf\n",
    "from sklearn.preprocessing import MinMaxScaler\n",
    "sns.set_style('whitegrid')\n",
    "plt.style.use(\"fivethirtyeight\")\n",
    "from keras.models import Sequential\n",
    "from keras.layers import LSTM,Dense\n",
    "from keras.models import load_model\n",
    "from tensorflow.keras.callbacks import ModelCheckpoint, CSVLogger\n",
    "from sklearn.metrics import confusion_matrix\n",
    "from sklearn.metrics import f1_score, confusion_matrix, classification_report\n",
    "from sklearn.model_selection import learning_curve\n",
    "%matplotlib inline"
   ]
  },
  {
   "cell_type": "markdown",
   "metadata": {
    "id": "FRzLIfLpDFkG"
   },
   "source": [
    "### Historique des cours de  Microsoft, AMazon et Google"
   ]
  },
  {
   "cell_type": "markdown",
   "metadata": {},
   "source": [
    "Historique des prix par jour sur les dix dernières années en utilisant Yahoo's Finance API. "
   ]
  },
  {
   "cell_type": "code",
   "execution_count": 2,
   "metadata": {
    "id": "olmOXTQCDFlY"
   },
   "outputs": [],
   "source": [
    "def get_data(symbol):\n",
    "  tickerData = yf.Ticker(symbol)\n",
    "  data = tickerData.history(start='2010-10-1', end=\"2020-10-2\")\n",
    "  data['companies'] = symbol\n",
    "  data.drop(['Dividends', 'Stock Splits'], axis=1, inplace=True)\n",
    "  return data\n",
    "\n"
   ]
  },
  {
   "cell_type": "code",
   "execution_count": 3,
   "metadata": {
    "id": "KAi16hu6baWP"
   },
   "outputs": [],
   "source": [
    "msft = get_data(\"MSFT\")\n",
    "amzn = get_data(\"AMZN\")\n",
    "goog = get_data(\"GOOG\")"
   ]
  },
  {
   "cell_type": "code",
   "execution_count": 4,
   "metadata": {
    "colab": {
     "base_uri": "https://localhost:8080/",
     "height": 235
    },
    "id": "L2Qfp628dgEw",
    "outputId": "c25b9490-6e76-43ea-9bd7-641b31a679cd"
   },
   "outputs": [
    {
     "data": {
      "text/html": [
       "<div>\n",
       "<style scoped>\n",
       "    .dataframe tbody tr th:only-of-type {\n",
       "        vertical-align: middle;\n",
       "    }\n",
       "\n",
       "    .dataframe tbody tr th {\n",
       "        vertical-align: top;\n",
       "    }\n",
       "\n",
       "    .dataframe thead th {\n",
       "        text-align: right;\n",
       "    }\n",
       "</style>\n",
       "<table border=\"1\" class=\"dataframe\">\n",
       "  <thead>\n",
       "    <tr style=\"text-align: right;\">\n",
       "      <th></th>\n",
       "      <th>Open</th>\n",
       "      <th>High</th>\n",
       "      <th>Low</th>\n",
       "      <th>Close</th>\n",
       "      <th>Volume</th>\n",
       "      <th>companies</th>\n",
       "    </tr>\n",
       "    <tr>\n",
       "      <th>Date</th>\n",
       "      <th></th>\n",
       "      <th></th>\n",
       "      <th></th>\n",
       "      <th></th>\n",
       "      <th></th>\n",
       "      <th></th>\n",
       "    </tr>\n",
       "  </thead>\n",
       "  <tbody>\n",
       "    <tr>\n",
       "      <th>2020-09-25</th>\n",
       "      <td>203.55</td>\n",
       "      <td>209.04</td>\n",
       "      <td>202.54</td>\n",
       "      <td>207.82</td>\n",
       "      <td>29437300</td>\n",
       "      <td>MSFT</td>\n",
       "    </tr>\n",
       "    <tr>\n",
       "      <th>2020-09-28</th>\n",
       "      <td>210.88</td>\n",
       "      <td>212.57</td>\n",
       "      <td>208.06</td>\n",
       "      <td>209.44</td>\n",
       "      <td>32004900</td>\n",
       "      <td>MSFT</td>\n",
       "    </tr>\n",
       "    <tr>\n",
       "      <th>2020-09-29</th>\n",
       "      <td>209.35</td>\n",
       "      <td>210.07</td>\n",
       "      <td>206.81</td>\n",
       "      <td>207.26</td>\n",
       "      <td>24221900</td>\n",
       "      <td>MSFT</td>\n",
       "    </tr>\n",
       "    <tr>\n",
       "      <th>2020-09-30</th>\n",
       "      <td>207.73</td>\n",
       "      <td>211.98</td>\n",
       "      <td>206.54</td>\n",
       "      <td>210.33</td>\n",
       "      <td>33780700</td>\n",
       "      <td>MSFT</td>\n",
       "    </tr>\n",
       "    <tr>\n",
       "      <th>2020-10-01</th>\n",
       "      <td>213.49</td>\n",
       "      <td>213.99</td>\n",
       "      <td>211.32</td>\n",
       "      <td>212.46</td>\n",
       "      <td>27158400</td>\n",
       "      <td>MSFT</td>\n",
       "    </tr>\n",
       "  </tbody>\n",
       "</table>\n",
       "</div>"
      ],
      "text/plain": [
       "              Open    High     Low   Close    Volume companies\n",
       "Date                                                          \n",
       "2020-09-25  203.55  209.04  202.54  207.82  29437300      MSFT\n",
       "2020-09-28  210.88  212.57  208.06  209.44  32004900      MSFT\n",
       "2020-09-29  209.35  210.07  206.81  207.26  24221900      MSFT\n",
       "2020-09-30  207.73  211.98  206.54  210.33  33780700      MSFT\n",
       "2020-10-01  213.49  213.99  211.32  212.46  27158400      MSFT"
      ]
     },
     "execution_count": 4,
     "metadata": {},
     "output_type": "execute_result"
    }
   ],
   "source": [
    "msft.tail()"
   ]
  },
  {
   "cell_type": "markdown",
   "metadata": {
    "id": "F4w6PFBO7rWY"
   },
   "source": [
    "##  Concaténer les 3 Dataframes"
   ]
  },
  {
   "cell_type": "markdown",
   "metadata": {},
   "source": [
    "Nous avons 7557 observations et 6 features"
   ]
  },
  {
   "cell_type": "code",
   "execution_count": 5,
   "metadata": {
    "colab": {
     "base_uri": "https://localhost:8080/",
     "height": 235
    },
    "id": "7flUZOCxeM5d",
    "outputId": "66e9ebb6-09c0-4a1b-d906-e4a4baa6f21b"
   },
   "outputs": [
    {
     "name": "stdout",
     "output_type": "stream",
     "text": [
      "(7557, 6)\n"
     ]
    },
    {
     "data": {
      "text/html": [
       "<div>\n",
       "<style scoped>\n",
       "    .dataframe tbody tr th:only-of-type {\n",
       "        vertical-align: middle;\n",
       "    }\n",
       "\n",
       "    .dataframe tbody tr th {\n",
       "        vertical-align: top;\n",
       "    }\n",
       "\n",
       "    .dataframe thead th {\n",
       "        text-align: right;\n",
       "    }\n",
       "</style>\n",
       "<table border=\"1\" class=\"dataframe\">\n",
       "  <thead>\n",
       "    <tr style=\"text-align: right;\">\n",
       "      <th></th>\n",
       "      <th>Open</th>\n",
       "      <th>High</th>\n",
       "      <th>Low</th>\n",
       "      <th>Close</th>\n",
       "      <th>Volume</th>\n",
       "      <th>companies</th>\n",
       "    </tr>\n",
       "    <tr>\n",
       "      <th>Date</th>\n",
       "      <th></th>\n",
       "      <th></th>\n",
       "      <th></th>\n",
       "      <th></th>\n",
       "      <th></th>\n",
       "      <th></th>\n",
       "    </tr>\n",
       "  </thead>\n",
       "  <tbody>\n",
       "    <tr>\n",
       "      <th>2010-09-30</th>\n",
       "      <td>19.50</td>\n",
       "      <td>19.67</td>\n",
       "      <td>19.30</td>\n",
       "      <td>19.40</td>\n",
       "      <td>61262700</td>\n",
       "      <td>MSFT</td>\n",
       "    </tr>\n",
       "    <tr>\n",
       "      <th>2010-10-01</th>\n",
       "      <td>19.62</td>\n",
       "      <td>19.66</td>\n",
       "      <td>19.25</td>\n",
       "      <td>19.32</td>\n",
       "      <td>62672300</td>\n",
       "      <td>MSFT</td>\n",
       "    </tr>\n",
       "    <tr>\n",
       "      <th>2010-10-04</th>\n",
       "      <td>18.98</td>\n",
       "      <td>19.01</td>\n",
       "      <td>18.84</td>\n",
       "      <td>18.94</td>\n",
       "      <td>98143400</td>\n",
       "      <td>MSFT</td>\n",
       "    </tr>\n",
       "    <tr>\n",
       "      <th>2010-10-05</th>\n",
       "      <td>19.06</td>\n",
       "      <td>19.37</td>\n",
       "      <td>18.94</td>\n",
       "      <td>19.29</td>\n",
       "      <td>78152900</td>\n",
       "      <td>MSFT</td>\n",
       "    </tr>\n",
       "    <tr>\n",
       "      <th>2010-10-06</th>\n",
       "      <td>19.27</td>\n",
       "      <td>19.44</td>\n",
       "      <td>19.12</td>\n",
       "      <td>19.36</td>\n",
       "      <td>50489700</td>\n",
       "      <td>MSFT</td>\n",
       "    </tr>\n",
       "  </tbody>\n",
       "</table>\n",
       "</div>"
      ],
      "text/plain": [
       "             Open   High    Low  Close    Volume companies\n",
       "Date                                                      \n",
       "2010-09-30  19.50  19.67  19.30  19.40  61262700      MSFT\n",
       "2010-10-01  19.62  19.66  19.25  19.32  62672300      MSFT\n",
       "2010-10-04  18.98  19.01  18.84  18.94  98143400      MSFT\n",
       "2010-10-05  19.06  19.37  18.94  19.29  78152900      MSFT\n",
       "2010-10-06  19.27  19.44  19.12  19.36  50489700      MSFT"
      ]
     },
     "execution_count": 5,
     "metadata": {},
     "output_type": "execute_result"
    }
   ],
   "source": [
    "company_list = [msft, amzn, goog]\n",
    "    \n",
    "df_concat = pd.concat(company_list, axis=0)\n",
    "print(df_concat.shape)   \n",
    "df_concat.head()"
   ]
  },
  {
   "cell_type": "code",
   "execution_count": 6,
   "metadata": {
    "colab": {
     "base_uri": "https://localhost:8080/",
     "height": 34
    },
    "id": "h-awC1pseryd",
    "outputId": "afd9fa95-72e5-48c2-936c-d4f2b510b60a"
   },
   "outputs": [
    {
     "data": {
      "text/plain": [
       "array(['MSFT', 'AMZN', 'GOOG'], dtype=object)"
      ]
     },
     "execution_count": 6,
     "metadata": {},
     "output_type": "execute_result"
    }
   ],
   "source": [
    "df_concat.companies.unique()"
   ]
  },
  {
   "cell_type": "code",
   "execution_count": 7,
   "metadata": {},
   "outputs": [],
   "source": [
    "df_concat.to_csv(\"data_stockprice.csv\")"
   ]
  },
  {
   "cell_type": "markdown",
   "metadata": {
    "id": "5vVQaBwi7c1p"
   },
   "source": [
    "## Split data "
   ]
  },
  {
   "cell_type": "markdown",
   "metadata": {},
   "source": [
    "1. Nous choisissons uniquement closing prices puis nous les convertissons en un array. \n",
    "\n",
    "2. Split des données training dataset(80%) et test \n",
    "\n",
    "3. Nous utilisons MinMaxScaler pour avoir des valeurs comprises entre 0 et 1.  \n",
    "\n",
    "4. Créons un data training composé des 60 derniers jours, que nous utiliserons à la fin  pour prédire la valeur du prix de clôture 61e.\n",
    "5. Reshape les données pour qu’elles soient tridimensionnelles afin de les mettre dans le modèle LSTM"
   ]
  },
  {
   "cell_type": "code",
   "execution_count": 8,
   "metadata": {
    "id": "hJ27ZggaiZl4"
   },
   "outputs": [],
   "source": [
    "def split_data(df, symbol):\n",
    "    data = df.filter(['Close']).loc[df['companies']== symbol]\n",
    "    dataset = data.values.reshape(-1, 1)\n",
    "    training_data_len = int(np.ceil(len(dataset) * .8 ))\n",
    "    print(f'Longueur du data: {training_data_len}')\n",
    "    print('================================================')\n",
    "    scaler = MinMaxScaler(feature_range=(0,1))\n",
    "    scaled_data= scaler.fit_transform(dataset)\n",
    "    train_data = scaled_data[0:int(training_data_len), :]\n",
    "    x_train = []\n",
    "    y_train = []\n",
    "    for i in range(60, len(train_data)):\n",
    "        x_train.append(train_data[i-60:i, 0])\n",
    "        y_train.append(train_data[i, 0])\n",
    "\n",
    "    x_train, y_train = np.array(x_train), np.array(y_train)\n",
    "    x_train = np.reshape(x_train, (x_train.shape[0], x_train.shape[1], 1))\n",
    "\n",
    "    test_data = scaled_data[training_data_len - 60: , :]\n",
    "    x_test = []\n",
    "    y_test = dataset[training_data_len:, :]\n",
    "    for i in range(60, len(test_data)):\n",
    "        x_test.append(test_data[i-60:i, 0])\n",
    "    x_test = np.array(x_test)\n",
    "    x_test = np.reshape(x_test, (x_test.shape[0], x_test.shape[1], 1 ))\n",
    "    return x_train, y_train, x_test, y_test, scaler, data, dataset, training_data_len"
   ]
  },
  {
   "cell_type": "markdown",
   "metadata": {
    "id": "tnvNIaMe7gAG"
   },
   "source": [
    "## Construction de modèle LSTM "
   ]
  },
  {
   "cell_type": "markdown",
   "metadata": {},
   "source": [
    "1. **ModelCheckpoint** va enregistrer les poids des modèles à la fin de chaque époque\n",
    "2. **CSVLogger** va sauvegarder nos RMSE\n",
    "3. Splittons une partie des données tranining en validation\n",
    "4. plot history RMSE\n",
    "5. VIsualization des valeurs actuelles vs Prédictions\n"
   ]
  },
  {
   "cell_type": "code",
   "execution_count": 9,
   "metadata": {
    "id": "RU5vv4AfmwUv"
   },
   "outputs": [],
   "source": [
    "def algo_lstm(x_train, y_train, x_test, y_test, scaler, symbol):\n",
    "    x_train, y_train, x_test, y_test, scaler, data, dataset, training_data_len = split_data(df_concat, \"MSFT\")\n",
    "    model = Sequential()\n",
    "    model.add(LSTM(50, return_sequences=True, input_shape= (x_train.shape[1], 1)))\n",
    "    model.add(LSTM(50, return_sequences= False))\n",
    "    model.add(Dense(25))\n",
    "    model.add(Dense(1))\n",
    "    checkpointer = ModelCheckpoint(filepath=f\"{symbol}_model.h5\", verbose=1, save_best_only=True)\n",
    "    csv_logger = CSVLogger(f\"{symbol}_history_loss.log\")\n",
    "    callbacks=[csv_logger, checkpointer]\n",
    "    model.compile(optimizer='adam', loss='mean_squared_error')\n",
    "    \n",
    "    history=model.fit(x_train, y_train, batch_size=16, epochs=30, validation_split=0.1, callbacks=[callbacks])\n",
    "\n",
    "    plt.plot(history.history['loss'])\n",
    "    plt.plot(history.history['val_loss'])\n",
    "    plt.title('model loss')\n",
    "    plt.ylabel('loss')\n",
    "    plt.xlabel('epoch')\n",
    "    plt.legend(['train', 'val'], loc='upper left')\n",
    "    plt.show()\n",
    "    \n",
    "    \n",
    "    # predictions\n",
    "    predictions = model.predict(x_test)\n",
    "    predictions = scaler.inverse_transform(predictions)\n",
    "    \n",
    "    rmse = np.sqrt(np.mean(((predictions - y_test) ** 2)))\n",
    "    print('================================================')\n",
    "    print(f'RMSE: {rmse}')\n",
    "    print('================================================')\n",
    "    train = data[:training_data_len]\n",
    "    valid = data[training_data_len:]\n",
    "    valid['Predictions'] = predictions\n",
    "\n",
    "    plt.figure(figsize=(16,8))\n",
    "    plt.title('Prédictions vs. valeurs réelles')\n",
    "    plt.xlabel('Date', fontsize=18)\n",
    "    plt.ylabel('Close USD ($)', fontsize=18)\n",
    "    plt.plot(train['Close'])\n",
    "    plt.plot(valid[['Close', 'Predictions']])\n",
    "    plt.legend(['Train', 'Valeurs actuelles', 'Prédictions'], loc='lower right')\n",
    "    plt.show()\n",
    "    print('================================================')\n",
    "    print(valid)\n",
    "    #notify.send('It\\'s done!')\n",
    "    return model, predictions, valid\n",
    "\n"
   ]
  },
  {
   "cell_type": "markdown",
   "metadata": {
    "id": "82WLld5g1wcp"
   },
   "source": [
    "# LSTM Microsft"
   ]
  },
  {
   "cell_type": "code",
   "execution_count": 10,
   "metadata": {
    "colab": {
     "base_uri": "https://localhost:8080/",
     "height": 51
    },
    "id": "riO5snL5oiz_",
    "outputId": "96aa422c-e24a-4655-af02-b99dd32c92e8"
   },
   "outputs": [
    {
     "name": "stdout",
     "output_type": "stream",
     "text": [
      "Longueur du data: 2016\n",
      "================================================\n"
     ]
    }
   ],
   "source": [
    " x_train, y_train, x_test, y_test, scaler, data, dataset, training_data_len = split_data(df_concat, \"MSFT\")"
   ]
  },
  {
   "cell_type": "code",
   "execution_count": 11,
   "metadata": {
    "colab": {
     "base_uri": "https://localhost:8080/",
     "height": 1000
    },
    "id": "4nkyHq_B0Xd4",
    "outputId": "76e5aad9-c290-4024-d501-e69502cbc2d2"
   },
   "outputs": [
    {
     "name": "stdout",
     "output_type": "stream",
     "text": [
      "Longueur du data: 2016\n",
      "================================================\n",
      "Epoch 1/30\n",
      "109/110 [============================>.] - ETA: 0s - loss: 5.4810e-04\n",
      "Epoch 00001: val_loss improved from inf to 0.00012, saving model to MSFT_model.h5\n",
      "110/110 [==============================] - 5s 49ms/step - loss: 5.4327e-04 - val_loss: 1.2354e-04\n",
      "Epoch 2/30\n",
      "110/110 [==============================] - ETA: 0s - loss: 3.1496e-05\n",
      "Epoch 00002: val_loss improved from 0.00012 to 0.00009, saving model to MSFT_model.h5\n",
      "110/110 [==============================] - 5s 50ms/step - loss: 3.1496e-05 - val_loss: 9.2654e-05\n",
      "Epoch 3/30\n",
      "110/110 [==============================] - ETA: 0s - loss: 3.3460e-05\n",
      "Epoch 00003: val_loss did not improve from 0.00009\n",
      "110/110 [==============================] - 5s 44ms/step - loss: 3.3460e-05 - val_loss: 5.1605e-04\n",
      "Epoch 4/30\n",
      "109/110 [============================>.] - ETA: 0s - loss: 3.2596e-05\n",
      "Epoch 00004: val_loss did not improve from 0.00009\n",
      "110/110 [==============================] - 4s 37ms/step - loss: 3.2418e-05 - val_loss: 1.0084e-04\n",
      "Epoch 5/30\n",
      "110/110 [==============================] - ETA: 0s - loss: 3.2165e-05\n",
      "Epoch 00005: val_loss did not improve from 0.00009\n",
      "110/110 [==============================] - 5s 47ms/step - loss: 3.2165e-05 - val_loss: 9.2963e-05\n",
      "Epoch 6/30\n",
      "110/110 [==============================] - ETA: 0s - loss: 2.8669e-05\n",
      "Epoch 00006: val_loss did not improve from 0.00009\n",
      "110/110 [==============================] - 7s 59ms/step - loss: 2.8669e-05 - val_loss: 1.0354e-04\n",
      "Epoch 7/30\n",
      "109/110 [============================>.] - ETA: 0s - loss: 3.3816e-05\n",
      "Epoch 00007: val_loss improved from 0.00009 to 0.00009, saving model to MSFT_model.h5\n",
      "110/110 [==============================] - 6s 51ms/step - loss: 3.3739e-05 - val_loss: 8.5780e-05\n",
      "Epoch 8/30\n",
      "110/110 [==============================] - ETA: 0s - loss: 2.9297e-05\n",
      "Epoch 00008: val_loss did not improve from 0.00009\n",
      "110/110 [==============================] - 5s 49ms/step - loss: 2.9297e-05 - val_loss: 2.1281e-04\n",
      "Epoch 9/30\n",
      "110/110 [==============================] - ETA: 0s - loss: 2.9541e-05\n",
      "Epoch 00009: val_loss did not improve from 0.00009\n",
      "110/110 [==============================] - 7s 62ms/step - loss: 2.9541e-05 - val_loss: 2.5064e-04\n",
      "Epoch 10/30\n",
      "110/110 [==============================] - ETA: 0s - loss: 3.1307e-05\n",
      "Epoch 00010: val_loss improved from 0.00009 to 0.00008, saving model to MSFT_model.h5\n",
      "110/110 [==============================] - 5s 46ms/step - loss: 3.1307e-05 - val_loss: 8.0599e-05\n",
      "Epoch 11/30\n",
      "110/110 [==============================] - ETA: 0s - loss: 2.8930e-05\n",
      "Epoch 00011: val_loss did not improve from 0.00008\n",
      "110/110 [==============================] - 7s 68ms/step - loss: 2.8930e-05 - val_loss: 2.1667e-04\n",
      "Epoch 12/30\n",
      "109/110 [============================>.] - ETA: 0s - loss: 2.7194e-05\n",
      "Epoch 00012: val_loss did not improve from 0.00008\n",
      "110/110 [==============================] - 7s 62ms/step - loss: 2.7432e-05 - val_loss: 1.7509e-04\n",
      "Epoch 13/30\n",
      "109/110 [============================>.] - ETA: 0s - loss: 2.6812e-05\n",
      "Epoch 00013: val_loss did not improve from 0.00008\n",
      "110/110 [==============================] - 5s 47ms/step - loss: 2.6748e-05 - val_loss: 9.7477e-05\n",
      "Epoch 14/30\n",
      "110/110 [==============================] - ETA: 0s - loss: 2.4073e-05\n",
      "Epoch 00014: val_loss improved from 0.00008 to 0.00007, saving model to MSFT_model.h5\n",
      "110/110 [==============================] - 7s 66ms/step - loss: 2.4073e-05 - val_loss: 7.2882e-05\n",
      "Epoch 15/30\n",
      "110/110 [==============================] - ETA: 0s - loss: 2.3059e-05\n",
      "Epoch 00015: val_loss improved from 0.00007 to 0.00007, saving model to MSFT_model.h5\n",
      "110/110 [==============================] - 8s 72ms/step - loss: 2.3059e-05 - val_loss: 7.2442e-05\n",
      "Epoch 16/30\n",
      "110/110 [==============================] - ETA: 0s - loss: 2.5677e-05\n",
      "Epoch 00016: val_loss did not improve from 0.00007\n",
      "110/110 [==============================] - 6s 56ms/step - loss: 2.5677e-05 - val_loss: 8.6522e-05\n",
      "Epoch 17/30\n",
      "110/110 [==============================] - ETA: 0s - loss: 2.3736e-05\n",
      "Epoch 00017: val_loss did not improve from 0.00007\n",
      "110/110 [==============================] - 7s 59ms/step - loss: 2.3736e-05 - val_loss: 2.7553e-04\n",
      "Epoch 18/30\n",
      "110/110 [==============================] - ETA: 0s - loss: 2.3276e-05\n",
      "Epoch 00018: val_loss improved from 0.00007 to 0.00007, saving model to MSFT_model.h5\n",
      "110/110 [==============================] - 6s 54ms/step - loss: 2.3276e-05 - val_loss: 7.0366e-05\n",
      "Epoch 19/30\n",
      "110/110 [==============================] - ETA: 0s - loss: 2.7900e-05\n",
      "Epoch 00019: val_loss did not improve from 0.00007\n",
      "110/110 [==============================] - 6s 50ms/step - loss: 2.7900e-05 - val_loss: 8.0041e-05\n",
      "Epoch 20/30\n",
      "110/110 [==============================] - ETA: 0s - loss: 2.2134e-05\n",
      "Epoch 00020: val_loss did not improve from 0.00007\n",
      "110/110 [==============================] - 4s 40ms/step - loss: 2.2134e-05 - val_loss: 1.3752e-04\n",
      "Epoch 21/30\n",
      "110/110 [==============================] - ETA: 0s - loss: 1.8028e-05\n",
      "Epoch 00021: val_loss did not improve from 0.00007\n",
      "110/110 [==============================] - 7s 65ms/step - loss: 1.8028e-05 - val_loss: 9.1502e-05\n",
      "Epoch 22/30\n",
      "110/110 [==============================] - ETA: 0s - loss: 1.8095e-05- ETA: 1s - los\n",
      "Epoch 00022: val_loss improved from 0.00007 to 0.00006, saving model to MSFT_model.h5\n",
      "110/110 [==============================] - 6s 54ms/step - loss: 1.8095e-05 - val_loss: 6.2091e-05\n",
      "Epoch 23/30\n",
      "109/110 [============================>.] - ETA: 0s - loss: 1.9009e-05\n",
      "Epoch 00023: val_loss did not improve from 0.00006\n",
      "110/110 [==============================] - 6s 58ms/step - loss: 1.9184e-05 - val_loss: 8.4126e-05\n",
      "Epoch 24/30\n",
      "110/110 [==============================] - ETA: 0s - loss: 2.9497e-05\n",
      "Epoch 00024: val_loss improved from 0.00006 to 0.00006, saving model to MSFT_model.h5\n",
      "110/110 [==============================] - 7s 61ms/step - loss: 2.9497e-05 - val_loss: 5.8377e-05\n",
      "Epoch 25/30\n",
      "110/110 [==============================] - ETA: 0s - loss: 1.7599e-05\n",
      "Epoch 00025: val_loss did not improve from 0.00006\n",
      "110/110 [==============================] - 7s 61ms/step - loss: 1.7599e-05 - val_loss: 6.5119e-05\n",
      "Epoch 26/30\n",
      "109/110 [============================>.] - ETA: 0s - loss: 1.9800e-05\n",
      "Epoch 00026: val_loss did not improve from 0.00006\n",
      "110/110 [==============================] - 6s 58ms/step - loss: 1.9743e-05 - val_loss: 8.8820e-05\n",
      "Epoch 27/30\n",
      "110/110 [==============================] - ETA: 0s - loss: 1.7616e-05\n",
      "Epoch 00027: val_loss did not improve from 0.00006\n",
      "110/110 [==============================] - 7s 61ms/step - loss: 1.7616e-05 - val_loss: 7.1428e-05\n",
      "Epoch 28/30\n",
      "110/110 [==============================] - ETA: 0s - loss: 1.8304e-05\n",
      "Epoch 00028: val_loss improved from 0.00006 to 0.00005, saving model to MSFT_model.h5\n",
      "110/110 [==============================] - 7s 64ms/step - loss: 1.8304e-05 - val_loss: 5.0884e-05\n",
      "Epoch 29/30\n",
      "110/110 [==============================] - ETA: 0s - loss: 2.0250e-05\n",
      "Epoch 00029: val_loss improved from 0.00005 to 0.00005, saving model to MSFT_model.h5\n",
      "110/110 [==============================] - 8s 71ms/step - loss: 2.0250e-05 - val_loss: 4.9165e-05\n",
      "Epoch 30/30\n",
      "110/110 [==============================] - ETA: 0s - loss: 1.5586e-05\n",
      "Epoch 00030: val_loss improved from 0.00005 to 0.00005, saving model to MSFT_model.h5\n",
      "110/110 [==============================] - 7s 66ms/step - loss: 1.5586e-05 - val_loss: 4.7977e-05\n"
     ]
    },
    {
     "data": {
      "image/png": "[encoded data removed]",
      "text/plain": [
       "<Figure size 432x288 with 1 Axes>"
      ]
     },
     "metadata": {
      "needs_background": "light"
     },
     "output_type": "display_data"
    },
    {
     "name": "stdout",
     "output_type": "stream",
     "text": [
      "================================================\n",
      "RMSE: 3.5080849450759444\n",
      "================================================\n"
     ]
    },
    {
     "name": "stderr",
     "output_type": "stream",
     "text": [
      "C:\\Users\\utilisateur\\Anaconda3\\lib\\site-packages\\ipykernel_launcher.py:34: SettingWithCopyWarning: \n",
      "A value is trying to be set on a copy of a slice from a DataFrame.\n",
      "Try using .loc[row_indexer,col_indexer] = value instead\n",
      "\n",
      "See the caveats in the documentation: https://pandas.pydata.org/pandas-docs/stable/user_guide/indexing.html#returning-a-view-versus-a-copy\n"
     ]
    },
    {
     "data": {
      "image/png": "[encoded data removed]",
      "text/plain": [
       "<Figure size 1152x576 with 1 Axes>"
      ]
     },
     "metadata": {
      "needs_background": "light"
     },
     "output_type": "display_data"
    },
    {
     "name": "stdout",
     "output_type": "stream",
     "text": [
      "================================================\n",
      "             Close  Predictions\n",
      "Date                           \n",
      "2018-10-03  112.11   112.286964\n",
      "2018-10-04  109.80   112.430779\n",
      "2018-10-05  109.15   111.770233\n",
      "2018-10-08  107.91   110.828697\n",
      "2018-10-09  109.28   109.685844\n",
      "...            ...          ...\n",
      "2020-09-25  207.82   204.603165\n",
      "2020-09-28  209.44   206.178818\n",
      "2020-09-29  207.26   208.342239\n",
      "2020-09-30  210.33   209.204559\n",
      "2020-10-01  212.46   210.410675\n",
      "\n",
      "[503 rows x 2 columns]\n"
     ]
    }
   ],
   "source": [
    "model, predictions, valid_msft = algo_lstm(x_train, y_train, x_test, y_test, scaler, \"MSFT\")"
   ]
  },
  {
   "cell_type": "code",
   "execution_count": 19,
   "metadata": {},
   "outputs": [],
   "source": [
    "valid_msft = valid_msft.reset_index('Date')"
   ]
  },
  {
   "cell_type": "code",
   "execution_count": 20,
   "metadata": {},
   "outputs": [],
   "source": [
    "y_true = valid_msft[\"Close\"]\n",
    "y_pred = valid_msft[\"Predictions\"]"
   ]
  },
  {
   "cell_type": "code",
   "execution_count": 21,
   "metadata": {},
   "outputs": [
    {
     "data": {
      "text/plain": [
       "0      112.11\n",
       "1      109.80\n",
       "2      109.15\n",
       "3      107.91\n",
       "4      109.28\n",
       "        ...  \n",
       "498    207.82\n",
       "499    209.44\n",
       "500    207.26\n",
       "501    210.33\n",
       "502    212.46\n",
       "Name: Close, Length: 503, dtype: float64"
      ]
     },
     "execution_count": 21,
     "metadata": {},
     "output_type": "execute_result"
    }
   ],
   "source": [
    "y_true"
   ]
  },
  {
   "cell_type": "code",
   "execution_count": 26,
   "metadata": {},
   "outputs": [],
   "source": [
    "y_pred = np.array(y_pred)"
   ]
  },
  {
   "cell_type": "code",
   "execution_count": 32,
   "metadata": {},
   "outputs": [],
   "source": [
    "y_pred = y_pred.reshape(-1, 1)"
   ]
  },
  {
   "cell_type": "code",
   "execution_count": 30,
   "metadata": {},
   "outputs": [
    {
     "data": {
      "text/plain": [
       "(503,)"
      ]
     },
     "execution_count": 30,
     "metadata": {},
     "output_type": "execute_result"
    }
   ],
   "source": [
    "y_true.shape\n"
   ]
  },
  {
   "cell_type": "code",
   "execution_count": 34,
   "metadata": {},
   "outputs": [
    {
     "data": {
      "text/plain": [
       "(503, 1)"
      ]
     },
     "execution_count": 34,
     "metadata": {},
     "output_type": "execute_result"
    }
   ],
   "source": [
    "y_pred.shape"
   ]
  },
  {
   "cell_type": "code",
   "execution_count": 35,
   "metadata": {},
   "outputs": [
    {
     "ename": "ValueError",
     "evalue": "continuous is not supported",
     "output_type": "error",
     "traceback": [
      "\u001b[1;31m---------------------------------------------------------------------------\u001b[0m",
      "\u001b[1;31mValueError\u001b[0m                                Traceback (most recent call last)",
      "\u001b[1;32m<ipython-input-35-1a5d7236d395>\u001b[0m in \u001b[0;36m<module>\u001b[1;34m\u001b[0m\n\u001b[1;32m----> 1\u001b[1;33m \u001b[0mconfusion_matrix\u001b[0m\u001b[1;33m(\u001b[0m\u001b[0my_true\u001b[0m\u001b[1;33m,\u001b[0m \u001b[0my_pred\u001b[0m\u001b[1;33m)\u001b[0m\u001b[1;33m\u001b[0m\u001b[1;33m\u001b[0m\u001b[0m\n\u001b[0m",
      "\u001b[1;32m~\\Anaconda3\\lib\\site-packages\\sklearn\\utils\\validation.py\u001b[0m in \u001b[0;36minner_f\u001b[1;34m(*args, **kwargs)\u001b[0m\n\u001b[0;32m     71\u001b[0m                           FutureWarning)\n\u001b[0;32m     72\u001b[0m         \u001b[0mkwargs\u001b[0m\u001b[1;33m.\u001b[0m\u001b[0mupdate\u001b[0m\u001b[1;33m(\u001b[0m\u001b[1;33m{\u001b[0m\u001b[0mk\u001b[0m\u001b[1;33m:\u001b[0m \u001b[0marg\u001b[0m \u001b[1;32mfor\u001b[0m \u001b[0mk\u001b[0m\u001b[1;33m,\u001b[0m \u001b[0marg\u001b[0m \u001b[1;32min\u001b[0m \u001b[0mzip\u001b[0m\u001b[1;33m(\u001b[0m\u001b[0msig\u001b[0m\u001b[1;33m.\u001b[0m\u001b[0mparameters\u001b[0m\u001b[1;33m,\u001b[0m \u001b[0margs\u001b[0m\u001b[1;33m)\u001b[0m\u001b[1;33m}\u001b[0m\u001b[1;33m)\u001b[0m\u001b[1;33m\u001b[0m\u001b[1;33m\u001b[0m\u001b[0m\n\u001b[1;32m---> 73\u001b[1;33m         \u001b[1;32mreturn\u001b[0m \u001b[0mf\u001b[0m\u001b[1;33m(\u001b[0m\u001b[1;33m**\u001b[0m\u001b[0mkwargs\u001b[0m\u001b[1;33m)\u001b[0m\u001b[1;33m\u001b[0m\u001b[1;33m\u001b[0m\u001b[0m\n\u001b[0m\u001b[0;32m     74\u001b[0m     \u001b[1;32mreturn\u001b[0m \u001b[0minner_f\u001b[0m\u001b[1;33m\u001b[0m\u001b[1;33m\u001b[0m\u001b[0m\n\u001b[0;32m     75\u001b[0m \u001b[1;33m\u001b[0m\u001b[0m\n",
      "\u001b[1;32m~\\Anaconda3\\lib\\site-packages\\sklearn\\metrics\\_classification.py\u001b[0m in \u001b[0;36mconfusion_matrix\u001b[1;34m(y_true, y_pred, labels, sample_weight, normalize)\u001b[0m\n\u001b[0;32m    274\u001b[0m \u001b[1;33m\u001b[0m\u001b[0m\n\u001b[0;32m    275\u001b[0m     \"\"\"\n\u001b[1;32m--> 276\u001b[1;33m     \u001b[0my_type\u001b[0m\u001b[1;33m,\u001b[0m \u001b[0my_true\u001b[0m\u001b[1;33m,\u001b[0m \u001b[0my_pred\u001b[0m \u001b[1;33m=\u001b[0m \u001b[0m_check_targets\u001b[0m\u001b[1;33m(\u001b[0m\u001b[0my_true\u001b[0m\u001b[1;33m,\u001b[0m \u001b[0my_pred\u001b[0m\u001b[1;33m)\u001b[0m\u001b[1;33m\u001b[0m\u001b[1;33m\u001b[0m\u001b[0m\n\u001b[0m\u001b[0;32m    277\u001b[0m     \u001b[1;32mif\u001b[0m \u001b[0my_type\u001b[0m \u001b[1;32mnot\u001b[0m \u001b[1;32min\u001b[0m \u001b[1;33m(\u001b[0m\u001b[1;34m\"binary\"\u001b[0m\u001b[1;33m,\u001b[0m \u001b[1;34m\"multiclass\"\u001b[0m\u001b[1;33m)\u001b[0m\u001b[1;33m:\u001b[0m\u001b[1;33m\u001b[0m\u001b[1;33m\u001b[0m\u001b[0m\n\u001b[0;32m    278\u001b[0m         \u001b[1;32mraise\u001b[0m \u001b[0mValueError\u001b[0m\u001b[1;33m(\u001b[0m\u001b[1;34m\"%s is not supported\"\u001b[0m \u001b[1;33m%\u001b[0m \u001b[0my_type\u001b[0m\u001b[1;33m)\u001b[0m\u001b[1;33m\u001b[0m\u001b[1;33m\u001b[0m\u001b[0m\n",
      "\u001b[1;32m~\\Anaconda3\\lib\\site-packages\\sklearn\\metrics\\_classification.py\u001b[0m in \u001b[0;36m_check_targets\u001b[1;34m(y_true, y_pred)\u001b[0m\n\u001b[0;32m     96\u001b[0m     \u001b[1;31m# No metrics support \"multiclass-multioutput\" format\u001b[0m\u001b[1;33m\u001b[0m\u001b[1;33m\u001b[0m\u001b[1;33m\u001b[0m\u001b[0m\n\u001b[0;32m     97\u001b[0m     \u001b[1;32mif\u001b[0m \u001b[1;33m(\u001b[0m\u001b[0my_type\u001b[0m \u001b[1;32mnot\u001b[0m \u001b[1;32min\u001b[0m \u001b[1;33m[\u001b[0m\u001b[1;34m\"binary\"\u001b[0m\u001b[1;33m,\u001b[0m \u001b[1;34m\"multiclass\"\u001b[0m\u001b[1;33m,\u001b[0m \u001b[1;34m\"multilabel-indicator\"\u001b[0m\u001b[1;33m]\u001b[0m\u001b[1;33m)\u001b[0m\u001b[1;33m:\u001b[0m\u001b[1;33m\u001b[0m\u001b[1;33m\u001b[0m\u001b[0m\n\u001b[1;32m---> 98\u001b[1;33m         \u001b[1;32mraise\u001b[0m \u001b[0mValueError\u001b[0m\u001b[1;33m(\u001b[0m\u001b[1;34m\"{0} is not supported\"\u001b[0m\u001b[1;33m.\u001b[0m\u001b[0mformat\u001b[0m\u001b[1;33m(\u001b[0m\u001b[0my_type\u001b[0m\u001b[1;33m)\u001b[0m\u001b[1;33m)\u001b[0m\u001b[1;33m\u001b[0m\u001b[1;33m\u001b[0m\u001b[0m\n\u001b[0m\u001b[0;32m     99\u001b[0m \u001b[1;33m\u001b[0m\u001b[0m\n\u001b[0;32m    100\u001b[0m     \u001b[1;32mif\u001b[0m \u001b[0my_type\u001b[0m \u001b[1;32min\u001b[0m \u001b[1;33m[\u001b[0m\u001b[1;34m\"binary\"\u001b[0m\u001b[1;33m,\u001b[0m \u001b[1;34m\"multiclass\"\u001b[0m\u001b[1;33m]\u001b[0m\u001b[1;33m:\u001b[0m\u001b[1;33m\u001b[0m\u001b[1;33m\u001b[0m\u001b[0m\n",
      "\u001b[1;31mValueError\u001b[0m: continuous is not supported"
     ]
    }
   ],
   "source": [
    "confusion_matrix(y_true, y_pred)"
   ]
  },
  {
   "cell_type": "markdown",
   "metadata": {},
   "source": [
    "## Evaluation"
   ]
  },
  {
   "cell_type": "code",
   "execution_count": null,
   "metadata": {},
   "outputs": [],
   "source": [
    "def evalution(model):\n",
    "    \n",
    "    model.fit(X_train, y_train)\n",
    "    y_pred = model.predict(X_test)\n",
    "    \n",
    "    print(confusion_matrix(y_test, y_pred))\n",
    "    print(classification_report(y_test, y_pred))\n",
    "    \n",
    "    N, train_score, val_score = learning_curve(model, X_train, y_train, \n",
    "                                               cv=4, scoring = 'f1', \n",
    "                                               train_sizes=np.linspace(0.1, 1, 20))\n",
    "    plt.figure(figsize=(12, 8))\n",
    "    plt.plot(N, train_score.mean(axis=1), label = 'train score')\n",
    "    plt.plot(N, val_score.mean(axis=1), label = 'validation score')\n",
    "    "
   ]
  },
  {
   "cell_type": "code",
   "execution_count": null,
   "metadata": {},
   "outputs": [],
   "source": [
    "y_test = np.array(valid_msft[\"Close\"])\n",
    "y_pred =  np.array(valid_msft[\"Predictions\"])"
   ]
  },
  {
   "cell_type": "code",
   "execution_count": null,
   "metadata": {},
   "outputs": [],
   "source": [
    "classification_report(y_test, y_true)"
   ]
  },
  {
   "cell_type": "code",
   "execution_count": null,
   "metadata": {},
   "outputs": [],
   "source": []
  },
  {
   "cell_type": "markdown",
   "metadata": {
    "id": "70Qf4sJr141_"
   },
   "source": [
    "# LSTM Google "
   ]
  },
  {
   "cell_type": "code",
   "execution_count": null,
   "metadata": {
    "colab": {
     "base_uri": "https://localhost:8080/",
     "height": 1000
    },
    "id": "3bSD20A81CWF",
    "outputId": "0bf65a4f-d91c-4573-fa4c-0f3858342cad"
   },
   "outputs": [],
   "source": [
    "x_train, y_train, x_test, y_test, scaler, data, dataset, training_data_len = split_data(df_concat, \"GOOG\")\n",
    "model, valid_goog = algo_lstm(x_train, y_train, x_test, y_test, scaler, \"GOOG\")"
   ]
  },
  {
   "cell_type": "markdown",
   "metadata": {
    "id": "FlfkO-Sp3j7X"
   },
   "source": [
    "# LSTM Amazon"
   ]
  },
  {
   "cell_type": "code",
   "execution_count": null,
   "metadata": {
    "colab": {
     "base_uri": "https://localhost:8080/",
     "height": 1000
    },
    "id": "4_ZsdMGa3oUa",
    "outputId": "0b35a718-7b58-4bc1-cd16-02ca2be40dac"
   },
   "outputs": [],
   "source": [
    "x_train, y_train, x_test, y_test, scaler, data, dataset, training_data_len = split_data(df_concat, \"AMZN\")\n",
    "model, valid_amzn = algo_lstm(x_train, y_train, x_test, y_test, scaler, \"AMZN\")"
   ]
  },
  {
   "cell_type": "markdown",
   "metadata": {
    "id": "BlCGHlhw4M4M"
   },
   "source": [
    "# Pridction du Prix du lendemain (le 29/09/2020)"
   ]
  },
  {
   "cell_type": "code",
   "execution_count": null,
   "metadata": {
    "id": "OHN_UUBYDFub"
   },
   "outputs": [],
   "source": [
    "def predict_price(symbol):\n",
    "    tickerData = yf.Ticker(symbol)\n",
    "    df = tickerData.history(period='1d', start='2010-10-1', end=\"2020-10-2\")\n",
    "    new_df = df.filter(['Close'])\n",
    "    last_60_days = new_df[-60:].values\n",
    "    scaler =  MinMaxScaler()\n",
    "\n",
    "    last_60_days_scaled = scaler.fit_transform(last_60_days)\n",
    "    X_test = []\n",
    "    X_test.append(last_60_days_scaled)\n",
    "    X_test = np.array(X_test)\n",
    "    X_test = np.reshape(X_test, (X_test.shape[0], X_test.shape[1], 1))\n",
    "    pred_price = model.predict(X_test)\n",
    "    pred_price = scaler.inverse_transform(pred_price)\n",
    "    print(f'Prix prédit: {pred_price}')\n",
    "\n",
    "    actual_price = tickerData.history(period='1d', start=\"2020-10-1\", end=\"2020-10-2\")\n",
    "    actual_price = actual_price.Close.values\n",
    "    actual_price = np.array(actual_price)\n",
    "    print(f'Prix réel: {actual_price}')\n",
    "    return pred_price, actual_price"
   ]
  },
  {
   "cell_type": "code",
   "execution_count": null,
   "metadata": {
    "colab": {
     "base_uri": "https://localhost:8080/",
     "height": 68
    },
    "id": "IOv1D1jiE0ei",
    "outputId": "60070908-eb85-4d5c-c5d5-b15b2ac54d24"
   },
   "outputs": [],
   "source": [
    "predict_price(\"MSFT\")"
   ]
  },
  {
   "cell_type": "code",
   "execution_count": null,
   "metadata": {
    "colab": {
     "base_uri": "https://localhost:8080/",
     "height": 68
    },
    "id": "N4-rvCpM5PKS",
    "outputId": "b212367e-75b6-4cec-d54f-37aaf338a0ce"
   },
   "outputs": [],
   "source": [
    "predict_price(\"AMZN\")"
   ]
  },
  {
   "cell_type": "code",
   "execution_count": null,
   "metadata": {
    "colab": {
     "base_uri": "https://localhost:8080/",
     "height": 68
    },
    "id": "v_5-2pE96A12",
    "outputId": "71cb1bde-c763-4830-b231-4a9df09418f0"
   },
   "outputs": [],
   "source": [
    "predict_price(\"GOOG\")"
   ]
  }
 ],
 "metadata": {
  "accelerator": "GPU",
  "colab": {
   "collapsed_sections": [],
   "name": "Modèle_Corrigé.ipynb",
   "provenance": []
  },
  "hide_input": false,
  "kernelspec": {
   "display_name": "Python 3",
   "language": "python",
   "name": "python3"
  },
  "language_info": {
   "codemirror_mode": {
    "name": "ipython",
    "version": 3
   },
   "file_extension": ".py",
   "mimetype": "text/x-python",
   "name": "python",
   "nbconvert_exporter": "python",
   "pygments_lexer": "ipython3",
   "version": "3.7.7"
  },
  "toc": {
   "base_numbering": 1,
   "nav_menu": {},
   "number_sections": true,
   "sideBar": true,
   "skip_h1_title": false,
   "title_cell": "Table of Contents",
   "title_sidebar": "Contents",
   "toc_cell": false,
   "toc_position": {},
   "toc_section_display": true,
   "toc_window_display": false
  },
  "varInspector": {
   "cols": {
    "lenName": 16,
    "lenType": 16,
    "lenVar": 40
   },
   "kernels_config": {
    "python": {
     "delete_cmd_postfix": "",
     "delete_cmd_prefix": "del ",
     "library": "var_list.py",
     "varRefreshCmd": "print(var_dic_list())"
    },
    "r": {
     "delete_cmd_postfix": ") ",
     "delete_cmd_prefix": "rm(",
     "library": "var_list.r",
     "varRefreshCmd": "cat(var_dic_list()) "
    }
   },
   "types_to_exclude": [
    "module",
    "function",
    "builtin_function_or_method",
    "instance",
    "_Feature"
   ],
   "window_display": false
  }
 },
 "nbformat": 4,
 "nbformat_minor": 1
}
