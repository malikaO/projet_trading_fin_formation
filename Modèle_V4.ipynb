{
 "cells": [
  {
   "cell_type": "markdown",
   "metadata": {
    "id": "VEoCceBLDFjQ"
   },
   "source": [
    "## Modèle"
   ]
  },
  {
   "cell_type": "code",
   "execution_count": 1,
   "metadata": {
    "colab": {
     "base_uri": "https://localhost:8080/",
     "height": 241
    },
    "id": "-6AO--q-ailj",
    "outputId": "de3812b0-4cc6-4e21-a5d5-b0927497c4b4"
   },
   "outputs": [
    {
     "name": "stdout",
     "output_type": "stream",
     "text": [
      "Requirement already satisfied: yfinance in c:\\users\\ouizb\\anaconda3\\lib\\site-packages (0.1.54)\n",
      "Requirement already satisfied: numpy>=1.15 in c:\\users\\ouizb\\appdata\\roaming\\python\\python37\\site-packages (from yfinance) (1.17.4)\n",
      "Requirement already satisfied: requests>=2.20 in c:\\users\\ouizb\\anaconda3\\lib\\site-packages (from yfinance) (2.22.0)\n",
      "Requirement already satisfied: pandas>=0.24 in c:\\users\\ouizb\\appdata\\roaming\\python\\python37\\site-packages (from yfinance) (1.1.2)\n",
      "Requirement already satisfied: multitasking>=0.0.7 in c:\\users\\ouizb\\anaconda3\\lib\\site-packages (from yfinance) (0.0.9)\n",
      "Requirement already satisfied: idna<2.9,>=2.5 in c:\\users\\ouizb\\anaconda3\\lib\\site-packages (from requests>=2.20->yfinance) (2.8)\n",
      "Requirement already satisfied: certifi>=2017.4.17 in c:\\users\\ouizb\\anaconda3\\lib\\site-packages (from requests>=2.20->yfinance) (2020.6.20)\n",
      "Requirement already satisfied: urllib3!=1.25.0,!=1.25.1,<1.26,>=1.21.1 in c:\\users\\ouizb\\anaconda3\\lib\\site-packages (from requests>=2.20->yfinance) (1.25.9)\n",
      "Requirement already satisfied: chardet<3.1.0,>=3.0.2 in c:\\users\\ouizb\\anaconda3\\lib\\site-packages (from requests>=2.20->yfinance) (3.0.4)\n",
      "Requirement already satisfied: python-dateutil>=2.7.3 in c:\\users\\ouizb\\anaconda3\\lib\\site-packages (from pandas>=0.24->yfinance) (2.8.1)\n",
      "Requirement already satisfied: pytz>=2017.2 in c:\\users\\ouizb\\anaconda3\\lib\\site-packages (from pandas>=0.24->yfinance) (2020.1)\n",
      "Requirement already satisfied: six>=1.5 in c:\\users\\ouizb\\anaconda3\\lib\\site-packages (from python-dateutil>=2.7.3->pandas>=0.24->yfinance) (1.15.0)\n",
      "Note: you may need to restart the kernel to use updated packages.\n"
     ]
    }
   ],
   "source": [
    "pip install yfinance"
   ]
  },
  {
   "cell_type": "markdown",
   "metadata": {
    "id": "J2kcyyG0DFjT"
   },
   "source": [
    "On va prédire les prix pour Amazon."
   ]
  },
  {
   "cell_type": "code",
   "execution_count": 2,
   "metadata": {
    "id": "zT5TR1DdDFjU"
   },
   "outputs": [
    {
     "name": "stderr",
     "output_type": "stream",
     "text": [
      "C:\\Users\\ouizb\\anaconda3\\lib\\site-packages\\tensorboard\\compat\\tensorflow_stub\\dtypes.py:541: FutureWarning: Passing (type, 1) or '1type' as a synonym of type is deprecated; in a future version of numpy, it will be understood as (type, (1,)) / '(1,)type'.\n",
      "  _np_qint8 = np.dtype([(\"qint8\", np.int8, 1)])\n",
      "C:\\Users\\ouizb\\anaconda3\\lib\\site-packages\\tensorboard\\compat\\tensorflow_stub\\dtypes.py:542: FutureWarning: Passing (type, 1) or '1type' as a synonym of type is deprecated; in a future version of numpy, it will be understood as (type, (1,)) / '(1,)type'.\n",
      "  _np_quint8 = np.dtype([(\"quint8\", np.uint8, 1)])\n",
      "C:\\Users\\ouizb\\anaconda3\\lib\\site-packages\\tensorboard\\compat\\tensorflow_stub\\dtypes.py:543: FutureWarning: Passing (type, 1) or '1type' as a synonym of type is deprecated; in a future version of numpy, it will be understood as (type, (1,)) / '(1,)type'.\n",
      "  _np_qint16 = np.dtype([(\"qint16\", np.int16, 1)])\n",
      "C:\\Users\\ouizb\\anaconda3\\lib\\site-packages\\tensorboard\\compat\\tensorflow_stub\\dtypes.py:544: FutureWarning: Passing (type, 1) or '1type' as a synonym of type is deprecated; in a future version of numpy, it will be understood as (type, (1,)) / '(1,)type'.\n",
      "  _np_quint16 = np.dtype([(\"quint16\", np.uint16, 1)])\n",
      "C:\\Users\\ouizb\\anaconda3\\lib\\site-packages\\tensorboard\\compat\\tensorflow_stub\\dtypes.py:545: FutureWarning: Passing (type, 1) or '1type' as a synonym of type is deprecated; in a future version of numpy, it will be understood as (type, (1,)) / '(1,)type'.\n",
      "  _np_qint32 = np.dtype([(\"qint32\", np.int32, 1)])\n",
      "C:\\Users\\ouizb\\anaconda3\\lib\\site-packages\\tensorboard\\compat\\tensorflow_stub\\dtypes.py:550: FutureWarning: Passing (type, 1) or '1type' as a synonym of type is deprecated; in a future version of numpy, it will be understood as (type, (1,)) / '(1,)type'.\n",
      "  np_resource = np.dtype([(\"resource\", np.ubyte, 1)])\n"
     ]
    }
   ],
   "source": [
    "import pandas as pd\n",
    "import numpy as np\n",
    "import matplotlib.pyplot as plt\n",
    "import seaborn as sns\n",
    "import seaborn as sns\n",
    "import yfinance as yf\n",
    "from sklearn.preprocessing import MinMaxScaler\n",
    "sns.set_style('whitegrid')\n",
    "plt.style.use(\"fivethirtyeight\")\n",
    "from keras.models import Sequential\n",
    "from keras.layers import LSTM,Dense\n",
    "from keras.models import load_model\n",
    "%matplotlib inline\n",
    "#from notify_run import Notify # pour m'envoyer des notification"
   ]
  },
  {
   "cell_type": "code",
   "execution_count": 3,
   "metadata": {
    "id": "soxJNXXYDFjr"
   },
   "outputs": [],
   "source": [
    "#notify = Notify()\n",
    "#notify.register()"
   ]
  },
  {
   "cell_type": "markdown",
   "metadata": {
    "id": "FRzLIfLpDFkG"
   },
   "source": [
    "### Importation des données"
   ]
  },
  {
   "cell_type": "code",
   "execution_count": 4,
   "metadata": {
    "id": "olmOXTQCDFlY"
   },
   "outputs": [],
   "source": [
    "def get_data(symbol):\n",
    "    tickerData = yf.Ticker(symbol)\n",
    "    data = tickerData.history(period='1d', start='2010-10-1', end=\"2020-9-29\")\n",
    "    data['companies'] = symbol\n",
    "    data.drop(['Dividends', 'Stock Splits'], axis=1, inplace=True)\n",
    "    return data\n",
    "\n"
   ]
  },
  {
   "cell_type": "code",
   "execution_count": 5,
   "metadata": {
    "id": "KAi16hu6baWP"
   },
   "outputs": [],
   "source": [
    "msft = get_data(\"MSFT\")\n",
    "amzn = get_data(\"AMZN\")\n",
    "goog = get_data(\"GOOG\")"
   ]
  },
  {
   "cell_type": "code",
   "execution_count": 6,
   "metadata": {
    "colab": {
     "base_uri": "https://localhost:8080/",
     "height": 235
    },
    "id": "L2Qfp628dgEw",
    "outputId": "696dd536-e966-4ca1-89da-265867d4a021"
   },
   "outputs": [
    {
     "data": {
      "text/html": [
       "<div>\n",
       "<style scoped>\n",
       "    .dataframe tbody tr th:only-of-type {\n",
       "        vertical-align: middle;\n",
       "    }\n",
       "\n",
       "    .dataframe tbody tr th {\n",
       "        vertical-align: top;\n",
       "    }\n",
       "\n",
       "    .dataframe thead th {\n",
       "        text-align: right;\n",
       "    }\n",
       "</style>\n",
       "<table border=\"1\" class=\"dataframe\">\n",
       "  <thead>\n",
       "    <tr style=\"text-align: right;\">\n",
       "      <th></th>\n",
       "      <th>Open</th>\n",
       "      <th>High</th>\n",
       "      <th>Low</th>\n",
       "      <th>Close</th>\n",
       "      <th>Volume</th>\n",
       "      <th>companies</th>\n",
       "    </tr>\n",
       "    <tr>\n",
       "      <th>Date</th>\n",
       "      <th></th>\n",
       "      <th></th>\n",
       "      <th></th>\n",
       "      <th></th>\n",
       "      <th></th>\n",
       "      <th></th>\n",
       "    </tr>\n",
       "  </thead>\n",
       "  <tbody>\n",
       "    <tr>\n",
       "      <th>2010-09-30</th>\n",
       "      <td>19.50</td>\n",
       "      <td>19.67</td>\n",
       "      <td>19.30</td>\n",
       "      <td>19.40</td>\n",
       "      <td>61262700</td>\n",
       "      <td>MSFT</td>\n",
       "    </tr>\n",
       "    <tr>\n",
       "      <th>2010-10-01</th>\n",
       "      <td>19.62</td>\n",
       "      <td>19.66</td>\n",
       "      <td>19.25</td>\n",
       "      <td>19.32</td>\n",
       "      <td>62672300</td>\n",
       "      <td>MSFT</td>\n",
       "    </tr>\n",
       "    <tr>\n",
       "      <th>2010-10-04</th>\n",
       "      <td>18.98</td>\n",
       "      <td>19.01</td>\n",
       "      <td>18.84</td>\n",
       "      <td>18.94</td>\n",
       "      <td>98143400</td>\n",
       "      <td>MSFT</td>\n",
       "    </tr>\n",
       "    <tr>\n",
       "      <th>2010-10-05</th>\n",
       "      <td>19.06</td>\n",
       "      <td>19.37</td>\n",
       "      <td>18.94</td>\n",
       "      <td>19.29</td>\n",
       "      <td>78152900</td>\n",
       "      <td>MSFT</td>\n",
       "    </tr>\n",
       "    <tr>\n",
       "      <th>2010-10-06</th>\n",
       "      <td>19.27</td>\n",
       "      <td>19.44</td>\n",
       "      <td>19.12</td>\n",
       "      <td>19.36</td>\n",
       "      <td>50489700</td>\n",
       "      <td>MSFT</td>\n",
       "    </tr>\n",
       "  </tbody>\n",
       "</table>\n",
       "</div>"
      ],
      "text/plain": [
       "             Open   High    Low  Close    Volume companies\n",
       "Date                                                      \n",
       "2010-09-30  19.50  19.67  19.30  19.40  61262700      MSFT\n",
       "2010-10-01  19.62  19.66  19.25  19.32  62672300      MSFT\n",
       "2010-10-04  18.98  19.01  18.84  18.94  98143400      MSFT\n",
       "2010-10-05  19.06  19.37  18.94  19.29  78152900      MSFT\n",
       "2010-10-06  19.27  19.44  19.12  19.36  50489700      MSFT"
      ]
     },
     "execution_count": 6,
     "metadata": {},
     "output_type": "execute_result"
    }
   ],
   "source": [
    "msft.head()"
   ]
  },
  {
   "cell_type": "markdown",
   "metadata": {
    "id": "F4w6PFBO7rWY"
   },
   "source": [
    "# Rassembler les 3 sociétés dans le meme dataframe "
   ]
  },
  {
   "cell_type": "code",
   "execution_count": 7,
   "metadata": {
    "colab": {
     "base_uri": "https://localhost:8080/",
     "height": 235
    },
    "id": "7flUZOCxeM5d",
    "outputId": "9204f220-8836-4708-ad97-bc9a57c287c7"
   },
   "outputs": [
    {
     "data": {
      "text/html": [
       "<div>\n",
       "<style scoped>\n",
       "    .dataframe tbody tr th:only-of-type {\n",
       "        vertical-align: middle;\n",
       "    }\n",
       "\n",
       "    .dataframe tbody tr th {\n",
       "        vertical-align: top;\n",
       "    }\n",
       "\n",
       "    .dataframe thead th {\n",
       "        text-align: right;\n",
       "    }\n",
       "</style>\n",
       "<table border=\"1\" class=\"dataframe\">\n",
       "  <thead>\n",
       "    <tr style=\"text-align: right;\">\n",
       "      <th></th>\n",
       "      <th>Open</th>\n",
       "      <th>High</th>\n",
       "      <th>Low</th>\n",
       "      <th>Close</th>\n",
       "      <th>Volume</th>\n",
       "      <th>companies</th>\n",
       "    </tr>\n",
       "    <tr>\n",
       "      <th>Date</th>\n",
       "      <th></th>\n",
       "      <th></th>\n",
       "      <th></th>\n",
       "      <th></th>\n",
       "      <th></th>\n",
       "      <th></th>\n",
       "    </tr>\n",
       "  </thead>\n",
       "  <tbody>\n",
       "    <tr>\n",
       "      <th>2010-09-30</th>\n",
       "      <td>19.50</td>\n",
       "      <td>19.67</td>\n",
       "      <td>19.30</td>\n",
       "      <td>19.40</td>\n",
       "      <td>61262700</td>\n",
       "      <td>MSFT</td>\n",
       "    </tr>\n",
       "    <tr>\n",
       "      <th>2010-10-01</th>\n",
       "      <td>19.62</td>\n",
       "      <td>19.66</td>\n",
       "      <td>19.25</td>\n",
       "      <td>19.32</td>\n",
       "      <td>62672300</td>\n",
       "      <td>MSFT</td>\n",
       "    </tr>\n",
       "    <tr>\n",
       "      <th>2010-10-04</th>\n",
       "      <td>18.98</td>\n",
       "      <td>19.01</td>\n",
       "      <td>18.84</td>\n",
       "      <td>18.94</td>\n",
       "      <td>98143400</td>\n",
       "      <td>MSFT</td>\n",
       "    </tr>\n",
       "    <tr>\n",
       "      <th>2010-10-05</th>\n",
       "      <td>19.06</td>\n",
       "      <td>19.37</td>\n",
       "      <td>18.94</td>\n",
       "      <td>19.29</td>\n",
       "      <td>78152900</td>\n",
       "      <td>MSFT</td>\n",
       "    </tr>\n",
       "    <tr>\n",
       "      <th>2010-10-06</th>\n",
       "      <td>19.27</td>\n",
       "      <td>19.44</td>\n",
       "      <td>19.12</td>\n",
       "      <td>19.36</td>\n",
       "      <td>50489700</td>\n",
       "      <td>MSFT</td>\n",
       "    </tr>\n",
       "  </tbody>\n",
       "</table>\n",
       "</div>"
      ],
      "text/plain": [
       "             Open   High    Low  Close    Volume companies\n",
       "Date                                                      \n",
       "2010-09-30  19.50  19.67  19.30  19.40  61262700      MSFT\n",
       "2010-10-01  19.62  19.66  19.25  19.32  62672300      MSFT\n",
       "2010-10-04  18.98  19.01  18.84  18.94  98143400      MSFT\n",
       "2010-10-05  19.06  19.37  18.94  19.29  78152900      MSFT\n",
       "2010-10-06  19.27  19.44  19.12  19.36  50489700      MSFT"
      ]
     },
     "execution_count": 7,
     "metadata": {},
     "output_type": "execute_result"
    }
   ],
   "source": [
    "\n",
    "company_list = [msft, amzn, goog]\n",
    "\n",
    "    \n",
    "df_concat = pd.concat(company_list, axis=0)\n",
    "    \n",
    "df_concat.head()"
   ]
  },
  {
   "cell_type": "code",
   "execution_count": 8,
   "metadata": {
    "colab": {
     "base_uri": "https://localhost:8080/",
     "height": 34
    },
    "id": "h-awC1pseryd",
    "outputId": "850096e2-f167-4b90-e7d2-89f1ac215d98"
   },
   "outputs": [
    {
     "data": {
      "text/plain": [
       "array(['MSFT', 'AMZN', 'GOOG'], dtype=object)"
      ]
     },
     "execution_count": 8,
     "metadata": {},
     "output_type": "execute_result"
    }
   ],
   "source": [
    "df_concat.companies.unique()"
   ]
  },
  {
   "cell_type": "markdown",
   "metadata": {
    "id": "5vVQaBwi7c1p"
   },
   "source": [
    "# Split data "
   ]
  },
  {
   "cell_type": "code",
   "execution_count": 11,
   "metadata": {
    "id": "hJ27ZggaiZl4"
   },
   "outputs": [],
   "source": [
    "def split_data(df, symbol):\n",
    "    data = df.filter(['Close']).loc[df['companies']== symbol]\n",
    "    dataset = data.values.reshape(-1, 1)\n",
    "    training_data_len = int(np.ceil(len(dataset) * .8 ))\n",
    "    print(f'Longueur du data: {training_data_len}')\n",
    "    print('================================================')\n",
    "    scaler = MinMaxScaler(feature_range=(0,1))\n",
    "    scaled_data= scaler.fit_transform(dataset)\n",
    "    train_data = scaled_data[0:int(training_data_len), :]\n",
    "    x_train = []\n",
    "    y_train = []\n",
    "    for i in range(60, len(train_data)):\n",
    "        x_train.append(train_data[i-60:i, 0])\n",
    "        y_train.append(train_data[i, 0])\n",
    "\n",
    "    x_train, y_train = np.array(x_train), np.array(y_train)\n",
    "    x_train = np.reshape(x_train, (x_train.shape[0], x_train.shape[1], 1))\n",
    "\n",
    "    test_data = scaled_data[training_data_len - 60: , :]\n",
    "    x_test = []\n",
    "    y_test = dataset[training_data_len:, :]\n",
    "    for i in range(60, len(test_data)):\n",
    "        x_test.append(test_data[i-60:i, 0])\n",
    "    x_test = np.array(x_test)\n",
    "    x_test = np.reshape(x_test, (x_test.shape[0], x_test.shape[1], 1 ))\n",
    "    return x_train, y_train, x_test, y_test"
   ]
  },
  {
   "cell_type": "markdown",
   "metadata": {
    "id": "tnvNIaMe7gAG"
   },
   "source": [
    "# Fonction LSTM "
   ]
  },
  {
   "cell_type": "code",
   "execution_count": 17,
   "metadata": {
    "id": "RU5vv4AfmwUv"
   },
   "outputs": [],
   "source": [
    "def algo_lstm(x_train, y_train, x_test, y_test, symbol):\n",
    "    scaler = MinMaxScaler(feature_range=(0,1))\n",
    "    model = Sequential()\n",
    "    model.add(LSTM(50, return_sequences=True, input_shape= (x_train.shape[1], 1)))\n",
    "    model.add(LSTM(50, return_sequences= False))\n",
    "    model.add(Dense(25))\n",
    "    model.add(Dense(1))\n",
    "    model.compile(optimizer='adam', loss='mean_squared_error')\n",
    "    history = model.fit(x_train, y_train, batch_size=25, epochs=30, validation_split=0.1)\n",
    "\n",
    "    plt.plot(history.history['loss'])\n",
    "    plt.plot(history.history['val_loss'])\n",
    "    plt.title('model loss')\n",
    "    plt.ylabel('loss')\n",
    "    plt.xlabel('epoch')\n",
    "    plt.legend(['train', 'val'], loc='upper left')\n",
    "    plt.show()\n",
    "\n",
    "    predictions = model.predict(x_test)\n",
    "    predictions = scaler.inverse_transform(predictions)\n",
    "\n",
    "    rmse = np.sqrt(np.mean(((predictions - y_test) ** 2)))\n",
    "    print('================================================')\n",
    "    print(f'RMSE: {rmse}')\n",
    "    print('================================================')\n",
    "    train = data[:training_data_len]\n",
    "    valid = data[training_data_len:]\n",
    "    valid['Predictions'] = predictions\n",
    "\n",
    "    plt.figure(figsize=(16,8))\n",
    "    plt.title('Prédictions vs. valeurs réeles')\n",
    "    plt.xlabel('Date', fontsize=18)\n",
    "    plt.ylabel('Close USD ($)', fontsize=18)\n",
    "    plt.plot(train['Close'])\n",
    "    plt.plot(valid[['Close', 'Predictions']])\n",
    "    plt.legend(['Train', 'Valeurs actuelles', 'Prédictions'], loc='lower right')\n",
    "    plt.show()\n",
    "    print('================================================')\n",
    "    print(valid)\n",
    "    #modelFileName = 'model_lstm.h5'\n",
    "    #model.save(modelFileName) # saves the trained model\n",
    "    #print(\"Model saved.\")\n",
    "    notify.send('It\\'s done!')\n",
    "\n",
    "    return model\n",
    "\n"
   ]
  },
  {
   "cell_type": "markdown",
   "metadata": {},
   "source": [
    "# Prédiction du Prix du lendemain (le 29/09/2020)"
   ]
  },
  {
   "cell_type": "code",
   "execution_count": 18,
   "metadata": {},
   "outputs": [],
   "source": [
    "def predict_price(symbol):\n",
    "    tickerData = yf.Ticker(symbol)\n",
    "    df = tickerData.history(period='1d', start='2010-10-1', end=\"2020-9-30\")\n",
    "    new_df = df.filter(['Close'])\n",
    "    last_60_days = new_df[-60:].values\n",
    "    last_60_days_scaled = scaler.transform(last_60_days)\n",
    "    X_test = []\n",
    "    X_test.append(last_60_days_scaled)\n",
    "    X_test = np.array(X_test)\n",
    "    X_test = np.reshape(X_test, (X_test.shape[0], X_test.shape[1], 1))\n",
    "    pred_price = model.predict(X_test)\n",
    "    pred_price = scaler.inverse_transform(pred_price)\n",
    "    print(f'Prix prédit: {pred_price}')\n",
    "\n",
    "    actual_price = tickerData.history(period='1d', start=\"2020-9-29\", end=\"2020-9-30\")\n",
    "    actual_price = actual_price.Close.values\n",
    "    actual_price = np.array(actual_price)\n",
    "    print(f'Prix réel: {actual_price}')\n",
    "    return pred_price, actual_price"
   ]
  },
  {
   "cell_type": "markdown",
   "metadata": {
    "id": "82WLld5g1wcp"
   },
   "source": [
    "# LSTM Microsft"
   ]
  },
  {
   "cell_type": "code",
   "execution_count": 19,
   "metadata": {
    "colab": {
     "base_uri": "https://localhost:8080/",
     "height": 51
    },
    "id": "riO5snL5oiz_",
    "outputId": "c97462b9-0da3-4b5d-e935-6a00f74ad193"
   },
   "outputs": [
    {
     "name": "stdout",
     "output_type": "stream",
     "text": [
      "Longueur du data: 2013\n",
      "================================================\n"
     ]
    }
   ],
   "source": [
    "x_train, y_train, x_test, y_test = split_data(df_concat, \"MSFT\")"
   ]
  },
  {
   "cell_type": "code",
   "execution_count": 20,
   "metadata": {
    "colab": {
     "base_uri": "https://localhost:8080/",
     "height": 1000
    },
    "id": "4nkyHq_B0Xd4",
    "outputId": "455b01ea-f62f-44b0-f649-1c80e7620a0e"
   },
   "outputs": [
    {
     "name": "stdout",
     "output_type": "stream",
     "text": [
      "Epoch 1/30\n",
      "71/71 [==============================] - 10s 136ms/step - loss: 9.7075e-04 - val_loss: 1.1693e-04\n",
      "Epoch 2/30\n",
      "71/71 [==============================] - 6s 91ms/step - loss: 3.0917e-05 - val_loss: 9.6499e-05\n",
      "Epoch 3/30\n",
      "71/71 [==============================] - 7s 93ms/step - loss: 3.1430e-05 - val_loss: 9.7966e-05\n",
      "Epoch 4/30\n",
      "71/71 [==============================] - 6s 88ms/step - loss: 3.1494e-05 - val_loss: 1.3542e-04\n",
      "Epoch 5/30\n",
      "71/71 [==============================] - 8s 117ms/step - loss: 3.0889e-05 - val_loss: 9.3403e-05\n",
      "Epoch 6/30\n",
      "71/71 [==============================] - 8s 106ms/step - loss: 2.8506e-05 - val_loss: 9.0495e-05\n",
      "Epoch 7/30\n",
      "71/71 [==============================] - 8s 113ms/step - loss: 3.0495e-05 - val_loss: 1.1254e-04\n",
      "Epoch 8/30\n",
      "71/71 [==============================] - 8s 109ms/step - loss: 2.8684e-05 - val_loss: 1.3422e-04\n",
      "Epoch 9/30\n",
      "71/71 [==============================] - 6s 85ms/step - loss: 2.7872e-05 - val_loss: 1.4326e-04\n",
      "Epoch 10/30\n",
      "71/71 [==============================] - 5s 73ms/step - loss: 2.7424e-05 - val_loss: 1.2192e-04\n",
      "Epoch 11/30\n",
      "71/71 [==============================] - 6s 80ms/step - loss: 2.8030e-05 - val_loss: 1.2298e-04\n",
      "Epoch 12/30\n",
      "71/71 [==============================] - 7s 96ms/step - loss: 3.1961e-05 - val_loss: 8.6708e-05\n",
      "Epoch 13/30\n",
      "71/71 [==============================] - 10s 143ms/step - loss: 2.6131e-05 - val_loss: 8.8881e-05\n",
      "Epoch 14/30\n",
      "71/71 [==============================] - 7s 101ms/step - loss: 2.8167e-05 - val_loss: 9.5591e-05\n",
      "Epoch 15/30\n",
      "71/71 [==============================] - 7s 96ms/step - loss: 2.8252e-05 - val_loss: 9.2815e-05\n",
      "Epoch 16/30\n",
      "71/71 [==============================] - 7s 93ms/step - loss: 2.8625e-05 - val_loss: 9.7758e-05\n",
      "Epoch 17/30\n",
      "71/71 [==============================] - 6s 85ms/step - loss: 2.5492e-05 - val_loss: 2.8914e-04\n",
      "Epoch 18/30\n",
      "71/71 [==============================] - 6s 81ms/step - loss: 2.7665e-05 - val_loss: 1.6653e-04\n",
      "Epoch 19/30\n",
      "71/71 [==============================] - 6s 88ms/step - loss: 2.5672e-05 - val_loss: 2.5318e-04\n",
      "Epoch 20/30\n",
      "71/71 [==============================] - 10s 146ms/step - loss: 2.6954e-05 - val_loss: 7.8914e-05\n",
      "Epoch 21/30\n",
      "71/71 [==============================] - 7s 96ms/step - loss: 2.4765e-05 - val_loss: 7.9947e-05\n",
      "Epoch 22/30\n",
      "71/71 [==============================] - 8s 106ms/step - loss: 2.9456e-05 - val_loss: 2.4452e-04\n",
      "Epoch 23/30\n",
      "71/71 [==============================] - 6s 82ms/step - loss: 2.8074e-05 - val_loss: 1.7029e-04\n",
      "Epoch 24/30\n",
      "71/71 [==============================] - 6s 81ms/step - loss: 2.3636e-05 - val_loss: 7.5604e-05\n",
      "Epoch 25/30\n",
      "71/71 [==============================] - 6s 90ms/step - loss: 2.2365e-05 - val_loss: 1.1171e-04\n",
      "Epoch 26/30\n",
      "71/71 [==============================] - 10s 142ms/step - loss: 2.1841e-05 - val_loss: 1.0351e-04\n",
      "Epoch 27/30\n",
      "71/71 [==============================] - 10s 136ms/step - loss: 2.2077e-05 - val_loss: 6.8970e-05\n",
      "Epoch 28/30\n",
      "71/71 [==============================] - 6s 90ms/step - loss: 1.9690e-05 - val_loss: 6.8092e-05\n",
      "Epoch 29/30\n",
      "71/71 [==============================] - 7s 94ms/step - loss: 2.0380e-05 - val_loss: 1.0819e-04\n",
      "Epoch 30/30\n",
      "71/71 [==============================] - 8s 107ms/step - loss: 2.0307e-05 - val_loss: 9.4387e-05\n"
     ]
    },
    {
     "data": {
      "image/png": "[encoded data removed]",
      "text/plain": [
       "<Figure size 432x288 with 1 Axes>"
      ]
     },
     "metadata": {
      "needs_background": "light"
     },
     "output_type": "display_data"
    },
    {
     "ename": "NotFittedError",
     "evalue": "This MinMaxScaler instance is not fitted yet. Call 'fit' with appropriate arguments before using this estimator.",
     "output_type": "error",
     "traceback": [
      "\u001b[1;31m---------------------------------------------------------------------------\u001b[0m",
      "\u001b[1;31mNotFittedError\u001b[0m                            Traceback (most recent call last)",
      "\u001b[1;32m<ipython-input-20-f3003d7fc753>\u001b[0m in \u001b[0;36m<module>\u001b[1;34m\u001b[0m\n\u001b[1;32m----> 1\u001b[1;33m \u001b[0mmodel\u001b[0m \u001b[1;33m=\u001b[0m \u001b[0malgo_lstm\u001b[0m\u001b[1;33m(\u001b[0m\u001b[0mx_train\u001b[0m\u001b[1;33m,\u001b[0m \u001b[0my_train\u001b[0m\u001b[1;33m,\u001b[0m \u001b[0mx_test\u001b[0m\u001b[1;33m,\u001b[0m \u001b[0my_test\u001b[0m\u001b[1;33m,\u001b[0m \u001b[1;34m\"MSFT\"\u001b[0m\u001b[1;33m)\u001b[0m\u001b[1;33m\u001b[0m\u001b[1;33m\u001b[0m\u001b[0m\n\u001b[0m",
      "\u001b[1;32m<ipython-input-17-c5339e86582c>\u001b[0m in \u001b[0;36malgo_lstm\u001b[1;34m(x_train, y_train, x_test, y_test, symbol)\u001b[0m\n\u001b[0;32m     18\u001b[0m \u001b[1;33m\u001b[0m\u001b[0m\n\u001b[0;32m     19\u001b[0m     \u001b[0mpredictions\u001b[0m \u001b[1;33m=\u001b[0m \u001b[0mmodel\u001b[0m\u001b[1;33m.\u001b[0m\u001b[0mpredict\u001b[0m\u001b[1;33m(\u001b[0m\u001b[0mx_test\u001b[0m\u001b[1;33m)\u001b[0m\u001b[1;33m\u001b[0m\u001b[1;33m\u001b[0m\u001b[0m\n\u001b[1;32m---> 20\u001b[1;33m     \u001b[0mpredictions\u001b[0m \u001b[1;33m=\u001b[0m \u001b[0mscaler\u001b[0m\u001b[1;33m.\u001b[0m\u001b[0minverse_transform\u001b[0m\u001b[1;33m(\u001b[0m\u001b[0mpredictions\u001b[0m\u001b[1;33m)\u001b[0m\u001b[1;33m\u001b[0m\u001b[1;33m\u001b[0m\u001b[0m\n\u001b[0m\u001b[0;32m     21\u001b[0m \u001b[1;33m\u001b[0m\u001b[0m\n\u001b[0;32m     22\u001b[0m     \u001b[0mrmse\u001b[0m \u001b[1;33m=\u001b[0m \u001b[0mnp\u001b[0m\u001b[1;33m.\u001b[0m\u001b[0msqrt\u001b[0m\u001b[1;33m(\u001b[0m\u001b[0mnp\u001b[0m\u001b[1;33m.\u001b[0m\u001b[0mmean\u001b[0m\u001b[1;33m(\u001b[0m\u001b[1;33m(\u001b[0m\u001b[1;33m(\u001b[0m\u001b[0mpredictions\u001b[0m \u001b[1;33m-\u001b[0m \u001b[0my_test\u001b[0m\u001b[1;33m)\u001b[0m \u001b[1;33m**\u001b[0m \u001b[1;36m2\u001b[0m\u001b[1;33m)\u001b[0m\u001b[1;33m)\u001b[0m\u001b[1;33m)\u001b[0m\u001b[1;33m\u001b[0m\u001b[1;33m\u001b[0m\u001b[0m\n",
      "\u001b[1;32m~\\AppData\\Roaming\\Python\\Python37\\site-packages\\sklearn\\preprocessing\\_data.py\u001b[0m in \u001b[0;36minverse_transform\u001b[1;34m(self, X)\u001b[0m\n\u001b[0;32m    425\u001b[0m             \u001b[0mTransformed\u001b[0m \u001b[0mdata\u001b[0m\u001b[1;33m.\u001b[0m\u001b[1;33m\u001b[0m\u001b[1;33m\u001b[0m\u001b[0m\n\u001b[0;32m    426\u001b[0m         \"\"\"\n\u001b[1;32m--> 427\u001b[1;33m         \u001b[0mcheck_is_fitted\u001b[0m\u001b[1;33m(\u001b[0m\u001b[0mself\u001b[0m\u001b[1;33m)\u001b[0m\u001b[1;33m\u001b[0m\u001b[1;33m\u001b[0m\u001b[0m\n\u001b[0m\u001b[0;32m    428\u001b[0m \u001b[1;33m\u001b[0m\u001b[0m\n\u001b[0;32m    429\u001b[0m         X = check_array(X, copy=self.copy, dtype=FLOAT_DTYPES,\n",
      "\u001b[1;32m~\\AppData\\Roaming\\Python\\Python37\\site-packages\\sklearn\\utils\\validation.py\u001b[0m in \u001b[0;36minner_f\u001b[1;34m(*args, **kwargs)\u001b[0m\n\u001b[0;32m     70\u001b[0m                           FutureWarning)\n\u001b[0;32m     71\u001b[0m         \u001b[0mkwargs\u001b[0m\u001b[1;33m.\u001b[0m\u001b[0mupdate\u001b[0m\u001b[1;33m(\u001b[0m\u001b[1;33m{\u001b[0m\u001b[0mk\u001b[0m\u001b[1;33m:\u001b[0m \u001b[0marg\u001b[0m \u001b[1;32mfor\u001b[0m \u001b[0mk\u001b[0m\u001b[1;33m,\u001b[0m \u001b[0marg\u001b[0m \u001b[1;32min\u001b[0m \u001b[0mzip\u001b[0m\u001b[1;33m(\u001b[0m\u001b[0msig\u001b[0m\u001b[1;33m.\u001b[0m\u001b[0mparameters\u001b[0m\u001b[1;33m,\u001b[0m \u001b[0margs\u001b[0m\u001b[1;33m)\u001b[0m\u001b[1;33m}\u001b[0m\u001b[1;33m)\u001b[0m\u001b[1;33m\u001b[0m\u001b[1;33m\u001b[0m\u001b[0m\n\u001b[1;32m---> 72\u001b[1;33m         \u001b[1;32mreturn\u001b[0m \u001b[0mf\u001b[0m\u001b[1;33m(\u001b[0m\u001b[1;33m**\u001b[0m\u001b[0mkwargs\u001b[0m\u001b[1;33m)\u001b[0m\u001b[1;33m\u001b[0m\u001b[1;33m\u001b[0m\u001b[0m\n\u001b[0m\u001b[0;32m     73\u001b[0m     \u001b[1;32mreturn\u001b[0m \u001b[0minner_f\u001b[0m\u001b[1;33m\u001b[0m\u001b[1;33m\u001b[0m\u001b[0m\n\u001b[0;32m     74\u001b[0m \u001b[1;33m\u001b[0m\u001b[0m\n",
      "\u001b[1;32m~\\AppData\\Roaming\\Python\\Python37\\site-packages\\sklearn\\utils\\validation.py\u001b[0m in \u001b[0;36mcheck_is_fitted\u001b[1;34m(estimator, attributes, msg, all_or_any)\u001b[0m\n\u001b[0;32m   1017\u001b[0m \u001b[1;33m\u001b[0m\u001b[0m\n\u001b[0;32m   1018\u001b[0m     \u001b[1;32mif\u001b[0m \u001b[1;32mnot\u001b[0m \u001b[0mattrs\u001b[0m\u001b[1;33m:\u001b[0m\u001b[1;33m\u001b[0m\u001b[1;33m\u001b[0m\u001b[0m\n\u001b[1;32m-> 1019\u001b[1;33m         \u001b[1;32mraise\u001b[0m \u001b[0mNotFittedError\u001b[0m\u001b[1;33m(\u001b[0m\u001b[0mmsg\u001b[0m \u001b[1;33m%\u001b[0m \u001b[1;33m{\u001b[0m\u001b[1;34m'name'\u001b[0m\u001b[1;33m:\u001b[0m \u001b[0mtype\u001b[0m\u001b[1;33m(\u001b[0m\u001b[0mestimator\u001b[0m\u001b[1;33m)\u001b[0m\u001b[1;33m.\u001b[0m\u001b[0m__name__\u001b[0m\u001b[1;33m}\u001b[0m\u001b[1;33m)\u001b[0m\u001b[1;33m\u001b[0m\u001b[1;33m\u001b[0m\u001b[0m\n\u001b[0m\u001b[0;32m   1020\u001b[0m \u001b[1;33m\u001b[0m\u001b[0m\n\u001b[0;32m   1021\u001b[0m \u001b[1;33m\u001b[0m\u001b[0m\n",
      "\u001b[1;31mNotFittedError\u001b[0m: This MinMaxScaler instance is not fitted yet. Call 'fit' with appropriate arguments before using this estimator."
     ]
    }
   ],
   "source": [
    "model = algo_lstm(x_train, y_train, x_test, y_test, \"MSFT\")"
   ]
  },
  {
   "cell_type": "code",
   "execution_count": null,
   "metadata": {},
   "outputs": [],
   "source": [
    "predict_price(\"MSFT\")"
   ]
  },
  {
   "cell_type": "markdown",
   "metadata": {
    "id": "70Qf4sJr141_"
   },
   "source": [
    "# LSTM Google "
   ]
  },
  {
   "cell_type": "code",
   "execution_count": null,
   "metadata": {
    "colab": {
     "base_uri": "https://localhost:8080/",
     "height": 1000
    },
    "id": "3bSD20A81CWF",
    "outputId": "bc8fe2c1-8362-4f63-97b8-3d09f91b6a14"
   },
   "outputs": [],
   "source": [
    "x_train, y_train, x_test, y_test = split_data(df_concat, \"GOOG\")\n",
    "model = algo_lstm(x_train, y_train, x_test, y_test, \"GOOG\")"
   ]
  },
  {
   "cell_type": "code",
   "execution_count": null,
   "metadata": {},
   "outputs": [],
   "source": [
    "predict_price(\"GOOG\")"
   ]
  },
  {
   "cell_type": "markdown",
   "metadata": {
    "id": "FlfkO-Sp3j7X"
   },
   "source": [
    "# LSTM Amazon"
   ]
  },
  {
   "cell_type": "code",
   "execution_count": null,
   "metadata": {
    "colab": {
     "base_uri": "https://localhost:8080/",
     "height": 1000
    },
    "id": "4_ZsdMGa3oUa",
    "outputId": "f0c6bc4e-ba2d-419b-feb9-0f70b101af11"
   },
   "outputs": [],
   "source": [
    "x_train, y_train, x_test, y_test = split_data(df_concat, \"AMZN\")\n",
    "model = algo_lstm(x_train, y_train, x_test, y_test, \"AMZN\")"
   ]
  },
  {
   "cell_type": "code",
   "execution_count": null,
   "metadata": {},
   "outputs": [],
   "source": [
    "predict_price(\"AMZN\")"
   ]
  },
  {
   "cell_type": "code",
   "execution_count": null,
   "metadata": {
    "id": "Bv-AV33x6HYt"
   },
   "outputs": [],
   "source": []
  }
 ],
 "metadata": {
  "accelerator": "GPU",
  "colab": {
   "collapsed_sections": [],
   "name": "Modèle_V4.ipynb",
   "provenance": []
  },
  "kernelspec": {
   "display_name": "Python 3",
   "language": "python",
   "name": "python3"
  },
  "language_info": {
   "codemirror_mode": {
    "name": "ipython",
    "version": 3
   },
   "file_extension": ".py",
   "mimetype": "text/x-python",
   "name": "python",
   "nbconvert_exporter": "python",
   "pygments_lexer": "ipython3",
   "version": "3.7.6"
  }
 },
 "nbformat": 4,
 "nbformat_minor": 1
}
